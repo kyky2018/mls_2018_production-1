{
 "cells": [
  {
   "cell_type": "code",
   "execution_count": 2,
   "metadata": {
    "slideshow": {
     "slide_type": "skip"
    }
   },
   "outputs": [
    {
     "data": {
      "text/html": [
       "<style>\n",
       "body {\n",
       "#  background-color: #FFFAFA !important;\n",
       "  border-bottom: solid 10px #FF6633 !important;\n",
       "}\n",
       "</style>"
      ],
      "text/plain": [
       "<IPython.core.display.HTML object>"
      ]
     },
     "metadata": {},
     "output_type": "display_data"
    }
   ],
   "source": [
    "%%HTML\n",
    "<style>\n",
    "body {\n",
    "#  background-color: #FFFAFA !important;\n",
    "  border-bottom: solid 10px #FF6633 !important;\n",
    "}\n",
    "</style>"
   ]
  },
  {
   "cell_type": "markdown",
   "metadata": {
    "slideshow": {
     "slide_type": "slide"
    }
   },
   "source": [
    "# アクチュアリー業務におけるPython の活用"
   ]
  },
  {
   "cell_type": "markdown",
   "metadata": {
    "slideshow": {
     "slide_type": "fragment"
    }
   },
   "source": [
    "## -AI・機械学習の活用-"
   ]
  },
  {
   "cell_type": "markdown",
   "metadata": {
    "slideshow": {
     "slide_type": "fragment"
    }
   },
   "source": [
    "本講義では、Pythonによる機械学習モデルの構築・検証プロセスを簡単なケーススタディにより学ぶとともに  \n",
    "アクチュアリー関連領域へのAI・機械学習の活用についてディスカッションします。"
   ]
  },
  {
   "cell_type": "markdown",
   "metadata": {
    "slideshow": {
     "slide_type": "slide"
    }
   },
   "source": [
    "### 初回（9/21）の目標\n",
    "\n",
    " - 機械学習の主要類型である**回帰(Regression)**と**分類(Classification)**について、ケーススタディを通じてPythonによる一般的なモデル構築・検証方法を習得（50分）\n",
    " - 研究テーマ例の紹介（5分）  \n",
    " \n",
    " ※本Notebookはセッション終了後にgithubにアップ予定です。"
   ]
  },
  {
   "cell_type": "markdown",
   "metadata": {
    "slideshow": {
     "slide_type": "fragment"
    }
   },
   "source": [
    "### ケーススタディ\n",
    "\n",
    "|#|学習類型|使用データセット|目的変数|キーワード・主要ライブラリ|\n",
    "|:---:|:---:|:---:|:---:|:---:|\n",
    "|**1**|Regression（回帰）|[CDC-Death in the United States](https://www.kaggle.com/cdc/mortality)|死亡時年齢|`引受リスク` `回帰モデル` `scikit-learn` `keras` `tensorflow` `matplotlib` `seaborn`|\n",
    "|**2**|Classification（分類）|[Credit Risk Analytics - Home Equity](http://www.creditriskanalytics.net/datasets-private.html)|デフォルト有無|`信用リスク` `分類モデル` `scikit-learn` `keras`,`tensorflow`,`matplotlib`,`seaborn`|\n"
   ]
  },
  {
   "cell_type": "markdown",
   "metadata": {
    "slideshow": {
     "slide_type": "slide"
    }
   },
   "source": [
    "### 導入1. 機械学習の類型\n",
    " - 「機械学習」という言葉は極めて多義的ですが、このコースでは以下の類型を念頭に進めます。\n",
    " \n",
    "|#|大分類|小分類|内容|本コースでの取扱|\n",
    "|:---:|:---:|:---:|:---|:---|\n",
    "|**1**|**教師あり学習**|**回帰**|学習用データ（目的変数つき）を学習することで、対象データの目的変数（数値）を推測するモデル|**第1回で取扱**|\n",
    "|**2**|**教師あり学習**|**分類**|学習用データ（目的変数つき）を学習することで、対象データの目的変数（分類）を推測するモデル|**第1回で取扱**|\n",
    "|**3**|**教師なし学習**|**クラスタリング**|学習用データ（目的変数なし）を学習することで、対象データを分類するモデル|（研究テーマ候補）|\n",
    "|**4**|**強化学習**|- |学習用データ（明示的な目的変数なし）を学習することで、推測を最適化していくモデル|（研究テーマ候補）|\n",
    "\n",
    "\n",
    "\n"
   ]
  },
  {
   "cell_type": "markdown",
   "metadata": {
    "slideshow": {
     "slide_type": "slide"
    }
   },
   "source": [
    "### 導入2. 主要ライブラリ紹介\n",
    " - Pythonでは、機械学習モデル開発に便利な既存ライブラリが多数存在します。\n",
    " - 本ケーススタディでも、これらの既存ライブラリの機能をフル活用する方針を採用します。 "
   ]
  },
  {
   "cell_type": "markdown",
   "metadata": {
    "slideshow": {
     "slide_type": "fragment"
    }
   },
   "source": [
    "|#|ライブラリ名|内容|\n",
    "|:---:|:---:|:---|\n",
    "|**1**|[numpy](http://www.numpy.org/)|数値計算・多次元配列を用いた処理|\n",
    "|**2**|[pandas](https://pandas.pydata.org/)|データフレームによる配列型データ処理|\n",
    "|**3**|[scikit-learn](http://scikit-learn.org/stable/)|機械学習ライブラリ|\n",
    "|**4**|[matplotlib](https://matplotlib.org/)|グラフ描画|\n",
    "|**5**|[seaborn](https://seaborn.pydata.org/)|より見た目にこだわったグラフ描画|\n",
    "|**6**|[keras](https://keras.io/ja/)|深層学習ライブラリ|\n",
    "|**7**|[tensorflow](https://www.tensorflow.org/?hl=ja)|Googleの深層学習ライブラリ（Kerasから呼出し可能）|\n",
    "\n",
    "（参考） [Top 20 Python libraries for data science in 2018 (blog of Igor Bobriakov)](https://medium.com/activewizards-machine-learning-company/top-20-python-libraries-for-data-science-in-2018-2ae7d1db8049)"
   ]
  }
 ],
 "metadata": {
  "celltoolbar": "Slideshow",
  "kernelspec": {
   "display_name": "Python 3",
   "language": "python",
   "name": "python3"
  },
  "language_info": {
   "codemirror_mode": {
    "name": "ipython",
    "version": 3
   },
   "file_extension": ".py",
   "mimetype": "text/x-python",
   "name": "python",
   "nbconvert_exporter": "python",
   "pygments_lexer": "ipython3",
   "version": "3.6.5"
  }
 },
 "nbformat": 4,
 "nbformat_minor": 2
}
