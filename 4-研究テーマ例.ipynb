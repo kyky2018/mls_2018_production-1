{
 "cells": [
  {
   "cell_type": "code",
   "execution_count": 1,
   "metadata": {
    "slideshow": {
     "slide_type": "skip"
    }
   },
   "outputs": [
    {
     "data": {
      "text/html": [
       "<style>\n",
       "body {\n",
       "  #background-color: #FFFAFA !important;\n",
       "  border-bottom: solid 10px #FF6633 !important;\n",
       "}\n",
       "</style>"
      ],
      "text/plain": [
       "<IPython.core.display.HTML object>"
      ]
     },
     "metadata": {},
     "output_type": "display_data"
    }
   ],
   "source": [
    "%%HTML\n",
    "<style>\n",
    "body {\n",
    "  #background-color: #FFFAFA !important;\n",
    "  border-bottom: solid 10px #FF6633 !important;\n",
    "}\n",
    "</style>"
   ]
  },
  {
   "cell_type": "markdown",
   "metadata": {
    "slideshow": {
     "slide_type": "slide"
    }
   },
   "source": [
    "# アクチュアリー業務におけるPython の活用\n",
    "## -AI・機械学習の活用-\n",
    "#### 研究テーマ例の紹介\n"
   ]
  },
  {
   "cell_type": "markdown",
   "metadata": {
    "slideshow": {
     "slide_type": "slide"
    }
   },
   "source": [
    "#### 研究テーマ例\n",
    "|#|テーマ|キーワード例|\n",
    "|:---:|:---:|:---:|\n",
    "|**1**|時系列データ取得・可視化|`日次データ` `pandas_datareader`|\n",
    "|**2**|時系列データ予測|`日次データ` `RNN` `LSTM` `GRU` `QRNN` `keras` `tensorflow`|\n",
    "|**3**|説明可能なAI|`XAI` `社会的妥当性` `ブラックボックス` `LIME`|\n",
    "|**4**|画像処理|`GAN` `CNN` `keras` `tensorflow`|\n",
    "|**5**|自然言語処理|`NLP` `word2vec`|\n",
    "|**6**|地理データ処理|`GIS` `mapbox`|\n",
    "|**7**|Python高速化|`高速化` `型宣言` `Cython`|\n",
    "|**8**|Pythonによるwebアプリ開発|`CRUD` `flask` `django`|\n",
    "|**9**|Pythonによるダッシュボード開発|`bokeh` `plotly` `dash`|\n",
    "|**10**|PythonによるExcelファイル処理|`xlwt`|\n",
    "|**11**|クラウド活用|`GCP` `AWS`|\n",
    "|**12**|Pythonの特徴・多言語との比較|`Python` `R` `Julia` `C++` `Java` `Go` `Ruby`|"
   ]
  }
 ],
 "metadata": {
  "celltoolbar": "Slideshow",
  "kernelspec": {
   "display_name": "Python 3",
   "language": "python",
   "name": "python3"
  },
  "language_info": {
   "codemirror_mode": {
    "name": "ipython",
    "version": 3
   },
   "file_extension": ".py",
   "mimetype": "text/x-python",
   "name": "python",
   "nbconvert_exporter": "python",
   "pygments_lexer": "ipython3",
   "version": "3.6.5"
  }
 },
 "nbformat": 4,
 "nbformat_minor": 2
}
