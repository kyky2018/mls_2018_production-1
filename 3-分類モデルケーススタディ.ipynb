{
 "cells": [
  {
   "cell_type": "code",
   "execution_count": 1,
   "metadata": {
    "slideshow": {
     "slide_type": "skip"
    }
   },
   "outputs": [
    {
     "data": {
      "text/html": [
       "<style>\n",
       "body {\n",
       "  #background-color: #FFFAFA !important;\n",
       "  border-bottom: solid 10px #F4BD2F !important;\n",
       "}\n",
       "</style> "
      ],
      "text/plain": [
       "<IPython.core.display.HTML object>"
      ]
     },
     "metadata": {},
     "output_type": "display_data"
    }
   ],
   "source": [
    "%%HTML\n",
    "<style>\n",
    "body {\n",
    "  #background-color: #FFFAFA !important;\n",
    "  border-bottom: solid 10px #F4BD2F !important;\n",
    "}\n",
    "</style> "
   ]
  },
  {
   "cell_type": "markdown",
   "metadata": {
    "slideshow": {
     "slide_type": "slide"
    }
   },
   "source": [
    "# 機械学習による分類(Classification)ケーススタディ"
   ]
  },
  {
   "cell_type": "markdown",
   "metadata": {
    "slideshow": {
     "slide_type": "fragment"
    }
   },
   "source": [
    " #### 本ケーススタディのステップ\n",
    "\n",
    " - Step1 データ内容確認・可視化\n",
    " - Step2 データ前処理\n",
    " - Step3 モデル構築・検証\n",
    " - Step4 最適モデルによる結果確認"
   ]
  },
  {
   "cell_type": "markdown",
   "metadata": {
    "slideshow": {
     "slide_type": "slide"
    }
   },
   "source": [
    "#### 今回試行する分類モデル\n",
    "\n",
    "|モデル|内容|使用ライブラリ|\n",
    "|:-----:|:--------:|:--------:|\n",
    "|**決定木**|ツリー状の分岐処理で最も説明力の高いものを採用|[sklearn.tree.DecisionTreeClassifier](http://scikit-learn.org/stable/modules/generated/sklearn.tree.DecisionTreeClassifier.html)|\n",
    "|**ランダムフォレスト**|複数の決定木の多数決で分類|[sklearn.ensemble.RandomForestClassifier](http://scikit-learn.org/stable/modules/generated/sklearn.ensemble.RandomForestClassifier.html#sklearn.ensemble.RandomForestClassifier)|\n",
    "|**XGBoost**|勾配ブースティングによる決定木の構築|[xgboost.XGBClassifier](https://github.com/dmlc/xgboost)|\n",
    "|**k近傍法**|説明変数に最も近い教師データによる分類|[sklearn.neighbors.KNeighborsClassifier](http://scikit-learn.org/stable/modules/generated/sklearn.neighbors.KNeighborsClassifier.html)|\n",
    "|**サポートベクターマシン**|データ分類の境界線をマージンが最小になるように定める手法|[sklearn.svm.SVC](http://scikit-learn.org/stable/modules/generated/sklearn.svm.SVC.html#sklearn.svm.SVC)\n",
    "|**多層パーセプトロン**|パーセプトロンを複数つないだ深層学習|[keras.wrappers.scikit_learn.KerasClassifier](https://keras.io/ja/scikit-learn-api/)"
   ]
  },
  {
   "cell_type": "markdown",
   "metadata": {
    "slideshow": {
     "slide_type": "slide"
    }
   },
   "source": [
    "### Step1 データ内容確認・可視化"
   ]
  },
  {
   "cell_type": "markdown",
   "metadata": {
    "slideshow": {
     "slide_type": "subslide"
    }
   },
   "source": [
    "#### 対象データセット：Credit Risk Analytics (book)\n",
    "\n",
    " - http://www.creditriskanalytics.net/datasets-private.html\n",
    " - 住宅ローンのデフォルト予測\n",
    " - 原書籍: H. Scheule, D. Roesch, B. Baesens, Credit Risk Analytics: The R Companion, Scheule Roesch Baesens, 2017.\n"
   ]
  },
  {
   "cell_type": "markdown",
   "metadata": {
    "slideshow": {
     "slide_type": "subslide"
    }
   },
   "source": [
    "#### 1-1 データ読込"
   ]
  },
  {
   "cell_type": "code",
   "execution_count": 2,
   "metadata": {
    "slideshow": {
     "slide_type": "fragment"
    }
   },
   "outputs": [],
   "source": [
    "# 基本的なライブラリをインポート\n",
    "import numpy as np\n",
    "import pandas as pd\n",
    "# 元データ読込\n",
    "df_raw =  pd.read_csv('https://storage.googleapis.com/creditscore1/hmeq.csv')"
   ]
  },
  {
   "cell_type": "markdown",
   "metadata": {
    "slideshow": {
     "slide_type": "subslide"
    }
   },
   "source": [
    "#### 1-2 データ分割\n",
    " - 本ケーススタディでは全データ(5960件)を、学習用データ（80%, 4768件）と検証用データ(20%, 1192件)に分割して使用します。"
   ]
  },
  {
   "cell_type": "code",
   "execution_count": 3,
   "metadata": {
    "slideshow": {
     "slide_type": "fragment"
    }
   },
   "outputs": [],
   "source": [
    "#データ分割\n",
    "from sklearn.model_selection import train_test_split\n",
    "df_train,  df_test, _, _ = train_test_split(df_raw, df_raw, test_size=0.2, random_state=2018)"
   ]
  },
  {
   "cell_type": "markdown",
   "metadata": {
    "slideshow": {
     "slide_type": "subslide"
    }
   },
   "source": [
    "#### 1-3 データの全体像を確認（DataFrameクラス関数を使用）\n",
    "\n",
    "|DataFrameクラス関数|内容|\n",
    "|:-----:|:--------:|\n",
    "|**`df.info()`**|行数・列数やメモリ使用量などの情報を表示|\n",
    "|**`df.head(n)`**|最初のn行を表示|\n",
    "|**`df.describe()`**|各列の情報を表示|"
   ]
  },
  {
   "cell_type": "code",
   "execution_count": 4,
   "metadata": {
    "scrolled": true,
    "slideshow": {
     "slide_type": "fragment"
    }
   },
   "outputs": [
    {
     "name": "stdout",
     "output_type": "stream",
     "text": [
      "<class 'pandas.core.frame.DataFrame'>\n",
      "Int64Index: 4768 entries, 497 to 1274\n",
      "Data columns (total 13 columns):\n",
      "BAD        4768 non-null int64\n",
      "LOAN       4768 non-null int64\n",
      "MORTDUE    4358 non-null float64\n",
      "VALUE      4677 non-null float64\n",
      "REASON     4559 non-null object\n",
      "JOB        4544 non-null object\n",
      "YOJ        4358 non-null float64\n",
      "DEROG      4215 non-null float64\n",
      "DELINQ     4319 non-null float64\n",
      "CLAGE      4533 non-null float64\n",
      "NINQ       4369 non-null float64\n",
      "CLNO       4599 non-null float64\n",
      "DEBTINC    3757 non-null float64\n",
      "dtypes: float64(9), int64(2), object(2)\n",
      "memory usage: 521.5+ KB\n"
     ]
    }
   ],
   "source": [
    "df_train.info()"
   ]
  },
  {
   "cell_type": "markdown",
   "metadata": {
    "slideshow": {
     "slide_type": "subslide"
    }
   },
   "source": [
    "#### 1-4 データ定義を確認 ([著者website](http://www.creditriskanalytics.net/datasets-private.html)より)\n",
    "\n",
    "|field|content|\n",
    "|:-----:|:--------:|\n",
    "|**BAD**|1 = applicant defaulted on loan or seriously delinquent; 0 = applicant paid loan（=**目的変数**）|\n",
    "|LOAN|Amount of the loan request|\n",
    "|MORTDUE|Amount due on existing mortgage|\n",
    "|VALUE|Value of current property|\n",
    "|REASON|DebtCon = debt consolidation; HomeImp = home improvement|\n",
    "|JOB|Occupational categories|\n",
    "|YOJ|Years at present job|\n",
    "|DEROG|Number of major derogatory reports|\n",
    "|DELINQ|Number of delinquent credit lines|\n",
    "|CLAGE|Age of oldest credit line in months|\n",
    "|NINQ|Number of recent credit inquiries|\n",
    "|CLNO|Number of credit lines|\n",
    "|DEBTINC|Debt-to-income ratio|"
   ]
  },
  {
   "cell_type": "code",
   "execution_count": 5,
   "metadata": {
    "slideshow": {
     "slide_type": "subslide"
    }
   },
   "outputs": [
    {
     "data": {
      "text/html": [
       "<div>\n",
       "<style scoped>\n",
       "    .dataframe tbody tr th:only-of-type {\n",
       "        vertical-align: middle;\n",
       "    }\n",
       "\n",
       "    .dataframe tbody tr th {\n",
       "        vertical-align: top;\n",
       "    }\n",
       "\n",
       "    .dataframe thead th {\n",
       "        text-align: right;\n",
       "    }\n",
       "</style>\n",
       "<table border=\"1\" class=\"dataframe\">\n",
       "  <thead>\n",
       "    <tr style=\"text-align: right;\">\n",
       "      <th></th>\n",
       "      <th>BAD</th>\n",
       "      <th>LOAN</th>\n",
       "      <th>MORTDUE</th>\n",
       "      <th>VALUE</th>\n",
       "      <th>REASON</th>\n",
       "      <th>JOB</th>\n",
       "      <th>YOJ</th>\n",
       "      <th>DEROG</th>\n",
       "      <th>DELINQ</th>\n",
       "      <th>CLAGE</th>\n",
       "      <th>NINQ</th>\n",
       "      <th>CLNO</th>\n",
       "      <th>DEBTINC</th>\n",
       "    </tr>\n",
       "  </thead>\n",
       "  <tbody>\n",
       "    <tr>\n",
       "      <th>497</th>\n",
       "      <td>1</td>\n",
       "      <td>7000</td>\n",
       "      <td>25000.0</td>\n",
       "      <td>49840.0</td>\n",
       "      <td>DebtCon</td>\n",
       "      <td>Office</td>\n",
       "      <td>0.6</td>\n",
       "      <td>0.0</td>\n",
       "      <td>0.0</td>\n",
       "      <td>139.000000</td>\n",
       "      <td>0.0</td>\n",
       "      <td>13.0</td>\n",
       "      <td>NaN</td>\n",
       "    </tr>\n",
       "    <tr>\n",
       "      <th>5240</th>\n",
       "      <td>0</td>\n",
       "      <td>28400</td>\n",
       "      <td>53480.0</td>\n",
       "      <td>90560.0</td>\n",
       "      <td>DebtCon</td>\n",
       "      <td>Other</td>\n",
       "      <td>24.0</td>\n",
       "      <td>0.0</td>\n",
       "      <td>1.0</td>\n",
       "      <td>174.474724</td>\n",
       "      <td>0.0</td>\n",
       "      <td>19.0</td>\n",
       "      <td>24.490839</td>\n",
       "    </tr>\n",
       "    <tr>\n",
       "      <th>1941</th>\n",
       "      <td>0</td>\n",
       "      <td>12700</td>\n",
       "      <td>72164.0</td>\n",
       "      <td>104220.0</td>\n",
       "      <td>DebtCon</td>\n",
       "      <td>Office</td>\n",
       "      <td>10.0</td>\n",
       "      <td>0.0</td>\n",
       "      <td>0.0</td>\n",
       "      <td>165.430782</td>\n",
       "      <td>0.0</td>\n",
       "      <td>13.0</td>\n",
       "      <td>37.539963</td>\n",
       "    </tr>\n",
       "    <tr>\n",
       "      <th>567</th>\n",
       "      <td>0</td>\n",
       "      <td>7500</td>\n",
       "      <td>72097.0</td>\n",
       "      <td>69408.0</td>\n",
       "      <td>HomeImp</td>\n",
       "      <td>Sales</td>\n",
       "      <td>4.0</td>\n",
       "      <td>1.0</td>\n",
       "      <td>0.0</td>\n",
       "      <td>155.391962</td>\n",
       "      <td>1.0</td>\n",
       "      <td>23.0</td>\n",
       "      <td>41.600983</td>\n",
       "    </tr>\n",
       "    <tr>\n",
       "      <th>513</th>\n",
       "      <td>0</td>\n",
       "      <td>7100</td>\n",
       "      <td>120176.0</td>\n",
       "      <td>180104.0</td>\n",
       "      <td>DebtCon</td>\n",
       "      <td>Other</td>\n",
       "      <td>8.0</td>\n",
       "      <td>0.0</td>\n",
       "      <td>0.0</td>\n",
       "      <td>221.607324</td>\n",
       "      <td>0.0</td>\n",
       "      <td>18.0</td>\n",
       "      <td>32.674359</td>\n",
       "    </tr>\n",
       "    <tr>\n",
       "      <th>2659</th>\n",
       "      <td>0</td>\n",
       "      <td>15200</td>\n",
       "      <td>NaN</td>\n",
       "      <td>67103.0</td>\n",
       "      <td>NaN</td>\n",
       "      <td>NaN</td>\n",
       "      <td>1.0</td>\n",
       "      <td>0.0</td>\n",
       "      <td>0.0</td>\n",
       "      <td>NaN</td>\n",
       "      <td>0.0</td>\n",
       "      <td>0.0</td>\n",
       "      <td>3.688958</td>\n",
       "    </tr>\n",
       "    <tr>\n",
       "      <th>598</th>\n",
       "      <td>0</td>\n",
       "      <td>7600</td>\n",
       "      <td>58622.0</td>\n",
       "      <td>77726.0</td>\n",
       "      <td>HomeImp</td>\n",
       "      <td>Other</td>\n",
       "      <td>15.0</td>\n",
       "      <td>0.0</td>\n",
       "      <td>0.0</td>\n",
       "      <td>249.633761</td>\n",
       "      <td>2.0</td>\n",
       "      <td>36.0</td>\n",
       "      <td>34.882066</td>\n",
       "    </tr>\n",
       "    <tr>\n",
       "      <th>585</th>\n",
       "      <td>1</td>\n",
       "      <td>7500</td>\n",
       "      <td>NaN</td>\n",
       "      <td>71799.0</td>\n",
       "      <td>HomeImp</td>\n",
       "      <td>Mgr</td>\n",
       "      <td>4.0</td>\n",
       "      <td>0.0</td>\n",
       "      <td>3.0</td>\n",
       "      <td>177.500000</td>\n",
       "      <td>0.0</td>\n",
       "      <td>22.0</td>\n",
       "      <td>NaN</td>\n",
       "    </tr>\n",
       "    <tr>\n",
       "      <th>4245</th>\n",
       "      <td>0</td>\n",
       "      <td>22100</td>\n",
       "      <td>24000.0</td>\n",
       "      <td>49000.0</td>\n",
       "      <td>DebtCon</td>\n",
       "      <td>Other</td>\n",
       "      <td>14.4</td>\n",
       "      <td>0.0</td>\n",
       "      <td>0.0</td>\n",
       "      <td>109.566667</td>\n",
       "      <td>2.0</td>\n",
       "      <td>25.0</td>\n",
       "      <td>NaN</td>\n",
       "    </tr>\n",
       "    <tr>\n",
       "      <th>1736</th>\n",
       "      <td>0</td>\n",
       "      <td>12000</td>\n",
       "      <td>85039.0</td>\n",
       "      <td>111100.0</td>\n",
       "      <td>DebtCon</td>\n",
       "      <td>ProfExe</td>\n",
       "      <td>0.2</td>\n",
       "      <td>1.0</td>\n",
       "      <td>2.0</td>\n",
       "      <td>144.066667</td>\n",
       "      <td>1.0</td>\n",
       "      <td>34.0</td>\n",
       "      <td>NaN</td>\n",
       "    </tr>\n",
       "  </tbody>\n",
       "</table>\n",
       "</div>"
      ],
      "text/plain": [
       "      BAD   LOAN   MORTDUE     VALUE   REASON      JOB   YOJ  DEROG  DELINQ  \\\n",
       "497     1   7000   25000.0   49840.0  DebtCon   Office   0.6    0.0     0.0   \n",
       "5240    0  28400   53480.0   90560.0  DebtCon    Other  24.0    0.0     1.0   \n",
       "1941    0  12700   72164.0  104220.0  DebtCon   Office  10.0    0.0     0.0   \n",
       "567     0   7500   72097.0   69408.0  HomeImp    Sales   4.0    1.0     0.0   \n",
       "513     0   7100  120176.0  180104.0  DebtCon    Other   8.0    0.0     0.0   \n",
       "2659    0  15200       NaN   67103.0      NaN      NaN   1.0    0.0     0.0   \n",
       "598     0   7600   58622.0   77726.0  HomeImp    Other  15.0    0.0     0.0   \n",
       "585     1   7500       NaN   71799.0  HomeImp      Mgr   4.0    0.0     3.0   \n",
       "4245    0  22100   24000.0   49000.0  DebtCon    Other  14.4    0.0     0.0   \n",
       "1736    0  12000   85039.0  111100.0  DebtCon  ProfExe   0.2    1.0     2.0   \n",
       "\n",
       "           CLAGE  NINQ  CLNO    DEBTINC  \n",
       "497   139.000000   0.0  13.0        NaN  \n",
       "5240  174.474724   0.0  19.0  24.490839  \n",
       "1941  165.430782   0.0  13.0  37.539963  \n",
       "567   155.391962   1.0  23.0  41.600983  \n",
       "513   221.607324   0.0  18.0  32.674359  \n",
       "2659         NaN   0.0   0.0   3.688958  \n",
       "598   249.633761   2.0  36.0  34.882066  \n",
       "585   177.500000   0.0  22.0        NaN  \n",
       "4245  109.566667   2.0  25.0        NaN  \n",
       "1736  144.066667   1.0  34.0        NaN  "
      ]
     },
     "execution_count": 5,
     "metadata": {},
     "output_type": "execute_result"
    }
   ],
   "source": [
    "# 最初のn行を表示\n",
    "df_train.head(10)"
   ]
  },
  {
   "cell_type": "code",
   "execution_count": 6,
   "metadata": {
    "slideshow": {
     "slide_type": "subslide"
    }
   },
   "outputs": [
    {
     "data": {
      "text/html": [
       "<div>\n",
       "<style scoped>\n",
       "    .dataframe tbody tr th:only-of-type {\n",
       "        vertical-align: middle;\n",
       "    }\n",
       "\n",
       "    .dataframe tbody tr th {\n",
       "        vertical-align: top;\n",
       "    }\n",
       "\n",
       "    .dataframe thead th {\n",
       "        text-align: right;\n",
       "    }\n",
       "</style>\n",
       "<table border=\"1\" class=\"dataframe\">\n",
       "  <thead>\n",
       "    <tr style=\"text-align: right;\">\n",
       "      <th></th>\n",
       "      <th>BAD</th>\n",
       "      <th>LOAN</th>\n",
       "      <th>MORTDUE</th>\n",
       "      <th>VALUE</th>\n",
       "      <th>YOJ</th>\n",
       "      <th>DEROG</th>\n",
       "      <th>DELINQ</th>\n",
       "      <th>CLAGE</th>\n",
       "      <th>NINQ</th>\n",
       "      <th>CLNO</th>\n",
       "      <th>DEBTINC</th>\n",
       "    </tr>\n",
       "  </thead>\n",
       "  <tbody>\n",
       "    <tr>\n",
       "      <th>count</th>\n",
       "      <td>4768.000000</td>\n",
       "      <td>4768.000000</td>\n",
       "      <td>4358.000000</td>\n",
       "      <td>4677.000000</td>\n",
       "      <td>4358.000000</td>\n",
       "      <td>4215.000000</td>\n",
       "      <td>4319.000000</td>\n",
       "      <td>4533.000000</td>\n",
       "      <td>4369.000000</td>\n",
       "      <td>4599.000000</td>\n",
       "      <td>3757.000000</td>\n",
       "    </tr>\n",
       "    <tr>\n",
       "      <th>mean</th>\n",
       "      <td>0.198406</td>\n",
       "      <td>18676.174497</td>\n",
       "      <td>73445.724507</td>\n",
       "      <td>101590.795089</td>\n",
       "      <td>8.955863</td>\n",
       "      <td>0.252432</td>\n",
       "      <td>0.448947</td>\n",
       "      <td>180.135836</td>\n",
       "      <td>1.197528</td>\n",
       "      <td>21.290933</td>\n",
       "      <td>33.745125</td>\n",
       "    </tr>\n",
       "    <tr>\n",
       "      <th>std</th>\n",
       "      <td>0.398841</td>\n",
       "      <td>11277.823933</td>\n",
       "      <td>44881.663041</td>\n",
       "      <td>57423.329864</td>\n",
       "      <td>7.613783</td>\n",
       "      <td>0.844791</td>\n",
       "      <td>1.122684</td>\n",
       "      <td>86.735052</td>\n",
       "      <td>1.734596</td>\n",
       "      <td>10.102699</td>\n",
       "      <td>8.862992</td>\n",
       "    </tr>\n",
       "    <tr>\n",
       "      <th>min</th>\n",
       "      <td>0.000000</td>\n",
       "      <td>1100.000000</td>\n",
       "      <td>2063.000000</td>\n",
       "      <td>8000.000000</td>\n",
       "      <td>0.000000</td>\n",
       "      <td>0.000000</td>\n",
       "      <td>0.000000</td>\n",
       "      <td>0.000000</td>\n",
       "      <td>0.000000</td>\n",
       "      <td>0.000000</td>\n",
       "      <td>0.524499</td>\n",
       "    </tr>\n",
       "    <tr>\n",
       "      <th>25%</th>\n",
       "      <td>0.000000</td>\n",
       "      <td>11100.000000</td>\n",
       "      <td>45960.750000</td>\n",
       "      <td>66000.000000</td>\n",
       "      <td>3.000000</td>\n",
       "      <td>0.000000</td>\n",
       "      <td>0.000000</td>\n",
       "      <td>115.193321</td>\n",
       "      <td>0.000000</td>\n",
       "      <td>14.500000</td>\n",
       "      <td>29.055433</td>\n",
       "    </tr>\n",
       "    <tr>\n",
       "      <th>50%</th>\n",
       "      <td>0.000000</td>\n",
       "      <td>16400.000000</td>\n",
       "      <td>64806.500000</td>\n",
       "      <td>89061.000000</td>\n",
       "      <td>7.000000</td>\n",
       "      <td>0.000000</td>\n",
       "      <td>0.000000</td>\n",
       "      <td>173.500000</td>\n",
       "      <td>1.000000</td>\n",
       "      <td>20.000000</td>\n",
       "      <td>34.871643</td>\n",
       "    </tr>\n",
       "    <tr>\n",
       "      <th>75%</th>\n",
       "      <td>0.000000</td>\n",
       "      <td>23325.000000</td>\n",
       "      <td>91003.000000</td>\n",
       "      <td>119326.000000</td>\n",
       "      <td>13.000000</td>\n",
       "      <td>0.000000</td>\n",
       "      <td>0.000000</td>\n",
       "      <td>230.880154</td>\n",
       "      <td>2.000000</td>\n",
       "      <td>26.000000</td>\n",
       "      <td>39.048428</td>\n",
       "    </tr>\n",
       "    <tr>\n",
       "      <th>max</th>\n",
       "      <td>1.000000</td>\n",
       "      <td>89900.000000</td>\n",
       "      <td>399550.000000</td>\n",
       "      <td>855909.000000</td>\n",
       "      <td>36.000000</td>\n",
       "      <td>10.000000</td>\n",
       "      <td>15.000000</td>\n",
       "      <td>1168.233561</td>\n",
       "      <td>17.000000</td>\n",
       "      <td>71.000000</td>\n",
       "      <td>203.312149</td>\n",
       "    </tr>\n",
       "  </tbody>\n",
       "</table>\n",
       "</div>"
      ],
      "text/plain": [
       "               BAD          LOAN        MORTDUE          VALUE          YOJ  \\\n",
       "count  4768.000000   4768.000000    4358.000000    4677.000000  4358.000000   \n",
       "mean      0.198406  18676.174497   73445.724507  101590.795089     8.955863   \n",
       "std       0.398841  11277.823933   44881.663041   57423.329864     7.613783   \n",
       "min       0.000000   1100.000000    2063.000000    8000.000000     0.000000   \n",
       "25%       0.000000  11100.000000   45960.750000   66000.000000     3.000000   \n",
       "50%       0.000000  16400.000000   64806.500000   89061.000000     7.000000   \n",
       "75%       0.000000  23325.000000   91003.000000  119326.000000    13.000000   \n",
       "max       1.000000  89900.000000  399550.000000  855909.000000    36.000000   \n",
       "\n",
       "             DEROG       DELINQ        CLAGE         NINQ         CLNO  \\\n",
       "count  4215.000000  4319.000000  4533.000000  4369.000000  4599.000000   \n",
       "mean      0.252432     0.448947   180.135836     1.197528    21.290933   \n",
       "std       0.844791     1.122684    86.735052     1.734596    10.102699   \n",
       "min       0.000000     0.000000     0.000000     0.000000     0.000000   \n",
       "25%       0.000000     0.000000   115.193321     0.000000    14.500000   \n",
       "50%       0.000000     0.000000   173.500000     1.000000    20.000000   \n",
       "75%       0.000000     0.000000   230.880154     2.000000    26.000000   \n",
       "max      10.000000    15.000000  1168.233561    17.000000    71.000000   \n",
       "\n",
       "           DEBTINC  \n",
       "count  3757.000000  \n",
       "mean     33.745125  \n",
       "std       8.862992  \n",
       "min       0.524499  \n",
       "25%      29.055433  \n",
       "50%      34.871643  \n",
       "75%      39.048428  \n",
       "max     203.312149  "
      ]
     },
     "execution_count": 6,
     "metadata": {},
     "output_type": "execute_result"
    }
   ],
   "source": [
    "# 各列の情報を表示（特にmin/maxをチェック）\n",
    "df_train.describe()"
   ]
  },
  {
   "cell_type": "markdown",
   "metadata": {
    "slideshow": {
     "slide_type": "subslide"
    }
   },
   "source": [
    "#### 1-5 データ全体像把握の結果\n",
    " - 各説明変数にNANあり。本ケーススタディでは簡便な対応（unknown/medianで補完）"
   ]
  },
  {
   "cell_type": "code",
   "execution_count": 7,
   "metadata": {
    "slideshow": {
     "slide_type": "fragment"
    }
   },
   "outputs": [],
   "source": [
    "# 目的変数定義\n",
    "name_obj = 'BAD'\n",
    "# 説明変数分類\n",
    "names_num = ['LOAN','MORTDUE','VALUE','YOJ','DEROG','DELINQ','CLAGE','NINQ','CLNO','DEBTINC']\n",
    "names_ord = []\n",
    "names_nominal = ['REASON','JOB']\n",
    "names_all = names_num + names_ord + names_nominal"
   ]
  },
  {
   "cell_type": "code",
   "execution_count": 8,
   "metadata": {
    "slideshow": {
     "slide_type": "fragment"
    }
   },
   "outputs": [],
   "source": [
    "# num変数はmedianで補完\n",
    "df_train2_num = df_train[names_num].fillna(df_train[names_num].median())\n",
    "# nominal変数はunknownで補完\n",
    "df_train2_nominal = df_train[names_nominal].fillna('Unknown')\n",
    "df_train2 = pd.concat([df_train[name_obj],df_train2_num,df_train2_nominal], axis=1)"
   ]
  },
  {
   "cell_type": "code",
   "execution_count": 9,
   "metadata": {
    "slideshow": {
     "slide_type": "subslide"
    }
   },
   "outputs": [
    {
     "data": {
      "text/html": [
       "<div>\n",
       "<style scoped>\n",
       "    .dataframe tbody tr th:only-of-type {\n",
       "        vertical-align: middle;\n",
       "    }\n",
       "\n",
       "    .dataframe tbody tr th {\n",
       "        vertical-align: top;\n",
       "    }\n",
       "\n",
       "    .dataframe thead th {\n",
       "        text-align: right;\n",
       "    }\n",
       "</style>\n",
       "<table border=\"1\" class=\"dataframe\">\n",
       "  <thead>\n",
       "    <tr style=\"text-align: right;\">\n",
       "      <th></th>\n",
       "      <th>BAD</th>\n",
       "      <th>LOAN</th>\n",
       "      <th>MORTDUE</th>\n",
       "      <th>VALUE</th>\n",
       "      <th>YOJ</th>\n",
       "      <th>DEROG</th>\n",
       "      <th>DELINQ</th>\n",
       "      <th>CLAGE</th>\n",
       "      <th>NINQ</th>\n",
       "      <th>CLNO</th>\n",
       "      <th>DEBTINC</th>\n",
       "      <th>REASON</th>\n",
       "      <th>JOB</th>\n",
       "    </tr>\n",
       "  </thead>\n",
       "  <tbody>\n",
       "    <tr>\n",
       "      <th>497</th>\n",
       "      <td>1</td>\n",
       "      <td>7000</td>\n",
       "      <td>25000.0</td>\n",
       "      <td>49840.0</td>\n",
       "      <td>0.6</td>\n",
       "      <td>0.0</td>\n",
       "      <td>0.0</td>\n",
       "      <td>139.000000</td>\n",
       "      <td>0.0</td>\n",
       "      <td>13.0</td>\n",
       "      <td>34.871643</td>\n",
       "      <td>DebtCon</td>\n",
       "      <td>Office</td>\n",
       "    </tr>\n",
       "    <tr>\n",
       "      <th>5240</th>\n",
       "      <td>0</td>\n",
       "      <td>28400</td>\n",
       "      <td>53480.0</td>\n",
       "      <td>90560.0</td>\n",
       "      <td>24.0</td>\n",
       "      <td>0.0</td>\n",
       "      <td>1.0</td>\n",
       "      <td>174.474724</td>\n",
       "      <td>0.0</td>\n",
       "      <td>19.0</td>\n",
       "      <td>24.490839</td>\n",
       "      <td>DebtCon</td>\n",
       "      <td>Other</td>\n",
       "    </tr>\n",
       "    <tr>\n",
       "      <th>1941</th>\n",
       "      <td>0</td>\n",
       "      <td>12700</td>\n",
       "      <td>72164.0</td>\n",
       "      <td>104220.0</td>\n",
       "      <td>10.0</td>\n",
       "      <td>0.0</td>\n",
       "      <td>0.0</td>\n",
       "      <td>165.430782</td>\n",
       "      <td>0.0</td>\n",
       "      <td>13.0</td>\n",
       "      <td>37.539963</td>\n",
       "      <td>DebtCon</td>\n",
       "      <td>Office</td>\n",
       "    </tr>\n",
       "    <tr>\n",
       "      <th>567</th>\n",
       "      <td>0</td>\n",
       "      <td>7500</td>\n",
       "      <td>72097.0</td>\n",
       "      <td>69408.0</td>\n",
       "      <td>4.0</td>\n",
       "      <td>1.0</td>\n",
       "      <td>0.0</td>\n",
       "      <td>155.391962</td>\n",
       "      <td>1.0</td>\n",
       "      <td>23.0</td>\n",
       "      <td>41.600983</td>\n",
       "      <td>HomeImp</td>\n",
       "      <td>Sales</td>\n",
       "    </tr>\n",
       "    <tr>\n",
       "      <th>513</th>\n",
       "      <td>0</td>\n",
       "      <td>7100</td>\n",
       "      <td>120176.0</td>\n",
       "      <td>180104.0</td>\n",
       "      <td>8.0</td>\n",
       "      <td>0.0</td>\n",
       "      <td>0.0</td>\n",
       "      <td>221.607324</td>\n",
       "      <td>0.0</td>\n",
       "      <td>18.0</td>\n",
       "      <td>32.674359</td>\n",
       "      <td>DebtCon</td>\n",
       "      <td>Other</td>\n",
       "    </tr>\n",
       "    <tr>\n",
       "      <th>2659</th>\n",
       "      <td>0</td>\n",
       "      <td>15200</td>\n",
       "      <td>64806.5</td>\n",
       "      <td>67103.0</td>\n",
       "      <td>1.0</td>\n",
       "      <td>0.0</td>\n",
       "      <td>0.0</td>\n",
       "      <td>173.500000</td>\n",
       "      <td>0.0</td>\n",
       "      <td>0.0</td>\n",
       "      <td>3.688958</td>\n",
       "      <td>Unknown</td>\n",
       "      <td>Unknown</td>\n",
       "    </tr>\n",
       "    <tr>\n",
       "      <th>598</th>\n",
       "      <td>0</td>\n",
       "      <td>7600</td>\n",
       "      <td>58622.0</td>\n",
       "      <td>77726.0</td>\n",
       "      <td>15.0</td>\n",
       "      <td>0.0</td>\n",
       "      <td>0.0</td>\n",
       "      <td>249.633761</td>\n",
       "      <td>2.0</td>\n",
       "      <td>36.0</td>\n",
       "      <td>34.882066</td>\n",
       "      <td>HomeImp</td>\n",
       "      <td>Other</td>\n",
       "    </tr>\n",
       "    <tr>\n",
       "      <th>585</th>\n",
       "      <td>1</td>\n",
       "      <td>7500</td>\n",
       "      <td>64806.5</td>\n",
       "      <td>71799.0</td>\n",
       "      <td>4.0</td>\n",
       "      <td>0.0</td>\n",
       "      <td>3.0</td>\n",
       "      <td>177.500000</td>\n",
       "      <td>0.0</td>\n",
       "      <td>22.0</td>\n",
       "      <td>34.871643</td>\n",
       "      <td>HomeImp</td>\n",
       "      <td>Mgr</td>\n",
       "    </tr>\n",
       "    <tr>\n",
       "      <th>4245</th>\n",
       "      <td>0</td>\n",
       "      <td>22100</td>\n",
       "      <td>24000.0</td>\n",
       "      <td>49000.0</td>\n",
       "      <td>14.4</td>\n",
       "      <td>0.0</td>\n",
       "      <td>0.0</td>\n",
       "      <td>109.566667</td>\n",
       "      <td>2.0</td>\n",
       "      <td>25.0</td>\n",
       "      <td>34.871643</td>\n",
       "      <td>DebtCon</td>\n",
       "      <td>Other</td>\n",
       "    </tr>\n",
       "    <tr>\n",
       "      <th>1736</th>\n",
       "      <td>0</td>\n",
       "      <td>12000</td>\n",
       "      <td>85039.0</td>\n",
       "      <td>111100.0</td>\n",
       "      <td>0.2</td>\n",
       "      <td>1.0</td>\n",
       "      <td>2.0</td>\n",
       "      <td>144.066667</td>\n",
       "      <td>1.0</td>\n",
       "      <td>34.0</td>\n",
       "      <td>34.871643</td>\n",
       "      <td>DebtCon</td>\n",
       "      <td>ProfExe</td>\n",
       "    </tr>\n",
       "  </tbody>\n",
       "</table>\n",
       "</div>"
      ],
      "text/plain": [
       "      BAD   LOAN   MORTDUE     VALUE   YOJ  DEROG  DELINQ       CLAGE  NINQ  \\\n",
       "497     1   7000   25000.0   49840.0   0.6    0.0     0.0  139.000000   0.0   \n",
       "5240    0  28400   53480.0   90560.0  24.0    0.0     1.0  174.474724   0.0   \n",
       "1941    0  12700   72164.0  104220.0  10.0    0.0     0.0  165.430782   0.0   \n",
       "567     0   7500   72097.0   69408.0   4.0    1.0     0.0  155.391962   1.0   \n",
       "513     0   7100  120176.0  180104.0   8.0    0.0     0.0  221.607324   0.0   \n",
       "2659    0  15200   64806.5   67103.0   1.0    0.0     0.0  173.500000   0.0   \n",
       "598     0   7600   58622.0   77726.0  15.0    0.0     0.0  249.633761   2.0   \n",
       "585     1   7500   64806.5   71799.0   4.0    0.0     3.0  177.500000   0.0   \n",
       "4245    0  22100   24000.0   49000.0  14.4    0.0     0.0  109.566667   2.0   \n",
       "1736    0  12000   85039.0  111100.0   0.2    1.0     2.0  144.066667   1.0   \n",
       "\n",
       "      CLNO    DEBTINC   REASON      JOB  \n",
       "497   13.0  34.871643  DebtCon   Office  \n",
       "5240  19.0  24.490839  DebtCon    Other  \n",
       "1941  13.0  37.539963  DebtCon   Office  \n",
       "567   23.0  41.600983  HomeImp    Sales  \n",
       "513   18.0  32.674359  DebtCon    Other  \n",
       "2659   0.0   3.688958  Unknown  Unknown  \n",
       "598   36.0  34.882066  HomeImp    Other  \n",
       "585   22.0  34.871643  HomeImp      Mgr  \n",
       "4245  25.0  34.871643  DebtCon    Other  \n",
       "1736  34.0  34.871643  DebtCon  ProfExe  "
      ]
     },
     "execution_count": 9,
     "metadata": {},
     "output_type": "execute_result"
    }
   ],
   "source": [
    "df_train2.head(10)"
   ]
  },
  {
   "cell_type": "markdown",
   "metadata": {
    "slideshow": {
     "slide_type": "slide"
    }
   },
   "source": [
    "#### 1-6 可視化用ライブラリのインポート"
   ]
  },
  {
   "cell_type": "code",
   "execution_count": 10,
   "metadata": {
    "slideshow": {
     "slide_type": "fragment"
    }
   },
   "outputs": [],
   "source": [
    "# 描画にはmatplotlibとseabornを使用\n",
    "import matplotlib.pyplot as plt\n",
    "import seaborn as sns\n",
    "plt.style.use('seaborn-darkgrid')\n",
    "#plt.style.use('ggplot')\n",
    "\n",
    "# Outcome = 1 のインデックスを取得しておく\n",
    "idx_1 = df_train[name_obj]==1"
   ]
  },
  {
   "cell_type": "markdown",
   "metadata": {
    "slideshow": {
     "slide_type": "subslide"
    }
   },
   "source": [
    "#### 1-7 Numerical変数の可視化・検討\n",
    " - 各説明変数の分布の可視化（今回は省略）\n",
    " - **目的変数との相関関係の可視化**"
   ]
  },
  {
   "cell_type": "code",
   "execution_count": 11,
   "metadata": {
    "slideshow": {
     "slide_type": "fragment"
    }
   },
   "outputs": [
    {
     "data": {
      "image/png": "[encoded data removed]",
      "text/plain": [
       "<Figure size 1296x864 with 10 Axes>"
      ]
     },
     "metadata": {},
     "output_type": "display_data"
    }
   ],
   "source": [
    "# 目的変数との相関関係の可視化（横軸が目的変数、縦軸が説明変数）\n",
    "fig = plt.figure(figsize=(18,12))\n",
    "for i, name in enumerate(names_num):\n",
    "    ax = fig.add_subplot(4,3,i+1)\n",
    "    sns.boxplot(data=df_train2, y=name ,x=name_obj, orient='v', ax=ax)"
   ]
  },
  {
   "cell_type": "markdown",
   "metadata": {
    "slideshow": {
     "slide_type": "subslide"
    }
   },
   "source": [
    "#### 1-8 Categorical変数の可視化・検討\n",
    " - 各説明変数の分布の可視化（今回は省略）\n",
    " - **目的変数との相関関係の可視化**"
   ]
  },
  {
   "cell_type": "code",
   "execution_count": 12,
   "metadata": {
    "slideshow": {
     "slide_type": "fragment"
    }
   },
   "outputs": [
    {
     "data": {
      "image/png": "[encoded data removed]",
      "text/plain": [
       "<Figure size 1296x864 with 2 Axes>"
      ]
     },
     "metadata": {},
     "output_type": "display_data"
    }
   ],
   "source": [
    "# 目的変数との相関関係の可視化（縦軸が説明変数、横軸がBAD割合）\n",
    "fig = plt.figure(figsize=(18,12))\n",
    "for i, name in enumerate(names_ord + names_nominal):\n",
    "    ax = fig.add_subplot(3,3,i+1)\n",
    "    df_train2.groupby(name).mean().plot(y=name_obj, kind='barh', ax=ax)"
   ]
  },
  {
   "cell_type": "markdown",
   "metadata": {
    "slideshow": {
     "slide_type": "subslide"
    }
   },
   "source": [
    "#### データ定義（再掲）\n",
    "\n",
    "|field|content|\n",
    "|:-----:|:--------:|\n",
    "|**BAD**|1 = applicant defaulted on loan or seriously delinquent; 0 = applicant paid loan（=**目的変数**）|\n",
    "|LOAN|Amount of the loan request|\n",
    "|MORTDUE|Amount due on existing mortgage|\n",
    "|VALUE|Value of current property|\n",
    "|REASON|DebtCon = debt consolidation; HomeImp = home improvement|\n",
    "|JOB|Occupational categories|\n",
    "|YOJ|Years at present job|\n",
    "|DEROG|Number of major derogatory reports|\n",
    "|DELINQ|Number of delinquent credit lines|\n",
    "|CLAGE|Age of oldest credit line in months|\n",
    "|NINQ|Number of recent credit inquiries|\n",
    "|CLNO|Number of credit lines|\n",
    "|DEBTINC|Debt-to-income ratio|"
   ]
  },
  {
   "cell_type": "markdown",
   "metadata": {
    "slideshow": {
     "slide_type": "slide"
    }
   },
   "source": [
    "### Step2 データ前処理"
   ]
  },
  {
   "cell_type": "markdown",
   "metadata": {
    "slideshow": {
     "slide_type": "subslide"
    }
   },
   "source": [
    "#### 2-1 データ分割\n",
    " - あらためてデータを作成します\n",
    " - 学習用データとテストデータに分ける前に、まずX（説明変数）とy（目的変数）に分割します"
   ]
  },
  {
   "cell_type": "code",
   "execution_count": 13,
   "metadata": {
    "slideshow": {
     "slide_type": "subslide"
    }
   },
   "outputs": [],
   "source": [
    "# 説明変数/目的変数分割 （Step1で識別した欠損値補間を忘れず）\n",
    "X_num = df_raw[names_num].fillna(df_raw[names_num].median())\n",
    "X_nominal = df_raw[names_nominal].fillna('Unknown')\n",
    "X = pd.concat([X_num, X_nominal], axis=1)\n",
    "y = df_raw[name_obj]"
   ]
  },
  {
   "cell_type": "markdown",
   "metadata": {
    "slideshow": {
     "slide_type": "subslide"
    }
   },
   "source": [
    "#### 2-2 Numerical変数処理\n",
    "- 標準化\n",
    "- 学習用データとテスト用データを別々に処理しないように注意"
   ]
  },
  {
   "cell_type": "code",
   "execution_count": 14,
   "metadata": {
    "slideshow": {
     "slide_type": "fragment"
    }
   },
   "outputs": [],
   "source": [
    "# names_num処理\n",
    "from sklearn.preprocessing import StandardScaler\n",
    "scaler = StandardScaler().fit(X[names_num])\n",
    "X[names_num]=scaler.transform(X[names_num])"
   ]
  },
  {
   "cell_type": "code",
   "execution_count": 15,
   "metadata": {
    "slideshow": {
     "slide_type": "subslide"
    }
   },
   "outputs": [
    {
     "data": {
      "text/html": [
       "<div>\n",
       "<style scoped>\n",
       "    .dataframe tbody tr th:only-of-type {\n",
       "        vertical-align: middle;\n",
       "    }\n",
       "\n",
       "    .dataframe tbody tr th {\n",
       "        vertical-align: top;\n",
       "    }\n",
       "\n",
       "    .dataframe thead th {\n",
       "        text-align: right;\n",
       "    }\n",
       "</style>\n",
       "<table border=\"1\" class=\"dataframe\">\n",
       "  <thead>\n",
       "    <tr style=\"text-align: right;\">\n",
       "      <th></th>\n",
       "      <th>LOAN</th>\n",
       "      <th>MORTDUE</th>\n",
       "      <th>VALUE</th>\n",
       "      <th>YOJ</th>\n",
       "      <th>DEROG</th>\n",
       "      <th>DELINQ</th>\n",
       "      <th>CLAGE</th>\n",
       "      <th>NINQ</th>\n",
       "      <th>CLNO</th>\n",
       "      <th>DEBTINC</th>\n",
       "    </tr>\n",
       "  </thead>\n",
       "  <tbody>\n",
       "    <tr>\n",
       "      <th>0</th>\n",
       "      <td>-1.562299</td>\n",
       "      <td>-1.107920</td>\n",
       "      <td>-1.099371</td>\n",
       "      <td>0.240237</td>\n",
       "      <td>-0.280976</td>\n",
       "      <td>-0.375943</td>\n",
       "      <td>-1.018026</td>\n",
       "      <td>-0.102879</td>\n",
       "      <td>-1.230878</td>\n",
       "      <td>0.106963</td>\n",
       "    </tr>\n",
       "    <tr>\n",
       "      <th>1</th>\n",
       "      <td>-1.544453</td>\n",
       "      <td>-0.069286</td>\n",
       "      <td>-0.582794</td>\n",
       "      <td>-0.241936</td>\n",
       "      <td>-0.280976</td>\n",
       "      <td>1.477341</td>\n",
       "      <td>-0.689350</td>\n",
       "      <td>-0.707574</td>\n",
       "      <td>-0.728389</td>\n",
       "      <td>0.106963</td>\n",
       "    </tr>\n",
       "    <tr>\n",
       "      <th>2</th>\n",
       "      <td>-1.526606</td>\n",
       "      <td>-1.398407</td>\n",
       "      <td>-1.491970</td>\n",
       "      <td>-0.655226</td>\n",
       "      <td>-0.280976</td>\n",
       "      <td>-0.375943</td>\n",
       "      <td>-0.358680</td>\n",
       "      <td>-0.102879</td>\n",
       "      <td>-1.130380</td>\n",
       "      <td>0.106963</td>\n",
       "    </tr>\n",
       "    <tr>\n",
       "      <th>3</th>\n",
       "      <td>-1.526606</td>\n",
       "      <td>-0.187596</td>\n",
       "      <td>-0.216389</td>\n",
       "      <td>-0.241936</td>\n",
       "      <td>-0.280976</td>\n",
       "      <td>-0.375943</td>\n",
       "      <td>-0.071488</td>\n",
       "      <td>-0.102879</td>\n",
       "      <td>-0.125403</td>\n",
       "      <td>0.106963</td>\n",
       "    </tr>\n",
       "    <tr>\n",
       "      <th>4</th>\n",
       "      <td>-1.508759</td>\n",
       "      <td>0.582831</td>\n",
       "      <td>0.183939</td>\n",
       "      <td>-0.792990</td>\n",
       "      <td>-0.280976</td>\n",
       "      <td>-0.375943</td>\n",
       "      <td>-1.030391</td>\n",
       "      <td>-0.707574</td>\n",
       "      <td>-0.728389</td>\n",
       "      <td>0.106963</td>\n",
       "    </tr>\n",
       "    <tr>\n",
       "      <th>5</th>\n",
       "      <td>-1.508759</td>\n",
       "      <td>-0.997741</td>\n",
       "      <td>-1.076598</td>\n",
       "      <td>0.033591</td>\n",
       "      <td>-0.280976</td>\n",
       "      <td>-0.375943</td>\n",
       "      <td>-0.933073</td>\n",
       "      <td>-0.102879</td>\n",
       "      <td>-1.331376</td>\n",
       "      <td>0.407249</td>\n",
       "    </tr>\n",
       "    <tr>\n",
       "      <th>6</th>\n",
       "      <td>-1.499836</td>\n",
       "      <td>-0.572327</td>\n",
       "      <td>-0.782619</td>\n",
       "      <td>-0.517463</td>\n",
       "      <td>3.476581</td>\n",
       "      <td>1.477341</td>\n",
       "      <td>-1.224645</td>\n",
       "      <td>-0.102879</td>\n",
       "      <td>-0.426896</td>\n",
       "      <td>0.106963</td>\n",
       "    </tr>\n",
       "    <tr>\n",
       "      <th>7</th>\n",
       "      <td>-1.499836</td>\n",
       "      <td>-1.045827</td>\n",
       "      <td>-1.028871</td>\n",
       "      <td>0.309118</td>\n",
       "      <td>-0.280976</td>\n",
       "      <td>-0.375943</td>\n",
       "      <td>-1.085045</td>\n",
       "      <td>-0.707574</td>\n",
       "      <td>-1.331376</td>\n",
       "      <td>0.377327</td>\n",
       "    </tr>\n",
       "    <tr>\n",
       "      <th>8</th>\n",
       "      <td>-1.481989</td>\n",
       "      <td>-0.947164</td>\n",
       "      <td>-0.963698</td>\n",
       "      <td>-0.792990</td>\n",
       "      <td>-0.280976</td>\n",
       "      <td>1.477341</td>\n",
       "      <td>0.448650</td>\n",
       "      <td>-0.102879</td>\n",
       "      <td>-0.929385</td>\n",
       "      <td>0.106963</td>\n",
       "    </tr>\n",
       "    <tr>\n",
       "      <th>9</th>\n",
       "      <td>-1.481989</td>\n",
       "      <td>-0.187596</td>\n",
       "      <td>-0.690946</td>\n",
       "      <td>0.997936</td>\n",
       "      <td>-0.280976</td>\n",
       "      <td>-0.375943</td>\n",
       "      <td>-0.761547</td>\n",
       "      <td>-0.707574</td>\n",
       "      <td>-0.828887</td>\n",
       "      <td>0.106963</td>\n",
       "    </tr>\n",
       "  </tbody>\n",
       "</table>\n",
       "</div>"
      ],
      "text/plain": [
       "       LOAN   MORTDUE     VALUE       YOJ     DEROG    DELINQ     CLAGE  \\\n",
       "0 -1.562299 -1.107920 -1.099371  0.240237 -0.280976 -0.375943 -1.018026   \n",
       "1 -1.544453 -0.069286 -0.582794 -0.241936 -0.280976  1.477341 -0.689350   \n",
       "2 -1.526606 -1.398407 -1.491970 -0.655226 -0.280976 -0.375943 -0.358680   \n",
       "3 -1.526606 -0.187596 -0.216389 -0.241936 -0.280976 -0.375943 -0.071488   \n",
       "4 -1.508759  0.582831  0.183939 -0.792990 -0.280976 -0.375943 -1.030391   \n",
       "5 -1.508759 -0.997741 -1.076598  0.033591 -0.280976 -0.375943 -0.933073   \n",
       "6 -1.499836 -0.572327 -0.782619 -0.517463  3.476581  1.477341 -1.224645   \n",
       "7 -1.499836 -1.045827 -1.028871  0.309118 -0.280976 -0.375943 -1.085045   \n",
       "8 -1.481989 -0.947164 -0.963698 -0.792990 -0.280976  1.477341  0.448650   \n",
       "9 -1.481989 -0.187596 -0.690946  0.997936 -0.280976 -0.375943 -0.761547   \n",
       "\n",
       "       NINQ      CLNO   DEBTINC  \n",
       "0 -0.102879 -1.230878  0.106963  \n",
       "1 -0.707574 -0.728389  0.106963  \n",
       "2 -0.102879 -1.130380  0.106963  \n",
       "3 -0.102879 -0.125403  0.106963  \n",
       "4 -0.707574 -0.728389  0.106963  \n",
       "5 -0.102879 -1.331376  0.407249  \n",
       "6 -0.102879 -0.426896  0.106963  \n",
       "7 -0.707574 -1.331376  0.377327  \n",
       "8 -0.102879 -0.929385  0.106963  \n",
       "9 -0.707574 -0.828887  0.106963  "
      ]
     },
     "execution_count": 15,
     "metadata": {},
     "output_type": "execute_result"
    }
   ],
   "source": [
    "X[names_num].head(10)"
   ]
  },
  {
   "cell_type": "markdown",
   "metadata": {
    "slideshow": {
     "slide_type": "subslide"
    }
   },
   "source": [
    "#### 2-3 Categorical-nominal 変数: One-Hot Encoding (OHE)\n",
    " - 学習用データとテスト用データを別々に処理しないように注意"
   ]
  },
  {
   "cell_type": "code",
   "execution_count": 16,
   "metadata": {
    "slideshow": {
     "slide_type": "fragment"
    }
   },
   "outputs": [],
   "source": [
    "# names_nominal処理\n",
    "df_dummy = pd.get_dummies(X.astype(object)[names_nominal], drop_first=True)\n",
    "X = pd.merge(X.drop(columns=names_nominal), df_dummy, left_index=True, right_index=True)"
   ]
  },
  {
   "cell_type": "markdown",
   "metadata": {
    "slideshow": {
     "slide_type": "subslide"
    }
   },
   "source": [
    "#### 出来上がったXはこんな感じ"
   ]
  },
  {
   "cell_type": "code",
   "execution_count": 17,
   "metadata": {
    "slideshow": {
     "slide_type": "fragment"
    }
   },
   "outputs": [
    {
     "data": {
      "text/html": [
       "<div>\n",
       "<style scoped>\n",
       "    .dataframe tbody tr th:only-of-type {\n",
       "        vertical-align: middle;\n",
       "    }\n",
       "\n",
       "    .dataframe tbody tr th {\n",
       "        vertical-align: top;\n",
       "    }\n",
       "\n",
       "    .dataframe thead th {\n",
       "        text-align: right;\n",
       "    }\n",
       "</style>\n",
       "<table border=\"1\" class=\"dataframe\">\n",
       "  <thead>\n",
       "    <tr style=\"text-align: right;\">\n",
       "      <th></th>\n",
       "      <th>LOAN</th>\n",
       "      <th>MORTDUE</th>\n",
       "      <th>VALUE</th>\n",
       "      <th>YOJ</th>\n",
       "      <th>DEROG</th>\n",
       "      <th>DELINQ</th>\n",
       "      <th>CLAGE</th>\n",
       "      <th>NINQ</th>\n",
       "      <th>CLNO</th>\n",
       "      <th>DEBTINC</th>\n",
       "      <th>REASON_HomeImp</th>\n",
       "      <th>REASON_Unknown</th>\n",
       "      <th>JOB_Office</th>\n",
       "      <th>JOB_Other</th>\n",
       "      <th>JOB_ProfExe</th>\n",
       "      <th>JOB_Sales</th>\n",
       "      <th>JOB_Self</th>\n",
       "      <th>JOB_Unknown</th>\n",
       "    </tr>\n",
       "  </thead>\n",
       "  <tbody>\n",
       "    <tr>\n",
       "      <th>0</th>\n",
       "      <td>-1.562299</td>\n",
       "      <td>-1.107920</td>\n",
       "      <td>-1.099371</td>\n",
       "      <td>0.240237</td>\n",
       "      <td>-0.280976</td>\n",
       "      <td>-0.375943</td>\n",
       "      <td>-1.018026</td>\n",
       "      <td>-0.102879</td>\n",
       "      <td>-1.230878</td>\n",
       "      <td>0.106963</td>\n",
       "      <td>1</td>\n",
       "      <td>0</td>\n",
       "      <td>0</td>\n",
       "      <td>1</td>\n",
       "      <td>0</td>\n",
       "      <td>0</td>\n",
       "      <td>0</td>\n",
       "      <td>0</td>\n",
       "    </tr>\n",
       "    <tr>\n",
       "      <th>1</th>\n",
       "      <td>-1.544453</td>\n",
       "      <td>-0.069286</td>\n",
       "      <td>-0.582794</td>\n",
       "      <td>-0.241936</td>\n",
       "      <td>-0.280976</td>\n",
       "      <td>1.477341</td>\n",
       "      <td>-0.689350</td>\n",
       "      <td>-0.707574</td>\n",
       "      <td>-0.728389</td>\n",
       "      <td>0.106963</td>\n",
       "      <td>1</td>\n",
       "      <td>0</td>\n",
       "      <td>0</td>\n",
       "      <td>1</td>\n",
       "      <td>0</td>\n",
       "      <td>0</td>\n",
       "      <td>0</td>\n",
       "      <td>0</td>\n",
       "    </tr>\n",
       "    <tr>\n",
       "      <th>2</th>\n",
       "      <td>-1.526606</td>\n",
       "      <td>-1.398407</td>\n",
       "      <td>-1.491970</td>\n",
       "      <td>-0.655226</td>\n",
       "      <td>-0.280976</td>\n",
       "      <td>-0.375943</td>\n",
       "      <td>-0.358680</td>\n",
       "      <td>-0.102879</td>\n",
       "      <td>-1.130380</td>\n",
       "      <td>0.106963</td>\n",
       "      <td>1</td>\n",
       "      <td>0</td>\n",
       "      <td>0</td>\n",
       "      <td>1</td>\n",
       "      <td>0</td>\n",
       "      <td>0</td>\n",
       "      <td>0</td>\n",
       "      <td>0</td>\n",
       "    </tr>\n",
       "    <tr>\n",
       "      <th>3</th>\n",
       "      <td>-1.526606</td>\n",
       "      <td>-0.187596</td>\n",
       "      <td>-0.216389</td>\n",
       "      <td>-0.241936</td>\n",
       "      <td>-0.280976</td>\n",
       "      <td>-0.375943</td>\n",
       "      <td>-0.071488</td>\n",
       "      <td>-0.102879</td>\n",
       "      <td>-0.125403</td>\n",
       "      <td>0.106963</td>\n",
       "      <td>0</td>\n",
       "      <td>1</td>\n",
       "      <td>0</td>\n",
       "      <td>0</td>\n",
       "      <td>0</td>\n",
       "      <td>0</td>\n",
       "      <td>0</td>\n",
       "      <td>1</td>\n",
       "    </tr>\n",
       "    <tr>\n",
       "      <th>4</th>\n",
       "      <td>-1.508759</td>\n",
       "      <td>0.582831</td>\n",
       "      <td>0.183939</td>\n",
       "      <td>-0.792990</td>\n",
       "      <td>-0.280976</td>\n",
       "      <td>-0.375943</td>\n",
       "      <td>-1.030391</td>\n",
       "      <td>-0.707574</td>\n",
       "      <td>-0.728389</td>\n",
       "      <td>0.106963</td>\n",
       "      <td>1</td>\n",
       "      <td>0</td>\n",
       "      <td>1</td>\n",
       "      <td>0</td>\n",
       "      <td>0</td>\n",
       "      <td>0</td>\n",
       "      <td>0</td>\n",
       "      <td>0</td>\n",
       "    </tr>\n",
       "    <tr>\n",
       "      <th>5</th>\n",
       "      <td>-1.508759</td>\n",
       "      <td>-0.997741</td>\n",
       "      <td>-1.076598</td>\n",
       "      <td>0.033591</td>\n",
       "      <td>-0.280976</td>\n",
       "      <td>-0.375943</td>\n",
       "      <td>-0.933073</td>\n",
       "      <td>-0.102879</td>\n",
       "      <td>-1.331376</td>\n",
       "      <td>0.407249</td>\n",
       "      <td>1</td>\n",
       "      <td>0</td>\n",
       "      <td>0</td>\n",
       "      <td>1</td>\n",
       "      <td>0</td>\n",
       "      <td>0</td>\n",
       "      <td>0</td>\n",
       "      <td>0</td>\n",
       "    </tr>\n",
       "    <tr>\n",
       "      <th>6</th>\n",
       "      <td>-1.499836</td>\n",
       "      <td>-0.572327</td>\n",
       "      <td>-0.782619</td>\n",
       "      <td>-0.517463</td>\n",
       "      <td>3.476581</td>\n",
       "      <td>1.477341</td>\n",
       "      <td>-1.224645</td>\n",
       "      <td>-0.102879</td>\n",
       "      <td>-0.426896</td>\n",
       "      <td>0.106963</td>\n",
       "      <td>1</td>\n",
       "      <td>0</td>\n",
       "      <td>0</td>\n",
       "      <td>1</td>\n",
       "      <td>0</td>\n",
       "      <td>0</td>\n",
       "      <td>0</td>\n",
       "      <td>0</td>\n",
       "    </tr>\n",
       "    <tr>\n",
       "      <th>7</th>\n",
       "      <td>-1.499836</td>\n",
       "      <td>-1.045827</td>\n",
       "      <td>-1.028871</td>\n",
       "      <td>0.309118</td>\n",
       "      <td>-0.280976</td>\n",
       "      <td>-0.375943</td>\n",
       "      <td>-1.085045</td>\n",
       "      <td>-0.707574</td>\n",
       "      <td>-1.331376</td>\n",
       "      <td>0.377327</td>\n",
       "      <td>1</td>\n",
       "      <td>0</td>\n",
       "      <td>0</td>\n",
       "      <td>1</td>\n",
       "      <td>0</td>\n",
       "      <td>0</td>\n",
       "      <td>0</td>\n",
       "      <td>0</td>\n",
       "    </tr>\n",
       "    <tr>\n",
       "      <th>8</th>\n",
       "      <td>-1.481989</td>\n",
       "      <td>-0.947164</td>\n",
       "      <td>-0.963698</td>\n",
       "      <td>-0.792990</td>\n",
       "      <td>-0.280976</td>\n",
       "      <td>1.477341</td>\n",
       "      <td>0.448650</td>\n",
       "      <td>-0.102879</td>\n",
       "      <td>-0.929385</td>\n",
       "      <td>0.106963</td>\n",
       "      <td>1</td>\n",
       "      <td>0</td>\n",
       "      <td>0</td>\n",
       "      <td>1</td>\n",
       "      <td>0</td>\n",
       "      <td>0</td>\n",
       "      <td>0</td>\n",
       "      <td>0</td>\n",
       "    </tr>\n",
       "    <tr>\n",
       "      <th>9</th>\n",
       "      <td>-1.481989</td>\n",
       "      <td>-0.187596</td>\n",
       "      <td>-0.690946</td>\n",
       "      <td>0.997936</td>\n",
       "      <td>-0.280976</td>\n",
       "      <td>-0.375943</td>\n",
       "      <td>-0.761547</td>\n",
       "      <td>-0.707574</td>\n",
       "      <td>-0.828887</td>\n",
       "      <td>0.106963</td>\n",
       "      <td>1</td>\n",
       "      <td>0</td>\n",
       "      <td>0</td>\n",
       "      <td>0</td>\n",
       "      <td>0</td>\n",
       "      <td>1</td>\n",
       "      <td>0</td>\n",
       "      <td>0</td>\n",
       "    </tr>\n",
       "  </tbody>\n",
       "</table>\n",
       "</div>"
      ],
      "text/plain": [
       "       LOAN   MORTDUE     VALUE       YOJ     DEROG    DELINQ     CLAGE  \\\n",
       "0 -1.562299 -1.107920 -1.099371  0.240237 -0.280976 -0.375943 -1.018026   \n",
       "1 -1.544453 -0.069286 -0.582794 -0.241936 -0.280976  1.477341 -0.689350   \n",
       "2 -1.526606 -1.398407 -1.491970 -0.655226 -0.280976 -0.375943 -0.358680   \n",
       "3 -1.526606 -0.187596 -0.216389 -0.241936 -0.280976 -0.375943 -0.071488   \n",
       "4 -1.508759  0.582831  0.183939 -0.792990 -0.280976 -0.375943 -1.030391   \n",
       "5 -1.508759 -0.997741 -1.076598  0.033591 -0.280976 -0.375943 -0.933073   \n",
       "6 -1.499836 -0.572327 -0.782619 -0.517463  3.476581  1.477341 -1.224645   \n",
       "7 -1.499836 -1.045827 -1.028871  0.309118 -0.280976 -0.375943 -1.085045   \n",
       "8 -1.481989 -0.947164 -0.963698 -0.792990 -0.280976  1.477341  0.448650   \n",
       "9 -1.481989 -0.187596 -0.690946  0.997936 -0.280976 -0.375943 -0.761547   \n",
       "\n",
       "       NINQ      CLNO   DEBTINC  REASON_HomeImp  REASON_Unknown  JOB_Office  \\\n",
       "0 -0.102879 -1.230878  0.106963               1               0           0   \n",
       "1 -0.707574 -0.728389  0.106963               1               0           0   \n",
       "2 -0.102879 -1.130380  0.106963               1               0           0   \n",
       "3 -0.102879 -0.125403  0.106963               0               1           0   \n",
       "4 -0.707574 -0.728389  0.106963               1               0           1   \n",
       "5 -0.102879 -1.331376  0.407249               1               0           0   \n",
       "6 -0.102879 -0.426896  0.106963               1               0           0   \n",
       "7 -0.707574 -1.331376  0.377327               1               0           0   \n",
       "8 -0.102879 -0.929385  0.106963               1               0           0   \n",
       "9 -0.707574 -0.828887  0.106963               1               0           0   \n",
       "\n",
       "   JOB_Other  JOB_ProfExe  JOB_Sales  JOB_Self  JOB_Unknown  \n",
       "0          1            0          0         0            0  \n",
       "1          1            0          0         0            0  \n",
       "2          1            0          0         0            0  \n",
       "3          0            0          0         0            1  \n",
       "4          0            0          0         0            0  \n",
       "5          1            0          0         0            0  \n",
       "6          1            0          0         0            0  \n",
       "7          1            0          0         0            0  \n",
       "8          1            0          0         0            0  \n",
       "9          0            0          1         0            0  "
      ]
     },
     "execution_count": 17,
     "metadata": {},
     "output_type": "execute_result"
    }
   ],
   "source": [
    "X.head(10)"
   ]
  },
  {
   "cell_type": "markdown",
   "metadata": {
    "slideshow": {
     "slide_type": "subslide"
    }
   },
   "source": [
    "#### 2-4 学習用データとテスト用データを分割"
   ]
  },
  {
   "cell_type": "code",
   "execution_count": 18,
   "metadata": {
    "slideshow": {
     "slide_type": "fragment"
    }
   },
   "outputs": [],
   "source": [
    "# scikit-learnのtrain_test_split関数で学習用データとテスト用データを分割\n",
    "X_train,  X_test, y_train, y_test = train_test_split(X, y, test_size=0.2, random_state=2018)"
   ]
  },
  {
   "cell_type": "code",
   "execution_count": 19,
   "metadata": {
    "slideshow": {
     "slide_type": "fragment"
    }
   },
   "outputs": [
    {
     "name": "stdout",
     "output_type": "stream",
     "text": [
      "(4768, 18)\n",
      "(1192, 18)\n",
      "(4768,)\n",
      "(1192,)\n"
     ]
    }
   ],
   "source": [
    "# サイズ確認\n",
    "print(X_train.shape) \n",
    "print(X_test.shape)\n",
    "print(y_train.shape)\n",
    "print(y_test.shape)"
   ]
  },
  {
   "cell_type": "code",
   "execution_count": 20,
   "metadata": {
    "slideshow": {
     "slide_type": "fragment"
    }
   },
   "outputs": [
    {
     "data": {
      "text/html": [
       "<div>\n",
       "<style scoped>\n",
       "    .dataframe tbody tr th:only-of-type {\n",
       "        vertical-align: middle;\n",
       "    }\n",
       "\n",
       "    .dataframe tbody tr th {\n",
       "        vertical-align: top;\n",
       "    }\n",
       "\n",
       "    .dataframe thead th {\n",
       "        text-align: right;\n",
       "    }\n",
       "</style>\n",
       "<table border=\"1\" class=\"dataframe\">\n",
       "  <thead>\n",
       "    <tr style=\"text-align: right;\">\n",
       "      <th></th>\n",
       "      <th>LOAN</th>\n",
       "      <th>MORTDUE</th>\n",
       "      <th>VALUE</th>\n",
       "      <th>YOJ</th>\n",
       "      <th>DEROG</th>\n",
       "      <th>DELINQ</th>\n",
       "      <th>CLAGE</th>\n",
       "      <th>NINQ</th>\n",
       "      <th>CLNO</th>\n",
       "      <th>DEBTINC</th>\n",
       "      <th>REASON_HomeImp</th>\n",
       "      <th>REASON_Unknown</th>\n",
       "      <th>JOB_Office</th>\n",
       "      <th>JOB_Other</th>\n",
       "      <th>JOB_ProfExe</th>\n",
       "      <th>JOB_Sales</th>\n",
       "      <th>JOB_Self</th>\n",
       "      <th>JOB_Unknown</th>\n",
       "    </tr>\n",
       "  </thead>\n",
       "  <tbody>\n",
       "    <tr>\n",
       "      <th>497</th>\n",
       "      <td>-1.035821</td>\n",
       "      <td>-1.128131</td>\n",
       "      <td>-0.909183</td>\n",
       "      <td>-1.123622</td>\n",
       "      <td>-0.280976</td>\n",
       "      <td>-0.375943</td>\n",
       "      <td>-0.483928</td>\n",
       "      <td>-0.707574</td>\n",
       "      <td>-0.828887</td>\n",
       "      <td>0.106963</td>\n",
       "      <td>0</td>\n",
       "      <td>0</td>\n",
       "      <td>1</td>\n",
       "      <td>0</td>\n",
       "      <td>0</td>\n",
       "      <td>0</td>\n",
       "      <td>0</td>\n",
       "      <td>0</td>\n",
       "    </tr>\n",
       "    <tr>\n",
       "      <th>5240</th>\n",
       "      <td>0.873778</td>\n",
       "      <td>-0.458788</td>\n",
       "      <td>-0.193097</td>\n",
       "      <td>2.100044</td>\n",
       "      <td>-0.280976</td>\n",
       "      <td>0.550699</td>\n",
       "      <td>-0.059425</td>\n",
       "      <td>-0.707574</td>\n",
       "      <td>-0.225901</td>\n",
       "      <td>-1.244107</td>\n",
       "      <td>0</td>\n",
       "      <td>0</td>\n",
       "      <td>0</td>\n",
       "      <td>1</td>\n",
       "      <td>0</td>\n",
       "      <td>0</td>\n",
       "      <td>0</td>\n",
       "      <td>0</td>\n",
       "    </tr>\n",
       "    <tr>\n",
       "      <th>1941</th>\n",
       "      <td>-0.527189</td>\n",
       "      <td>-0.019672</td>\n",
       "      <td>0.047123</td>\n",
       "      <td>0.171355</td>\n",
       "      <td>-0.280976</td>\n",
       "      <td>-0.375943</td>\n",
       "      <td>-0.167648</td>\n",
       "      <td>-0.707574</td>\n",
       "      <td>-0.828887</td>\n",
       "      <td>0.463025</td>\n",
       "      <td>0</td>\n",
       "      <td>0</td>\n",
       "      <td>1</td>\n",
       "      <td>0</td>\n",
       "      <td>0</td>\n",
       "      <td>0</td>\n",
       "      <td>0</td>\n",
       "      <td>0</td>\n",
       "    </tr>\n",
       "    <tr>\n",
       "      <th>567</th>\n",
       "      <td>-0.991204</td>\n",
       "      <td>-0.021247</td>\n",
       "      <td>-0.565068</td>\n",
       "      <td>-0.655226</td>\n",
       "      <td>0.971543</td>\n",
       "      <td>-0.375943</td>\n",
       "      <td>-0.287776</td>\n",
       "      <td>-0.102879</td>\n",
       "      <td>0.176090</td>\n",
       "      <td>0.994302</td>\n",
       "      <td>1</td>\n",
       "      <td>0</td>\n",
       "      <td>0</td>\n",
       "      <td>0</td>\n",
       "      <td>0</td>\n",
       "      <td>1</td>\n",
       "      <td>0</td>\n",
       "      <td>0</td>\n",
       "    </tr>\n",
       "    <tr>\n",
       "      <th>513</th>\n",
       "      <td>-1.026898</td>\n",
       "      <td>1.108717</td>\n",
       "      <td>1.381589</td>\n",
       "      <td>-0.104172</td>\n",
       "      <td>-0.280976</td>\n",
       "      <td>-0.375943</td>\n",
       "      <td>0.504580</td>\n",
       "      <td>-0.707574</td>\n",
       "      <td>-0.326398</td>\n",
       "      <td>-0.173510</td>\n",
       "      <td>0</td>\n",
       "      <td>0</td>\n",
       "      <td>0</td>\n",
       "      <td>1</td>\n",
       "      <td>0</td>\n",
       "      <td>0</td>\n",
       "      <td>0</td>\n",
       "      <td>0</td>\n",
       "    </tr>\n",
       "    <tr>\n",
       "      <th>2659</th>\n",
       "      <td>-0.304105</td>\n",
       "      <td>-0.187596</td>\n",
       "      <td>-0.605603</td>\n",
       "      <td>-1.068517</td>\n",
       "      <td>-0.280976</td>\n",
       "      <td>-0.375943</td>\n",
       "      <td>-0.071488</td>\n",
       "      <td>-0.707574</td>\n",
       "      <td>-2.135358</td>\n",
       "      <td>-3.965482</td>\n",
       "      <td>0</td>\n",
       "      <td>1</td>\n",
       "      <td>0</td>\n",
       "      <td>0</td>\n",
       "      <td>0</td>\n",
       "      <td>0</td>\n",
       "      <td>0</td>\n",
       "      <td>1</td>\n",
       "    </tr>\n",
       "    <tr>\n",
       "      <th>598</th>\n",
       "      <td>-0.982281</td>\n",
       "      <td>-0.337940</td>\n",
       "      <td>-0.418791</td>\n",
       "      <td>0.860173</td>\n",
       "      <td>-0.280976</td>\n",
       "      <td>-0.375943</td>\n",
       "      <td>0.839954</td>\n",
       "      <td>0.501815</td>\n",
       "      <td>1.482561</td>\n",
       "      <td>0.115310</td>\n",
       "      <td>1</td>\n",
       "      <td>0</td>\n",
       "      <td>0</td>\n",
       "      <td>1</td>\n",
       "      <td>0</td>\n",
       "      <td>0</td>\n",
       "      <td>0</td>\n",
       "      <td>0</td>\n",
       "    </tr>\n",
       "    <tr>\n",
       "      <th>585</th>\n",
       "      <td>-0.991204</td>\n",
       "      <td>-0.187596</td>\n",
       "      <td>-0.523021</td>\n",
       "      <td>-0.655226</td>\n",
       "      <td>-0.280976</td>\n",
       "      <td>2.403983</td>\n",
       "      <td>-0.023223</td>\n",
       "      <td>-0.707574</td>\n",
       "      <td>0.075593</td>\n",
       "      <td>0.106963</td>\n",
       "      <td>1</td>\n",
       "      <td>0</td>\n",
       "      <td>0</td>\n",
       "      <td>0</td>\n",
       "      <td>0</td>\n",
       "      <td>0</td>\n",
       "      <td>0</td>\n",
       "      <td>0</td>\n",
       "    </tr>\n",
       "    <tr>\n",
       "      <th>4245</th>\n",
       "      <td>0.311606</td>\n",
       "      <td>-1.151634</td>\n",
       "      <td>-0.923955</td>\n",
       "      <td>0.777515</td>\n",
       "      <td>-0.280976</td>\n",
       "      <td>-0.375943</td>\n",
       "      <td>-0.836137</td>\n",
       "      <td>0.501815</td>\n",
       "      <td>0.377086</td>\n",
       "      <td>0.106963</td>\n",
       "      <td>0</td>\n",
       "      <td>0</td>\n",
       "      <td>0</td>\n",
       "      <td>1</td>\n",
       "      <td>0</td>\n",
       "      <td>0</td>\n",
       "      <td>0</td>\n",
       "      <td>0</td>\n",
       "    </tr>\n",
       "    <tr>\n",
       "      <th>1736</th>\n",
       "      <td>-0.589653</td>\n",
       "      <td>0.282919</td>\n",
       "      <td>0.168112</td>\n",
       "      <td>-1.178728</td>\n",
       "      <td>0.971543</td>\n",
       "      <td>1.477341</td>\n",
       "      <td>-0.423298</td>\n",
       "      <td>-0.102879</td>\n",
       "      <td>1.281565</td>\n",
       "      <td>0.106963</td>\n",
       "      <td>0</td>\n",
       "      <td>0</td>\n",
       "      <td>0</td>\n",
       "      <td>0</td>\n",
       "      <td>1</td>\n",
       "      <td>0</td>\n",
       "      <td>0</td>\n",
       "      <td>0</td>\n",
       "    </tr>\n",
       "  </tbody>\n",
       "</table>\n",
       "</div>"
      ],
      "text/plain": [
       "          LOAN   MORTDUE     VALUE       YOJ     DEROG    DELINQ     CLAGE  \\\n",
       "497  -1.035821 -1.128131 -0.909183 -1.123622 -0.280976 -0.375943 -0.483928   \n",
       "5240  0.873778 -0.458788 -0.193097  2.100044 -0.280976  0.550699 -0.059425   \n",
       "1941 -0.527189 -0.019672  0.047123  0.171355 -0.280976 -0.375943 -0.167648   \n",
       "567  -0.991204 -0.021247 -0.565068 -0.655226  0.971543 -0.375943 -0.287776   \n",
       "513  -1.026898  1.108717  1.381589 -0.104172 -0.280976 -0.375943  0.504580   \n",
       "2659 -0.304105 -0.187596 -0.605603 -1.068517 -0.280976 -0.375943 -0.071488   \n",
       "598  -0.982281 -0.337940 -0.418791  0.860173 -0.280976 -0.375943  0.839954   \n",
       "585  -0.991204 -0.187596 -0.523021 -0.655226 -0.280976  2.403983 -0.023223   \n",
       "4245  0.311606 -1.151634 -0.923955  0.777515 -0.280976 -0.375943 -0.836137   \n",
       "1736 -0.589653  0.282919  0.168112 -1.178728  0.971543  1.477341 -0.423298   \n",
       "\n",
       "          NINQ      CLNO   DEBTINC  REASON_HomeImp  REASON_Unknown  \\\n",
       "497  -0.707574 -0.828887  0.106963               0               0   \n",
       "5240 -0.707574 -0.225901 -1.244107               0               0   \n",
       "1941 -0.707574 -0.828887  0.463025               0               0   \n",
       "567  -0.102879  0.176090  0.994302               1               0   \n",
       "513  -0.707574 -0.326398 -0.173510               0               0   \n",
       "2659 -0.707574 -2.135358 -3.965482               0               1   \n",
       "598   0.501815  1.482561  0.115310               1               0   \n",
       "585  -0.707574  0.075593  0.106963               1               0   \n",
       "4245  0.501815  0.377086  0.106963               0               0   \n",
       "1736 -0.102879  1.281565  0.106963               0               0   \n",
       "\n",
       "      JOB_Office  JOB_Other  JOB_ProfExe  JOB_Sales  JOB_Self  JOB_Unknown  \n",
       "497            1          0            0          0         0            0  \n",
       "5240           0          1            0          0         0            0  \n",
       "1941           1          0            0          0         0            0  \n",
       "567            0          0            0          1         0            0  \n",
       "513            0          1            0          0         0            0  \n",
       "2659           0          0            0          0         0            1  \n",
       "598            0          1            0          0         0            0  \n",
       "585            0          0            0          0         0            0  \n",
       "4245           0          1            0          0         0            0  \n",
       "1736           0          0            1          0         0            0  "
      ]
     },
     "execution_count": 20,
     "metadata": {},
     "output_type": "execute_result"
    }
   ],
   "source": [
    "# 内容確認\n",
    "X_train.head(10)"
   ]
  },
  {
   "cell_type": "markdown",
   "metadata": {
    "slideshow": {
     "slide_type": "slide"
    }
   },
   "source": [
    "### Step3 予測モデル構築"
   ]
  },
  {
   "cell_type": "markdown",
   "metadata": {
    "slideshow": {
     "slide_type": "fragment"
    }
   },
   "source": [
    "#### 今回試行する分類モデル（再掲）\n",
    "\n",
    "|モデル|内容|使用ライブラリ|\n",
    "|:-----:|:--------:|:--------:|\n",
    "|**決定木**|ツリー状の分岐処理で最も説明力の高いものを採用|[sklearn.tree.DecisionTreeClassifier](http://scikit-learn.org/stable/modules/generated/sklearn.tree.DecisionTreeClassifier.html)|\n",
    "|**ランダムフォレスト**|複数の決定木の多数決で分類|[sklearn.ensemble.RandomForestClassifier](http://scikit-learn.org/stable/modules/generated/sklearn.ensemble.RandomForestClassifier.html#sklearn.ensemble.RandomForestClassifier)|\n",
    "|**XGBoost**|勾配ブースティングによる決定木の構築|[xgboost.XGBClassifier](https://github.com/dmlc/xgboost)|\n",
    "|**k近傍法**|説明変数に最も近い教師データによる分類|[sklearn.neighbors.KNeighborsClassifier](http://scikit-learn.org/stable/modules/generated/sklearn.neighbors.KNeighborsClassifier.html)|\n",
    "|**サポートベクターマシン**|データ分類の境界線をマージンが最小になるように定める手法|[sklearn.svm.SVC](http://scikit-learn.org/stable/modules/generated/sklearn.svm.SVC.html#sklearn.svm.SVC)\n",
    "|**多層パーセプトロン**|パーセプトロンを複数つないだ深層学習|[keras.wrappers.scikit_learn.KerasClassifier](https://keras.io/ja/scikit-learn-api/)"
   ]
  },
  {
   "cell_type": "code",
   "execution_count": 21,
   "metadata": {
    "slideshow": {
     "slide_type": "fragment"
    }
   },
   "outputs": [
    {
     "name": "stderr",
     "output_type": "stream",
     "text": [
      "/Applications/anaconda3/envs/flask/lib/python3.6/site-packages/h5py/__init__.py:36: FutureWarning: Conversion of the second argument of issubdtype from `float` to `np.floating` is deprecated. In future, it will be treated as `np.float64 == np.dtype(float).type`.\n",
      "  from ._conv import register_converters as _register_converters\n",
      "Using TensorFlow backend.\n"
     ]
    }
   ],
   "source": [
    "# 使うライブラリを一通りimport\n",
    "from sklearn.model_selection import StratifiedKFold\n",
    "from sklearn.model_selection import cross_val_score\n",
    "from sklearn.model_selection import GridSearchCV\n",
    "from sklearn.tree import DecisionTreeClassifier\n",
    "from sklearn.ensemble import RandomForestClassifier\n",
    "import os\n",
    "os.environ['KMP_DUPLICATE_LIB_OK']='True'\n",
    "from xgboost import XGBClassifier\n",
    "from sklearn.neighbors import KNeighborsClassifier\n",
    "from sklearn.svm import SVC\n",
    "from keras.models import Sequential\n",
    "from keras.layers import Dense\n",
    "from keras.wrappers.scikit_learn import KerasClassifier\n",
    "from keras.callbacks import EarlyStopping\n",
    "from sklearn.metrics import mean_squared_error"
   ]
  },
  {
   "cell_type": "markdown",
   "metadata": {
    "slideshow": {
     "slide_type": "subslide"
    }
   },
   "source": [
    "#### 3-0 モデル構築・検証方針\n",
    " - 学習用データを3分割する3分割交差検証の方法を使用\n",
    " - 交差検証結果が最良のモデルにつき、テストデータに適用して妥当性を確認"
   ]
  },
  {
   "cell_type": "code",
   "execution_count": 22,
   "metadata": {
    "slideshow": {
     "slide_type": "fragment"
    }
   },
   "outputs": [],
   "source": [
    "# 3分割交差検証の分割 (sklearn.model_selection_StratifiedKFold())\n",
    "skf = StratifiedKFold(n_splits=3, random_state=0, shuffle=True)\n",
    "# 結果格納用リスト\n",
    "list_result = []"
   ]
  },
  {
   "cell_type": "code",
   "execution_count": 23,
   "metadata": {
    "slideshow": {
     "slide_type": "fragment"
    }
   },
   "outputs": [],
   "source": [
    "#　分類特有の評価関数・プロット(ROC)\n",
    "from sklearn.metrics import roc_auc_score\n",
    "from sklearn.metrics import roc_curve\n",
    "def plot_roc_curve(fpr, tpr, label=None):\n",
    "    plt.plot(fpr, tpr, linewidth=2, label=label)\n",
    "    plt.plot([0,1],[0,1], 'k--')\n",
    "    plt.axis([0,1,0,1])\n",
    "    plt.xlabel('FPR')\n",
    "    plt.ylabel('TPR')"
   ]
  },
  {
   "cell_type": "markdown",
   "metadata": {
    "slideshow": {
     "slide_type": "subslide"
    }
   },
   "source": [
    "#### 3-1 決定木"
   ]
  },
  {
   "cell_type": "code",
   "execution_count": 24,
   "metadata": {
    "slideshow": {
     "slide_type": "fragment"
    }
   },
   "outputs": [
    {
     "name": "stdout",
     "output_type": "stream",
     "text": [
      "Grid scores on development set:\n",
      "0.804 (+/-0.003) for {'max_depth': 1}\n",
      "0.856 (+/-0.007) for {'max_depth': 3}\n",
      "0.886 (+/-0.004) for {'max_depth': 5}\n",
      "0.880 (+/-0.009) for {'max_depth': 10}\n",
      "Best parameters: {'max_depth': 5}\n",
      "Best cross-validation: 0.8859060402684564\n"
     ]
    }
   ],
   "source": [
    "# 試行パラメータ\n",
    "param_grid = {'max_depth': [1,3,5,10]}\n",
    "# グリッドサーチ実行\n",
    "grid_search = GridSearchCV(DecisionTreeClassifier(), param_grid, cv=skf)\n",
    "grid_search.fit(X_train, y_train)\n",
    "# 結果確認\n",
    "print(\"Grid scores on development set:\")\n",
    "means = grid_search.cv_results_['mean_test_score']\n",
    "stds = grid_search.cv_results_['std_test_score']\n",
    "params = grid_search.cv_results_['params']\n",
    "for mean_test_score, std_test_score, params in zip(means, stds, params):\n",
    "    print(\"%0.3f (+/-%0.03f) for %r\"\n",
    "          % (mean_test_score,  std_test_score, params))\n",
    "    list_result.append(['DecisionTree', mean_test_score,  std_test_score, params])    \n",
    "print('Best parameters: {}'.format(grid_search.best_params_))\n",
    "print('Best cross-validation: {}'.format(grid_search.best_score_))"
   ]
  },
  {
   "cell_type": "code",
   "execution_count": 25,
   "metadata": {
    "slideshow": {
     "slide_type": "subslide"
    }
   },
   "outputs": [
    {
     "data": {
      "image/png": "[encoded data removed]",
      "text/plain": [
       "<Figure size 432x288 with 1 Axes>"
      ]
     },
     "metadata": {},
     "output_type": "display_data"
    },
    {
     "data": {
      "text/plain": [
       "0.8610493176703221"
      ]
     },
     "execution_count": 25,
     "metadata": {},
     "output_type": "execute_result"
    }
   ],
   "source": [
    "# ROC曲線\n",
    "resultprob = pd.DataFrame(grid_search.best_estimator_.predict_proba(X_test))\n",
    "fpr, tpr, thresholds = roc_curve(y_test, resultprob.iloc[:,1])\n",
    "plot_roc_curve(fpr, tpr)    \n",
    "plt.show()\n",
    "roc_auc_score(y_test, resultprob.iloc[:,1])"
   ]
  },
  {
   "cell_type": "markdown",
   "metadata": {
    "slideshow": {
     "slide_type": "subslide"
    }
   },
   "source": [
    "#### 3-2 ランダムフォレスト\n"
   ]
  },
  {
   "cell_type": "code",
   "execution_count": 26,
   "metadata": {
    "slideshow": {
     "slide_type": "fragment"
    }
   },
   "outputs": [
    {
     "name": "stdout",
     "output_type": "stream",
     "text": [
      "Grid scores on development set:\n",
      "0.902 (+/-0.007) for {'n_estimators': 10}\n",
      "0.911 (+/-0.004) for {'n_estimators': 20}\n",
      "0.913 (+/-0.005) for {'n_estimators': 100}\n",
      "Best parameters: {'n_estimators': 100}\n",
      "Best cross-validation: 0.912751677852349\n"
     ]
    }
   ],
   "source": [
    "# 試行パラメータ\n",
    "param_grid = {'n_estimators': [10,20,100]}\n",
    "# グリッドサーチ実行\n",
    "grid_search = GridSearchCV(RandomForestClassifier(), param_grid, cv=skf)\n",
    "grid_search.fit(X_train, y_train)\n",
    "# 結果確認\n",
    "print(\"Grid scores on development set:\")\n",
    "means = grid_search.cv_results_['mean_test_score']\n",
    "stds = grid_search.cv_results_['std_test_score']\n",
    "params = grid_search.cv_results_['params']\n",
    "for mean_test_score, std_test_score, params in zip(means, stds, params):\n",
    "    print(\"%0.3f (+/-%0.03f) for %r\"\n",
    "          % (mean_test_score,  std_test_score, params))\n",
    "    list_result.append(['RandomForest', mean_test_score,  std_test_score, params])    \n",
    "print('Best parameters: {}'.format(grid_search.best_params_))\n",
    "print('Best cross-validation: {}'.format(grid_search.best_score_))"
   ]
  },
  {
   "cell_type": "code",
   "execution_count": 27,
   "metadata": {
    "slideshow": {
     "slide_type": "subslide"
    }
   },
   "outputs": [
    {
     "data": {
      "image/png": "[encoded data removed]",
      "text/plain": [
       "<Figure size 432x288 with 1 Axes>"
      ]
     },
     "metadata": {},
     "output_type": "display_data"
    },
    {
     "data": {
      "text/plain": [
       "0.9740337457232434"
      ]
     },
     "execution_count": 27,
     "metadata": {},
     "output_type": "execute_result"
    }
   ],
   "source": [
    "# ROC曲線\n",
    "resultprob = pd.DataFrame(grid_search.best_estimator_.predict_proba(X_test))\n",
    "fpr, tpr, thresholds = roc_curve(y_test, resultprob.iloc[:,1])\n",
    "plot_roc_curve(fpr, tpr)    \n",
    "plt.show()\n",
    "roc_auc_score(y_test, resultprob.iloc[:,1])"
   ]
  },
  {
   "cell_type": "markdown",
   "metadata": {
    "slideshow": {
     "slide_type": "subslide"
    }
   },
   "source": [
    "#### 3-4 K近傍法\n"
   ]
  },
  {
   "cell_type": "code",
   "execution_count": 28,
   "metadata": {
    "slideshow": {
     "slide_type": "fragment"
    }
   },
   "outputs": [
    {
     "name": "stdout",
     "output_type": "stream",
     "text": [
      "Grid scores on development set:\n",
      "0.930 (+/-0.007) for {'n_neighbors': 1}\n",
      "0.892 (+/-0.005) for {'n_neighbors': 2}\n",
      "0.906 (+/-0.004) for {'n_neighbors': 3}\n",
      "Best parameters: {'n_neighbors': 1}\n",
      "Best cross-validation: 0.9299496644295302\n"
     ]
    }
   ],
   "source": [
    "# 試行パラメータ\n",
    "param_grid = {'n_neighbors': [1,2,3]}\n",
    "# グリッドサーチ実行\n",
    "grid_search = GridSearchCV(KNeighborsClassifier(), param_grid, cv=skf)\n",
    "grid_search.fit(X_train, y_train)\n",
    "# 結果確認\n",
    "print(\"Grid scores on development set:\")\n",
    "means = grid_search.cv_results_['mean_test_score']\n",
    "stds = grid_search.cv_results_['std_test_score']\n",
    "params = grid_search.cv_results_['params']\n",
    "for mean_test_score, std_test_score, params in zip(means, stds, params):\n",
    "    print(\"%0.3f (+/-%0.03f) for %r\"\n",
    "          % (mean_test_score,  std_test_score, params))\n",
    "    list_result.append(['KNeighbors', mean_test_score,  std_test_score, params])    \n",
    "print('Best parameters: {}'.format(grid_search.best_params_))\n",
    "print('Best cross-validation: {}'.format(grid_search.best_score_))"
   ]
  },
  {
   "cell_type": "code",
   "execution_count": 29,
   "metadata": {
    "slideshow": {
     "slide_type": "subslide"
    }
   },
   "outputs": [
    {
     "data": {
      "image/png": "[encoded data removed]",
      "text/plain": [
       "<Figure size 432x288 with 1 Axes>"
      ]
     },
     "metadata": {},
     "output_type": "display_data"
    },
    {
     "data": {
      "text/plain": [
       "0.8481637591226632"
      ]
     },
     "execution_count": 29,
     "metadata": {},
     "output_type": "execute_result"
    }
   ],
   "source": [
    "# ROC曲線\n",
    "resultprob = pd.DataFrame(grid_search.best_estimator_.predict_proba(X_test))\n",
    "fpr, tpr, thresholds = roc_curve(y_test, resultprob.iloc[:,1])\n",
    "plot_roc_curve(fpr, tpr)    \n",
    "plt.show()\n",
    "roc_auc_score(y_test, resultprob.iloc[:,1])"
   ]
  },
  {
   "cell_type": "markdown",
   "metadata": {
    "slideshow": {
     "slide_type": "subslide"
    }
   },
   "source": [
    "#### 3-5 Support Vector Machine (SVM)\n"
   ]
  },
  {
   "cell_type": "code",
   "execution_count": 30,
   "metadata": {
    "slideshow": {
     "slide_type": "fragment"
    }
   },
   "outputs": [
    {
     "name": "stdout",
     "output_type": "stream",
     "text": [
      "Grid scores on development set:\n",
      "0.828 (+/-0.003) for {'C': 0.1}\n",
      "0.857 (+/-0.007) for {'C': 1}\n",
      "0.895 (+/-0.005) for {'C': 10}\n",
      "Best parameters: {'C': 10}\n",
      "Best cross-validation: 0.8951342281879194\n"
     ]
    }
   ],
   "source": [
    "# 試行パラメータ\n",
    "param_grid = {'C': [0.1,1,10]}\n",
    "# グリッドサーチ実行\n",
    "grid_search = GridSearchCV(SVC(probability=True), param_grid, cv=skf)\n",
    "grid_search.fit(X_train, y_train)\n",
    "# 結果確認\n",
    "print(\"Grid scores on development set:\")\n",
    "means = grid_search.cv_results_['mean_test_score']\n",
    "stds = grid_search.cv_results_['std_test_score']\n",
    "params = grid_search.cv_results_['params']\n",
    "for mean_test_score, std_test_score, params in zip(means, stds, params):\n",
    "    print(\"%0.3f (+/-%0.03f) for %r\"\n",
    "          % (mean_test_score,  std_test_score, params))\n",
    "    list_result.append(['SVM', mean_test_score,  std_test_score, params])    \n",
    "print('Best parameters: {}'.format(grid_search.best_params_))\n",
    "print('Best cross-validation: {}'.format(grid_search.best_score_))"
   ]
  },
  {
   "cell_type": "code",
   "execution_count": 31,
   "metadata": {
    "slideshow": {
     "slide_type": "subslide"
    }
   },
   "outputs": [
    {
     "data": {
      "image/png": "[encoded data removed]",
      "text/plain": [
       "<Figure size 432x288 with 1 Axes>"
      ]
     },
     "metadata": {},
     "output_type": "display_data"
    },
    {
     "data": {
      "text/plain": [
       "0.8918744877648987"
      ]
     },
     "execution_count": 31,
     "metadata": {},
     "output_type": "execute_result"
    }
   ],
   "source": [
    "# ROC曲線\n",
    "resultprob = pd.DataFrame(grid_search.best_estimator_.predict_proba(X_test))\n",
    "fpr, tpr, thresholds = roc_curve(y_test, resultprob.iloc[:,1])\n",
    "plot_roc_curve(fpr, tpr)    \n",
    "plt.show()\n",
    "roc_auc_score(y_test, resultprob.iloc[:,1])"
   ]
  },
  {
   "cell_type": "markdown",
   "metadata": {
    "slideshow": {
     "slide_type": "subslide"
    }
   },
   "source": [
    "#### 3-6 MLP\n"
   ]
  },
  {
   "cell_type": "code",
   "execution_count": 32,
   "metadata": {
    "slideshow": {
     "slide_type": "fragment"
    }
   },
   "outputs": [],
   "source": [
    "# Kerasのモデルを構築\n",
    "def create_MLP():\n",
    "    model = Sequential()\n",
    "    model.add(Dense(10, input_dim=18, activation='tanh'))\n",
    "    model.add(Dense(10, activation='tanh'))\n",
    "    model.add(Dense(2, activation='sigmoid'))\n",
    "    model.compile(loss='categorical_crossentropy', optimizer='adadelta', metrics=['accuracy'])\n",
    "    return model\n",
    "# scikit-learn wrapper\n",
    "clf = KerasClassifier(build_fn=create_MLP, verbose=1)"
   ]
  },
  {
   "cell_type": "code",
   "execution_count": 33,
   "metadata": {
    "slideshow": {
     "slide_type": "subslide"
    }
   },
   "outputs": [
    {
     "name": "stdout",
     "output_type": "stream",
     "text": [
      "Epoch 1/1\n",
      "3178/3178 [==============================] - 1s 157us/step - loss: 0.5298 - acc: 0.7514\n",
      "1590/1590 [==============================] - 0s 40us/step\n",
      "3178/3178 [==============================] - 0s 17us/step\n",
      "Epoch 1/1\n",
      "3179/3179 [==============================] - 0s 154us/step - loss: 0.5555 - acc: 0.7414\n",
      "1589/1589 [==============================] - 0s 54us/step\n",
      "3179/3179 [==============================] - 0s 18us/step\n",
      "Epoch 1/1\n",
      "3179/3179 [==============================] - 0s 155us/step - loss: 0.5553 - acc: 0.7358\n",
      "1589/1589 [==============================] - 0s 56us/step\n",
      "3179/3179 [==============================] - 0s 15us/step\n",
      "Epoch 1/1\n",
      "4768/4768 [==============================] - 1s 125us/step - loss: 0.5372 - acc: 0.7366\n",
      "Grid scores on development set:\n",
      "0.821 (+/-0.001) for {}\n",
      "Best parameters: {}\n",
      "Best cross-validation: 0.8213087248072128\n"
     ]
    }
   ],
   "source": [
    "# 試行パラメータ\n",
    "param_grid = {}\n",
    "# グリッドサーチ実行\n",
    "grid_search = GridSearchCV(clf, param_grid, cv=skf)\n",
    "grid_search.fit(X_train, y_train)\n",
    "# 結果確認\n",
    "print(\"Grid scores on development set:\")\n",
    "means = grid_search.cv_results_['mean_test_score']\n",
    "stds = grid_search.cv_results_['std_test_score']\n",
    "params = grid_search.cv_results_['params']\n",
    "for mean_test_score, std_test_score, params in zip(means, stds, params):\n",
    "    print(\"%0.3f (+/-%0.03f) for %r\"\n",
    "          % (mean_test_score,  std_test_score, params))\n",
    "    list_result.append(['MLP', mean_test_score,  std_test_score, params])\n",
    "print('Best parameters: {}'.format(grid_search.best_params_))\n",
    "print('Best cross-validation: {}'.format(grid_search.best_score_))"
   ]
  },
  {
   "cell_type": "code",
   "execution_count": 34,
   "metadata": {
    "slideshow": {
     "slide_type": "subslide"
    }
   },
   "outputs": [
    {
     "name": "stdout",
     "output_type": "stream",
     "text": [
      "1192/1192 [==============================] - 0s 67us/step\n"
     ]
    },
    {
     "data": {
      "image/png": "[encoded data removed]",
      "text/plain": [
       "<Figure size 432x288 with 1 Axes>"
      ]
     },
     "metadata": {},
     "output_type": "display_data"
    },
    {
     "data": {
      "text/plain": [
       "0.7812078557892865"
      ]
     },
     "execution_count": 34,
     "metadata": {},
     "output_type": "execute_result"
    }
   ],
   "source": [
    "# ROC曲線\n",
    "resultprob = pd.DataFrame(grid_search.best_estimator_.predict_proba(X_test))\n",
    "fpr, tpr, thresholds = roc_curve(y_test, resultprob.iloc[:,1])\n",
    "plot_roc_curve(fpr, tpr)    \n",
    "plt.show()\n",
    "roc_auc_score(y_test, resultprob.iloc[:,1])"
   ]
  },
  {
   "cell_type": "markdown",
   "metadata": {
    "slideshow": {
     "slide_type": "slide"
    }
   },
   "source": [
    "#### 3-7 モデル選択\n",
    "結果を並べてみましょう"
   ]
  },
  {
   "cell_type": "code",
   "execution_count": 35,
   "metadata": {
    "slideshow": {
     "slide_type": "fragment"
    }
   },
   "outputs": [
    {
     "name": "stdout",
     "output_type": "stream",
     "text": [
      "['DecisionTree', 0.8041107382550335, 0.003320410867180292, {'max_depth': 1}]\n",
      "['DecisionTree', 0.8559144295302014, 0.007426500520040189, {'max_depth': 3}]\n",
      "['DecisionTree', 0.8859060402684564, 0.004092446934825674, {'max_depth': 5}]\n",
      "['DecisionTree', 0.8802432885906041, 0.009033803710733916, {'max_depth': 10}]\n",
      "['RandomForest', 0.9024748322147651, 0.006919732267767665, {'n_estimators': 10}]\n",
      "['RandomForest', 0.9110738255033557, 0.0043706989943999635, {'n_estimators': 20}]\n",
      "['RandomForest', 0.912751677852349, 0.00479192078045576, {'n_estimators': 100}]\n",
      "['KNeighbors', 0.9299496644295302, 0.0073485298210048434, {'n_neighbors': 1}]\n",
      "['KNeighbors', 0.8921979865771812, 0.005049918767709501, {'n_neighbors': 2}]\n",
      "['KNeighbors', 0.90625, 0.004462262244631824, {'n_neighbors': 3}]\n",
      "['SVM', 0.8284395973154363, 0.0034626335432210885, {'C': 0.1}]\n",
      "['SVM', 0.8573825503355704, 0.006591152995635182, {'C': 1}]\n",
      "['SVM', 0.8951342281879194, 0.004781670992200678, {'C': 10}]\n",
      "['MLP', 0.8213087248072128, 0.001394501006594492, {}]\n"
     ]
    }
   ],
   "source": [
    "for result in list_result:\n",
    "    print(result)"
   ]
  },
  {
   "cell_type": "markdown",
   "metadata": {
    "slideshow": {
     "slide_type": "fragment"
    }
   },
   "source": [
    "今回の最適モデルはKNeighbors (n_neighbors=1)"
   ]
  },
  {
   "cell_type": "markdown",
   "metadata": {
    "slideshow": {
     "slide_type": "slide"
    }
   },
   "source": [
    "### Step4 最適モデルによる予測"
   ]
  },
  {
   "cell_type": "code",
   "execution_count": 36,
   "metadata": {
    "slideshow": {
     "slide_type": "fragment"
    }
   },
   "outputs": [],
   "source": [
    "# 最適モデル構築\n",
    "clf = KNeighborsClassifier(n_neighbors=1)\n",
    "clf.fit(X_train, y_train)\n",
    "# 最適モデルによるテストデータ予測\n",
    "result = pd.DataFrame(clf.predict(X_test), columns=['result'])"
   ]
  },
  {
   "cell_type": "code",
   "execution_count": 37,
   "metadata": {
    "slideshow": {
     "slide_type": "subslide"
    }
   },
   "outputs": [
    {
     "data": {
      "text/html": [
       "<div>\n",
       "<style scoped>\n",
       "    .dataframe tbody tr th:only-of-type {\n",
       "        vertical-align: middle;\n",
       "    }\n",
       "\n",
       "    .dataframe tbody tr th {\n",
       "        vertical-align: top;\n",
       "    }\n",
       "\n",
       "    .dataframe thead th {\n",
       "        text-align: right;\n",
       "    }\n",
       "</style>\n",
       "<table border=\"1\" class=\"dataframe\">\n",
       "  <thead>\n",
       "    <tr style=\"text-align: right;\">\n",
       "      <th></th>\n",
       "      <th>BAD</th>\n",
       "      <th>LOAN</th>\n",
       "      <th>MORTDUE</th>\n",
       "      <th>VALUE</th>\n",
       "      <th>REASON</th>\n",
       "      <th>JOB</th>\n",
       "      <th>YOJ</th>\n",
       "      <th>DEROG</th>\n",
       "      <th>DELINQ</th>\n",
       "      <th>CLAGE</th>\n",
       "      <th>NINQ</th>\n",
       "      <th>CLNO</th>\n",
       "      <th>DEBTINC</th>\n",
       "      <th>result</th>\n",
       "    </tr>\n",
       "  </thead>\n",
       "  <tbody>\n",
       "    <tr>\n",
       "      <th>0</th>\n",
       "      <td>0</td>\n",
       "      <td>11400</td>\n",
       "      <td>112930.0</td>\n",
       "      <td>144830.0</td>\n",
       "      <td>DebtCon</td>\n",
       "      <td>ProfExe</td>\n",
       "      <td>2.0</td>\n",
       "      <td>0.0</td>\n",
       "      <td>0.0</td>\n",
       "      <td>271.238037</td>\n",
       "      <td>1.0</td>\n",
       "      <td>46.0</td>\n",
       "      <td>33.251079</td>\n",
       "      <td>0</td>\n",
       "    </tr>\n",
       "    <tr>\n",
       "      <th>1</th>\n",
       "      <td>0</td>\n",
       "      <td>8700</td>\n",
       "      <td>77930.0</td>\n",
       "      <td>80164.0</td>\n",
       "      <td>HomeImp</td>\n",
       "      <td>Other</td>\n",
       "      <td>20.0</td>\n",
       "      <td>0.0</td>\n",
       "      <td>0.0</td>\n",
       "      <td>350.528410</td>\n",
       "      <td>1.0</td>\n",
       "      <td>47.0</td>\n",
       "      <td>29.662360</td>\n",
       "      <td>0</td>\n",
       "    </tr>\n",
       "    <tr>\n",
       "      <th>2</th>\n",
       "      <td>0</td>\n",
       "      <td>9300</td>\n",
       "      <td>54088.0</td>\n",
       "      <td>66961.0</td>\n",
       "      <td>DebtCon</td>\n",
       "      <td>Other</td>\n",
       "      <td>22.0</td>\n",
       "      <td>0.0</td>\n",
       "      <td>0.0</td>\n",
       "      <td>278.160473</td>\n",
       "      <td>3.0</td>\n",
       "      <td>28.0</td>\n",
       "      <td>40.823542</td>\n",
       "      <td>0</td>\n",
       "    </tr>\n",
       "    <tr>\n",
       "      <th>3</th>\n",
       "      <td>0</td>\n",
       "      <td>18600</td>\n",
       "      <td>49385.0</td>\n",
       "      <td>70220.0</td>\n",
       "      <td>DebtCon</td>\n",
       "      <td>ProfExe</td>\n",
       "      <td>6.0</td>\n",
       "      <td>0.0</td>\n",
       "      <td>0.0</td>\n",
       "      <td>229.474919</td>\n",
       "      <td>2.0</td>\n",
       "      <td>32.0</td>\n",
       "      <td>30.731397</td>\n",
       "      <td>0</td>\n",
       "    </tr>\n",
       "    <tr>\n",
       "      <th>4</th>\n",
       "      <td>0</td>\n",
       "      <td>38100</td>\n",
       "      <td>33446.0</td>\n",
       "      <td>73289.0</td>\n",
       "      <td>DebtCon</td>\n",
       "      <td>ProfExe</td>\n",
       "      <td>5.0</td>\n",
       "      <td>0.0</td>\n",
       "      <td>0.0</td>\n",
       "      <td>180.847815</td>\n",
       "      <td>1.0</td>\n",
       "      <td>18.0</td>\n",
       "      <td>23.820415</td>\n",
       "      <td>0</td>\n",
       "    </tr>\n",
       "    <tr>\n",
       "      <th>5</th>\n",
       "      <td>0</td>\n",
       "      <td>12800</td>\n",
       "      <td>77318.0</td>\n",
       "      <td>97616.0</td>\n",
       "      <td>DebtCon</td>\n",
       "      <td>Mgr</td>\n",
       "      <td>6.0</td>\n",
       "      <td>0.0</td>\n",
       "      <td>0.0</td>\n",
       "      <td>125.534802</td>\n",
       "      <td>2.0</td>\n",
       "      <td>27.0</td>\n",
       "      <td>39.462663</td>\n",
       "      <td>0</td>\n",
       "    </tr>\n",
       "    <tr>\n",
       "      <th>6</th>\n",
       "      <td>0</td>\n",
       "      <td>28200</td>\n",
       "      <td>148772.0</td>\n",
       "      <td>186023.0</td>\n",
       "      <td>HomeImp</td>\n",
       "      <td>Self</td>\n",
       "      <td>3.0</td>\n",
       "      <td>0.0</td>\n",
       "      <td>0.0</td>\n",
       "      <td>203.575860</td>\n",
       "      <td>1.0</td>\n",
       "      <td>17.0</td>\n",
       "      <td>43.304658</td>\n",
       "      <td>0</td>\n",
       "    </tr>\n",
       "    <tr>\n",
       "      <th>7</th>\n",
       "      <td>0</td>\n",
       "      <td>18300</td>\n",
       "      <td>93728.0</td>\n",
       "      <td>153093.0</td>\n",
       "      <td>HomeImp</td>\n",
       "      <td>ProfExe</td>\n",
       "      <td>5.0</td>\n",
       "      <td>0.0</td>\n",
       "      <td>0.0</td>\n",
       "      <td>109.337106</td>\n",
       "      <td>0.0</td>\n",
       "      <td>16.0</td>\n",
       "      <td>36.213987</td>\n",
       "      <td>0</td>\n",
       "    </tr>\n",
       "    <tr>\n",
       "      <th>8</th>\n",
       "      <td>1</td>\n",
       "      <td>5000</td>\n",
       "      <td>40000.0</td>\n",
       "      <td>32480.0</td>\n",
       "      <td>HomeImp</td>\n",
       "      <td>Other</td>\n",
       "      <td>8.0</td>\n",
       "      <td>3.0</td>\n",
       "      <td>2.0</td>\n",
       "      <td>163.366667</td>\n",
       "      <td>1.0</td>\n",
       "      <td>16.0</td>\n",
       "      <td>NaN</td>\n",
       "      <td>1</td>\n",
       "    </tr>\n",
       "    <tr>\n",
       "      <th>9</th>\n",
       "      <td>1</td>\n",
       "      <td>23000</td>\n",
       "      <td>56000.0</td>\n",
       "      <td>92000.0</td>\n",
       "      <td>DebtCon</td>\n",
       "      <td>Other</td>\n",
       "      <td>8.0</td>\n",
       "      <td>1.0</td>\n",
       "      <td>4.0</td>\n",
       "      <td>69.133333</td>\n",
       "      <td>2.0</td>\n",
       "      <td>27.0</td>\n",
       "      <td>NaN</td>\n",
       "      <td>1</td>\n",
       "    </tr>\n",
       "  </tbody>\n",
       "</table>\n",
       "</div>"
      ],
      "text/plain": [
       "   BAD   LOAN   MORTDUE     VALUE   REASON      JOB   YOJ  DEROG  DELINQ  \\\n",
       "0    0  11400  112930.0  144830.0  DebtCon  ProfExe   2.0    0.0     0.0   \n",
       "1    0   8700   77930.0   80164.0  HomeImp    Other  20.0    0.0     0.0   \n",
       "2    0   9300   54088.0   66961.0  DebtCon    Other  22.0    0.0     0.0   \n",
       "3    0  18600   49385.0   70220.0  DebtCon  ProfExe   6.0    0.0     0.0   \n",
       "4    0  38100   33446.0   73289.0  DebtCon  ProfExe   5.0    0.0     0.0   \n",
       "5    0  12800   77318.0   97616.0  DebtCon      Mgr   6.0    0.0     0.0   \n",
       "6    0  28200  148772.0  186023.0  HomeImp     Self   3.0    0.0     0.0   \n",
       "7    0  18300   93728.0  153093.0  HomeImp  ProfExe   5.0    0.0     0.0   \n",
       "8    1   5000   40000.0   32480.0  HomeImp    Other   8.0    3.0     2.0   \n",
       "9    1  23000   56000.0   92000.0  DebtCon    Other   8.0    1.0     4.0   \n",
       "\n",
       "        CLAGE  NINQ  CLNO    DEBTINC  result  \n",
       "0  271.238037   1.0  46.0  33.251079       0  \n",
       "1  350.528410   1.0  47.0  29.662360       0  \n",
       "2  278.160473   3.0  28.0  40.823542       0  \n",
       "3  229.474919   2.0  32.0  30.731397       0  \n",
       "4  180.847815   1.0  18.0  23.820415       0  \n",
       "5  125.534802   2.0  27.0  39.462663       0  \n",
       "6  203.575860   1.0  17.0  43.304658       0  \n",
       "7  109.337106   0.0  16.0  36.213987       0  \n",
       "8  163.366667   1.0  16.0        NaN       1  \n",
       "9   69.133333   2.0  27.0        NaN       1  "
      ]
     },
     "execution_count": 37,
     "metadata": {},
     "output_type": "execute_result"
    }
   ],
   "source": [
    "# テストデータ予測結果を結合\n",
    "results = pd.concat([df_test.reset_index(drop=True),result],axis=1)\n",
    "results.head(10)"
   ]
  },
  {
   "cell_type": "markdown",
   "metadata": {
    "slideshow": {
     "slide_type": "subslide"
    }
   },
   "source": [
    "#### テストデータ予測結果の可視化"
   ]
  },
  {
   "cell_type": "code",
   "execution_count": 38,
   "metadata": {
    "slideshow": {
     "slide_type": "fragment"
    }
   },
   "outputs": [
    {
     "name": "stdout",
     "output_type": "stream",
     "text": [
      "             precision    recall  f1-score   support\n",
      "\n",
      "          0       0.99      0.93      0.96      1014\n",
      "          1       0.70      0.96      0.81       178\n",
      "\n",
      "avg / total       0.95      0.93      0.94      1192\n",
      "\n",
      "[[942  72]\n",
      " [  7 171]]\n"
     ]
    }
   ],
   "source": [
    "from sklearn.metrics import confusion_matrix\n",
    "from sklearn.metrics import classification_report\n",
    "# Classification Report\n",
    "print(classification_report(results['result'],results['BAD']))\n",
    "# Confusion Matrix\n",
    "print(confusion_matrix(results['result'],results['BAD']))"
   ]
  }
 ],
 "metadata": {
  "celltoolbar": "Slideshow",
  "kernelspec": {
   "display_name": "Python 3",
   "language": "python",
   "name": "python3"
  },
  "language_info": {
   "codemirror_mode": {
    "name": "ipython",
    "version": 3
   },
   "file_extension": ".py",
   "mimetype": "text/x-python",
   "name": "python",
   "nbconvert_exporter": "python",
   "pygments_lexer": "ipython3",
   "version": "3.6.5"
  }
 },
 "nbformat": 4,
 "nbformat_minor": 2
}
