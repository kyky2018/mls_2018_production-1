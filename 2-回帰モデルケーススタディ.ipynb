{
 "cells": [
  {
   "cell_type": "code",
   "execution_count": 1,
   "metadata": {
    "slideshow": {
     "slide_type": "skip"
    }
   },
   "outputs": [
    {
     "data": {
      "text/html": [
       "<style>\n",
       "body {\n",
       "  #background-color: #FFFAFA !important;\n",
       "  border-bottom: solid 10px #F4BD2F !important;\n",
       "}\n",
       "</style> "
      ],
      "text/plain": [
       "<IPython.core.display.HTML object>"
      ]
     },
     "metadata": {},
     "output_type": "display_data"
    }
   ],
   "source": [
    "%%HTML\n",
    "<style>\n",
    "body {\n",
    "  #background-color: #FFFAFA !important;\n",
    "  border-bottom: solid 10px #F4BD2F !important;\n",
    "}\n",
    "</style> "
   ]
  },
  {
   "cell_type": "markdown",
   "metadata": {
    "slideshow": {
     "slide_type": "slide"
    }
   },
   "source": [
    "# 機械学習による回帰(Regression)ケーススタディ\n"
   ]
  },
  {
   "cell_type": "markdown",
   "metadata": {
    "slideshow": {
     "slide_type": "fragment"
    }
   },
   "source": [
    " #### 本ケーススタディのステップ\n",
    "\n",
    " - Step1 データ内容確認・可視化\n",
    " - Step2 データ前処理\n",
    " - Step3 モデル構築・検証\n",
    " - Step4 最適モデルによる結果確認  "
   ]
  },
  {
   "cell_type": "markdown",
   "metadata": {
    "slideshow": {
     "slide_type": "fragment"
    }
   },
   "source": [
    "#### 今回試行する回帰モデル\n",
    "\n",
    "|モデル|内容|使用ライブラリ|\n",
    "|:-----:|:--------:|:--------:|\n",
    "|**決定木**|ツリー状の分岐処理で最も説明力の高いものを採用|[sklearn.tree.DecisionTreeRegressor](http://scikit-learn.org/stable/modules/generated/sklearn.tree.DecisionTreeRegressor.html)|\n",
    "|**ランダムフォレスト**|複数の決定木の多数決で回帰|[sklearn.ensemble.RandomForestRegressor](http://scikit-learn.org/stable/modules/generated/sklearn.ensemble.RandomForestRegressor)|\n",
    "|**XGBoost**|勾配ブースティングによる決定木の構築|[xgboost.XGBRegressor](https://github.com/dmlc/xgboost)|\n",
    "|**k近傍法**|説明変数に最も近い教師データによる回帰|[sklearn.neighbors.KNeighborsRegressor](http://scikit-learn.org/stable/modules/generated/sklearn.neighbors.KNeighborsRegressor.html)|\n",
    "|**サポートベクターマシン**|データ分類の境界線をマージンが最小になるように定める手法|[sklearn.svm.SVR](http://scikit-learn.org/stable/modules/generated/sklearn.svm.SVR.html)"
   ]
  },
  {
   "cell_type": "markdown",
   "metadata": {
    "slideshow": {
     "slide_type": "slide"
    }
   },
   "source": [
    "### Step1 データ内容確認・可視化"
   ]
  },
  {
   "cell_type": "markdown",
   "metadata": {
    "slideshow": {
     "slide_type": "fragment"
    }
   },
   "source": [
    "#### 対象データセット：Death in the United States\n",
    "\n",
    " - https://www.kaggle.com/cdc/mortality\n",
    " - 米国CDC(Centers for Disease Control and Prevention)による公開データ\n",
    " - ライセンス：CC0 public domain\n",
    " - 英国IFAレポート[\"Practical Application of Machine Learning Within Actuarial Work\"](https://www.actuaries.org.uk/practice-areas/general-insurance/disbanded-research-working-parties/modelling-analytics-and-insights-data)でも検討\n",
    " - 本ケーススタディでは、2015年の米国内死者データから30000件抽出したものを使用します"
   ]
  },
  {
   "cell_type": "markdown",
   "metadata": {
    "slideshow": {
     "slide_type": "fragment"
    }
   },
   "source": [
    "##### （参考）英国IFA (Institution and Faculty of Actuaries) Working Party \"Modelling, Analytics and Insights from Data\"\n",
    " - 前述のレポート以外にも、データ分析にかかる有用な情報が提供されています（[リンク](https://www.actuaries.org.uk/practice-areas/general-insurance/disbanded-research-working-parties/modelling-analytics-and-insights-data)）"
   ]
  },
  {
   "cell_type": "markdown",
   "metadata": {
    "slideshow": {
     "slide_type": "subslide"
    }
   },
   "source": [
    "#### 1-1 データ読込\n",
    " - `pandas`の`read_csv`関数を用いてcsvファイルを読み込みます"
   ]
  },
  {
   "cell_type": "code",
   "execution_count": 2,
   "metadata": {
    "slideshow": {
     "slide_type": "fragment"
    }
   },
   "outputs": [],
   "source": [
    "# 基本的なライブラリをインポート\n",
    "import numpy as np\n",
    "import pandas as pd\n",
    "# 元データ読込\n",
    "df_raw =  pd.read_csv('https://storage.googleapis.com/cdc1/cdc_2015_mls2.csv')"
   ]
  },
  {
   "cell_type": "markdown",
   "metadata": {
    "slideshow": {
     "slide_type": "slide"
    }
   },
   "source": [
    "#### 1-2 データ分割\n",
    " - 本ケーススタディでは全データ(30000件)を、学習用データ（24000件）とテスト用データ(6000件)に分割して使用します。\n",
    " - データ分割にあたって、「上からXX行」という方法は極力避けるべきです。ここでは`scikit-learn`の`train_test_split`を使用します。"
   ]
  },
  {
   "cell_type": "code",
   "execution_count": 3,
   "metadata": {
    "slideshow": {
     "slide_type": "fragment"
    }
   },
   "outputs": [],
   "source": [
    "#データ分割\n",
    "from sklearn.model_selection import train_test_split\n",
    "df_train,  df_test, _, _ = train_test_split(df_raw, df_raw, test_size=0.2, random_state=2018)"
   ]
  },
  {
   "cell_type": "markdown",
   "metadata": {
    "slideshow": {
     "slide_type": "subslide"
    }
   },
   "source": [
    "#### 1-3 データの全体像を確認（DataFrameクラス関数を使用）\n",
    " - まずはデータの全体像を確認しましょう\n",
    " - pandasのDataFrameクラスには、当該DataFrameの全体像を把握するための関数が複数存在します\n",
    "\n",
    "|DataFrameクラス関数|内容|\n",
    "|:-----:|:--------:|\n",
    "|**`df.info()`**|行数・列数やメモリ使用量などの情報を表示|\n",
    "|**`df.head(n)`**|最初のn行を表示|\n",
    "|**`df.describe()`**|各列の情報を表示|"
   ]
  },
  {
   "cell_type": "code",
   "execution_count": 4,
   "metadata": {
    "slideshow": {
     "slide_type": "fragment"
    }
   },
   "outputs": [
    {
     "name": "stdout",
     "output_type": "stream",
     "text": [
      "<class 'pandas.core.frame.DataFrame'>\n",
      "Int64Index: 24000 entries, 22659 to 9466\n",
      "Data columns (total 11 columns):\n",
      "Jusho          24000 non-null int64\n",
      "Education      23308 non-null float64\n",
      "Sex            24000 non-null object\n",
      "Marital        24000 non-null object\n",
      "Death_Place    24000 non-null int64\n",
      "Injury         24000 non-null object\n",
      "Death_Cause    20486 non-null float64\n",
      "Disposition    24000 non-null object\n",
      "Month          24000 non-null int64\n",
      "Week           24000 non-null int64\n",
      "Age            24000 non-null int64\n",
      "dtypes: float64(2), int64(5), object(4)\n",
      "memory usage: 2.2+ MB\n"
     ]
    }
   ],
   "source": [
    "# 行数・列数やメモリ使用量などの情報を表示\n",
    "df_train.info()"
   ]
  },
  {
   "cell_type": "markdown",
   "metadata": {
    "slideshow": {
     "slide_type": "subslide"
    }
   },
   "source": [
    "#### データ定義を確認\n",
    "\n",
    " - 各フィールドの定義は以下のとおり ([CDCwebsite](https://www.cdc.gov/nchs/nvss/mortality_public_use_data.htm)より。講義用に修正。)\n",
    " - 今回は回帰モデルケーススタディなので、数値フィールドである`Age`（死亡時年齢）を目的変数とします（IFAレポートのケーススタディと同様）\n",
    "\n",
    "|field|content|\n",
    "|:-----:|:--------:|\n",
    "|Jusho|死亡者住所。1-Residents, 2-Intrastate Nonresidents, 3-Interstate Nonresidents, 4-Foreign Residents  |\n",
    "|Education|1-8th grade or less, 2-9~12th grade, no diploma, 3-highschool graduate or GED completed, 4-some college credit, but no degree, 5- Associate degree, 6-Bachelor's degree, 7-Masger's degree, 8-Doctorate or professional degree, 9-Unknown|\n",
    "|Sex|M-Male, F-Female|\n",
    "|Marital|S-Never married, single, M- Married, W-Widowed, D-Divorced, U-Unknown|\n",
    "|Death_Place|死亡場所。1-Hospital, impatient, 2-Hospital, outpatient, 3-Hospital, dead on arriva, 4-Decedent's home, 5-Hospice facility, 6-Nursing home, 7-Other, 9-unknown|\n",
    "|Injury|Y-Yes, N-No, U-Unknown|\n",
    "|Death_Cause|死因。1-Accident, 2-Suicide, 3-Homicide, 4-Pending investigation, 5- Could not determine, 6-Self-inflicted, 7-Natural, Blank-Not specified|\n",
    "|Disposition|葬法。B-Burial, C-Cremation, O-Other, U-Unknown|\n",
    "|Month|死亡月。|\n",
    "|Week|死亡週。1-Sun, 2-Mon, 3-Tue, 4-Wed, 5-Thu, 6-Fri, 7-Sat, 9-Unknown|\n",
    "|**Age**|死亡時年齢 (= **目的変数**)|\n"
   ]
  },
  {
   "cell_type": "code",
   "execution_count": 5,
   "metadata": {
    "slideshow": {
     "slide_type": "subslide"
    }
   },
   "outputs": [
    {
     "data": {
      "text/html": [
       "<div>\n",
       "<style scoped>\n",
       "    .dataframe tbody tr th:only-of-type {\n",
       "        vertical-align: middle;\n",
       "    }\n",
       "\n",
       "    .dataframe tbody tr th {\n",
       "        vertical-align: top;\n",
       "    }\n",
       "\n",
       "    .dataframe thead th {\n",
       "        text-align: right;\n",
       "    }\n",
       "</style>\n",
       "<table border=\"1\" class=\"dataframe\">\n",
       "  <thead>\n",
       "    <tr style=\"text-align: right;\">\n",
       "      <th></th>\n",
       "      <th>Jusho</th>\n",
       "      <th>Education</th>\n",
       "      <th>Sex</th>\n",
       "      <th>Marital</th>\n",
       "      <th>Death_Place</th>\n",
       "      <th>Injury</th>\n",
       "      <th>Death_Cause</th>\n",
       "      <th>Disposition</th>\n",
       "      <th>Month</th>\n",
       "      <th>Week</th>\n",
       "      <th>Age</th>\n",
       "    </tr>\n",
       "  </thead>\n",
       "  <tbody>\n",
       "    <tr>\n",
       "      <th>22659</th>\n",
       "      <td>2</td>\n",
       "      <td>3.0</td>\n",
       "      <td>M</td>\n",
       "      <td>M</td>\n",
       "      <td>1</td>\n",
       "      <td>U</td>\n",
       "      <td>7.0</td>\n",
       "      <td>C</td>\n",
       "      <td>11</td>\n",
       "      <td>6</td>\n",
       "      <td>63</td>\n",
       "    </tr>\n",
       "    <tr>\n",
       "      <th>6618</th>\n",
       "      <td>1</td>\n",
       "      <td>2.0</td>\n",
       "      <td>M</td>\n",
       "      <td>D</td>\n",
       "      <td>1</td>\n",
       "      <td>U</td>\n",
       "      <td>7.0</td>\n",
       "      <td>C</td>\n",
       "      <td>8</td>\n",
       "      <td>6</td>\n",
       "      <td>53</td>\n",
       "    </tr>\n",
       "    <tr>\n",
       "      <th>26605</th>\n",
       "      <td>1</td>\n",
       "      <td>NaN</td>\n",
       "      <td>F</td>\n",
       "      <td>W</td>\n",
       "      <td>1</td>\n",
       "      <td>U</td>\n",
       "      <td>7.0</td>\n",
       "      <td>U</td>\n",
       "      <td>8</td>\n",
       "      <td>7</td>\n",
       "      <td>94</td>\n",
       "    </tr>\n",
       "    <tr>\n",
       "      <th>2504</th>\n",
       "      <td>1</td>\n",
       "      <td>1.0</td>\n",
       "      <td>F</td>\n",
       "      <td>W</td>\n",
       "      <td>4</td>\n",
       "      <td>U</td>\n",
       "      <td>7.0</td>\n",
       "      <td>B</td>\n",
       "      <td>5</td>\n",
       "      <td>3</td>\n",
       "      <td>87</td>\n",
       "    </tr>\n",
       "    <tr>\n",
       "      <th>1111</th>\n",
       "      <td>1</td>\n",
       "      <td>3.0</td>\n",
       "      <td>M</td>\n",
       "      <td>S</td>\n",
       "      <td>5</td>\n",
       "      <td>U</td>\n",
       "      <td>7.0</td>\n",
       "      <td>B</td>\n",
       "      <td>3</td>\n",
       "      <td>1</td>\n",
       "      <td>67</td>\n",
       "    </tr>\n",
       "    <tr>\n",
       "      <th>15716</th>\n",
       "      <td>1</td>\n",
       "      <td>7.0</td>\n",
       "      <td>F</td>\n",
       "      <td>S</td>\n",
       "      <td>4</td>\n",
       "      <td>U</td>\n",
       "      <td>NaN</td>\n",
       "      <td>B</td>\n",
       "      <td>11</td>\n",
       "      <td>4</td>\n",
       "      <td>66</td>\n",
       "    </tr>\n",
       "    <tr>\n",
       "      <th>15010</th>\n",
       "      <td>1</td>\n",
       "      <td>NaN</td>\n",
       "      <td>F</td>\n",
       "      <td>W</td>\n",
       "      <td>4</td>\n",
       "      <td>U</td>\n",
       "      <td>7.0</td>\n",
       "      <td>U</td>\n",
       "      <td>1</td>\n",
       "      <td>4</td>\n",
       "      <td>84</td>\n",
       "    </tr>\n",
       "    <tr>\n",
       "      <th>12642</th>\n",
       "      <td>1</td>\n",
       "      <td>3.0</td>\n",
       "      <td>M</td>\n",
       "      <td>S</td>\n",
       "      <td>7</td>\n",
       "      <td>N</td>\n",
       "      <td>1.0</td>\n",
       "      <td>C</td>\n",
       "      <td>12</td>\n",
       "      <td>1</td>\n",
       "      <td>46</td>\n",
       "    </tr>\n",
       "    <tr>\n",
       "      <th>1164</th>\n",
       "      <td>1</td>\n",
       "      <td>5.0</td>\n",
       "      <td>F</td>\n",
       "      <td>M</td>\n",
       "      <td>4</td>\n",
       "      <td>U</td>\n",
       "      <td>7.0</td>\n",
       "      <td>C</td>\n",
       "      <td>9</td>\n",
       "      <td>7</td>\n",
       "      <td>92</td>\n",
       "    </tr>\n",
       "    <tr>\n",
       "      <th>10374</th>\n",
       "      <td>1</td>\n",
       "      <td>2.0</td>\n",
       "      <td>M</td>\n",
       "      <td>M</td>\n",
       "      <td>4</td>\n",
       "      <td>U</td>\n",
       "      <td>7.0</td>\n",
       "      <td>C</td>\n",
       "      <td>11</td>\n",
       "      <td>2</td>\n",
       "      <td>52</td>\n",
       "    </tr>\n",
       "  </tbody>\n",
       "</table>\n",
       "</div>"
      ],
      "text/plain": [
       "       Jusho  Education Sex Marital  Death_Place Injury  Death_Cause  \\\n",
       "22659      2        3.0   M       M            1      U          7.0   \n",
       "6618       1        2.0   M       D            1      U          7.0   \n",
       "26605      1        NaN   F       W            1      U          7.0   \n",
       "2504       1        1.0   F       W            4      U          7.0   \n",
       "1111       1        3.0   M       S            5      U          7.0   \n",
       "15716      1        7.0   F       S            4      U          NaN   \n",
       "15010      1        NaN   F       W            4      U          7.0   \n",
       "12642      1        3.0   M       S            7      N          1.0   \n",
       "1164       1        5.0   F       M            4      U          7.0   \n",
       "10374      1        2.0   M       M            4      U          7.0   \n",
       "\n",
       "      Disposition  Month  Week  Age  \n",
       "22659           C     11     6   63  \n",
       "6618            C      8     6   53  \n",
       "26605           U      8     7   94  \n",
       "2504            B      5     3   87  \n",
       "1111            B      3     1   67  \n",
       "15716           B     11     4   66  \n",
       "15010           U      1     4   84  \n",
       "12642           C     12     1   46  \n",
       "1164            C      9     7   92  \n",
       "10374           C     11     2   52  "
      ]
     },
     "execution_count": 5,
     "metadata": {},
     "output_type": "execute_result"
    }
   ],
   "source": [
    "# 最初のn行を表示\n",
    "df_train.head(10)"
   ]
  },
  {
   "cell_type": "code",
   "execution_count": 6,
   "metadata": {
    "slideshow": {
     "slide_type": "subslide"
    }
   },
   "outputs": [
    {
     "data": {
      "text/html": [
       "<div>\n",
       "<style scoped>\n",
       "    .dataframe tbody tr th:only-of-type {\n",
       "        vertical-align: middle;\n",
       "    }\n",
       "\n",
       "    .dataframe tbody tr th {\n",
       "        vertical-align: top;\n",
       "    }\n",
       "\n",
       "    .dataframe thead th {\n",
       "        text-align: right;\n",
       "    }\n",
       "</style>\n",
       "<table border=\"1\" class=\"dataframe\">\n",
       "  <thead>\n",
       "    <tr style=\"text-align: right;\">\n",
       "      <th></th>\n",
       "      <th>Jusho</th>\n",
       "      <th>Education</th>\n",
       "      <th>Death_Place</th>\n",
       "      <th>Death_Cause</th>\n",
       "      <th>Month</th>\n",
       "      <th>Week</th>\n",
       "      <th>Age</th>\n",
       "    </tr>\n",
       "  </thead>\n",
       "  <tbody>\n",
       "    <tr>\n",
       "      <th>count</th>\n",
       "      <td>24000.000000</td>\n",
       "      <td>23308.000000</td>\n",
       "      <td>24000.000000</td>\n",
       "      <td>20486.000000</td>\n",
       "      <td>24000.000000</td>\n",
       "      <td>24000.000000</td>\n",
       "      <td>24000.000000</td>\n",
       "    </tr>\n",
       "    <tr>\n",
       "      <th>mean</th>\n",
       "      <td>1.226042</td>\n",
       "      <td>3.705337</td>\n",
       "      <td>3.606500</td>\n",
       "      <td>6.482720</td>\n",
       "      <td>6.382208</td>\n",
       "      <td>4.011000</td>\n",
       "      <td>73.129667</td>\n",
       "    </tr>\n",
       "    <tr>\n",
       "      <th>std</th>\n",
       "      <td>0.497367</td>\n",
       "      <td>1.966535</td>\n",
       "      <td>2.068172</td>\n",
       "      <td>1.618079</td>\n",
       "      <td>3.516221</td>\n",
       "      <td>2.004652</td>\n",
       "      <td>18.011208</td>\n",
       "    </tr>\n",
       "    <tr>\n",
       "      <th>min</th>\n",
       "      <td>1.000000</td>\n",
       "      <td>1.000000</td>\n",
       "      <td>1.000000</td>\n",
       "      <td>1.000000</td>\n",
       "      <td>1.000000</td>\n",
       "      <td>1.000000</td>\n",
       "      <td>1.000000</td>\n",
       "    </tr>\n",
       "    <tr>\n",
       "      <th>25%</th>\n",
       "      <td>1.000000</td>\n",
       "      <td>3.000000</td>\n",
       "      <td>1.000000</td>\n",
       "      <td>7.000000</td>\n",
       "      <td>3.000000</td>\n",
       "      <td>2.000000</td>\n",
       "      <td>63.000000</td>\n",
       "    </tr>\n",
       "    <tr>\n",
       "      <th>50%</th>\n",
       "      <td>1.000000</td>\n",
       "      <td>3.000000</td>\n",
       "      <td>4.000000</td>\n",
       "      <td>7.000000</td>\n",
       "      <td>6.000000</td>\n",
       "      <td>4.000000</td>\n",
       "      <td>77.000000</td>\n",
       "    </tr>\n",
       "    <tr>\n",
       "      <th>75%</th>\n",
       "      <td>1.000000</td>\n",
       "      <td>5.000000</td>\n",
       "      <td>6.000000</td>\n",
       "      <td>7.000000</td>\n",
       "      <td>9.000000</td>\n",
       "      <td>6.000000</td>\n",
       "      <td>87.000000</td>\n",
       "    </tr>\n",
       "    <tr>\n",
       "      <th>max</th>\n",
       "      <td>4.000000</td>\n",
       "      <td>9.000000</td>\n",
       "      <td>9.000000</td>\n",
       "      <td>7.000000</td>\n",
       "      <td>12.000000</td>\n",
       "      <td>9.000000</td>\n",
       "      <td>108.000000</td>\n",
       "    </tr>\n",
       "  </tbody>\n",
       "</table>\n",
       "</div>"
      ],
      "text/plain": [
       "              Jusho     Education   Death_Place   Death_Cause         Month  \\\n",
       "count  24000.000000  23308.000000  24000.000000  20486.000000  24000.000000   \n",
       "mean       1.226042      3.705337      3.606500      6.482720      6.382208   \n",
       "std        0.497367      1.966535      2.068172      1.618079      3.516221   \n",
       "min        1.000000      1.000000      1.000000      1.000000      1.000000   \n",
       "25%        1.000000      3.000000      1.000000      7.000000      3.000000   \n",
       "50%        1.000000      3.000000      4.000000      7.000000      6.000000   \n",
       "75%        1.000000      5.000000      6.000000      7.000000      9.000000   \n",
       "max        4.000000      9.000000      9.000000      7.000000     12.000000   \n",
       "\n",
       "               Week           Age  \n",
       "count  24000.000000  24000.000000  \n",
       "mean       4.011000     73.129667  \n",
       "std        2.004652     18.011208  \n",
       "min        1.000000      1.000000  \n",
       "25%        2.000000     63.000000  \n",
       "50%        4.000000     77.000000  \n",
       "75%        6.000000     87.000000  \n",
       "max        9.000000    108.000000  "
      ]
     },
     "execution_count": 6,
     "metadata": {},
     "output_type": "execute_result"
    }
   ],
   "source": [
    "# 各列の情報を表示（特にmin/maxをチェック）\n",
    "df_train.describe()"
   ]
  },
  {
   "cell_type": "markdown",
   "metadata": {
    "slideshow": {
     "slide_type": "subslide"
    }
   },
   "source": [
    "#### 1-4 データ全体像把握の結果\n",
    "\n",
    "以下の欠損値処理が必要\n",
    " - `education` : Naがあるので、'U' (Unknown) に置換  \n",
    " - `manner_of_death` : Blankがあるので、'8' (新規)に置換  "
   ]
  },
  {
   "cell_type": "code",
   "execution_count": 7,
   "metadata": {
    "scrolled": true,
    "slideshow": {
     "slide_type": "fragment"
    }
   },
   "outputs": [
    {
     "name": "stdout",
     "output_type": "stream",
     "text": [
      "<class 'pandas.core.frame.DataFrame'>\n",
      "Int64Index: 24000 entries, 22659 to 9466\n",
      "Data columns (total 11 columns):\n",
      "Jusho          24000 non-null int64\n",
      "Education      24000 non-null object\n",
      "Sex            24000 non-null object\n",
      "Marital        24000 non-null object\n",
      "Death_Place    24000 non-null int64\n",
      "Injury         24000 non-null object\n",
      "Death_Cause    24000 non-null float64\n",
      "Disposition    24000 non-null object\n",
      "Month          24000 non-null int64\n",
      "Week           24000 non-null int64\n",
      "Age            24000 non-null int64\n",
      "dtypes: float64(1), int64(5), object(5)\n",
      "memory usage: 2.2+ MB\n"
     ]
    },
    {
     "data": {
      "text/html": [
       "<div>\n",
       "<style scoped>\n",
       "    .dataframe tbody tr th:only-of-type {\n",
       "        vertical-align: middle;\n",
       "    }\n",
       "\n",
       "    .dataframe tbody tr th {\n",
       "        vertical-align: top;\n",
       "    }\n",
       "\n",
       "    .dataframe thead th {\n",
       "        text-align: right;\n",
       "    }\n",
       "</style>\n",
       "<table border=\"1\" class=\"dataframe\">\n",
       "  <thead>\n",
       "    <tr style=\"text-align: right;\">\n",
       "      <th></th>\n",
       "      <th>Jusho</th>\n",
       "      <th>Death_Place</th>\n",
       "      <th>Death_Cause</th>\n",
       "      <th>Month</th>\n",
       "      <th>Week</th>\n",
       "      <th>Age</th>\n",
       "    </tr>\n",
       "  </thead>\n",
       "  <tbody>\n",
       "    <tr>\n",
       "      <th>count</th>\n",
       "      <td>24000.000000</td>\n",
       "      <td>24000.000000</td>\n",
       "      <td>24000.000000</td>\n",
       "      <td>24000.000000</td>\n",
       "      <td>24000.000000</td>\n",
       "      <td>24000.000000</td>\n",
       "    </tr>\n",
       "    <tr>\n",
       "      <th>mean</th>\n",
       "      <td>1.226042</td>\n",
       "      <td>3.606500</td>\n",
       "      <td>6.704875</td>\n",
       "      <td>6.382208</td>\n",
       "      <td>4.011000</td>\n",
       "      <td>73.129667</td>\n",
       "    </tr>\n",
       "    <tr>\n",
       "      <th>std</th>\n",
       "      <td>0.497367</td>\n",
       "      <td>2.068172</td>\n",
       "      <td>1.588253</td>\n",
       "      <td>3.516221</td>\n",
       "      <td>2.004652</td>\n",
       "      <td>18.011208</td>\n",
       "    </tr>\n",
       "    <tr>\n",
       "      <th>min</th>\n",
       "      <td>1.000000</td>\n",
       "      <td>1.000000</td>\n",
       "      <td>1.000000</td>\n",
       "      <td>1.000000</td>\n",
       "      <td>1.000000</td>\n",
       "      <td>1.000000</td>\n",
       "    </tr>\n",
       "    <tr>\n",
       "      <th>25%</th>\n",
       "      <td>1.000000</td>\n",
       "      <td>1.000000</td>\n",
       "      <td>7.000000</td>\n",
       "      <td>3.000000</td>\n",
       "      <td>2.000000</td>\n",
       "      <td>63.000000</td>\n",
       "    </tr>\n",
       "    <tr>\n",
       "      <th>50%</th>\n",
       "      <td>1.000000</td>\n",
       "      <td>4.000000</td>\n",
       "      <td>7.000000</td>\n",
       "      <td>6.000000</td>\n",
       "      <td>4.000000</td>\n",
       "      <td>77.000000</td>\n",
       "    </tr>\n",
       "    <tr>\n",
       "      <th>75%</th>\n",
       "      <td>1.000000</td>\n",
       "      <td>6.000000</td>\n",
       "      <td>7.000000</td>\n",
       "      <td>9.000000</td>\n",
       "      <td>6.000000</td>\n",
       "      <td>87.000000</td>\n",
       "    </tr>\n",
       "    <tr>\n",
       "      <th>max</th>\n",
       "      <td>4.000000</td>\n",
       "      <td>9.000000</td>\n",
       "      <td>8.000000</td>\n",
       "      <td>12.000000</td>\n",
       "      <td>9.000000</td>\n",
       "      <td>108.000000</td>\n",
       "    </tr>\n",
       "  </tbody>\n",
       "</table>\n",
       "</div>"
      ],
      "text/plain": [
       "              Jusho   Death_Place   Death_Cause         Month          Week  \\\n",
       "count  24000.000000  24000.000000  24000.000000  24000.000000  24000.000000   \n",
       "mean       1.226042      3.606500      6.704875      6.382208      4.011000   \n",
       "std        0.497367      2.068172      1.588253      3.516221      2.004652   \n",
       "min        1.000000      1.000000      1.000000      1.000000      1.000000   \n",
       "25%        1.000000      1.000000      7.000000      3.000000      2.000000   \n",
       "50%        1.000000      4.000000      7.000000      6.000000      4.000000   \n",
       "75%        1.000000      6.000000      7.000000      9.000000      6.000000   \n",
       "max        4.000000      9.000000      8.000000     12.000000      9.000000   \n",
       "\n",
       "                Age  \n",
       "count  24000.000000  \n",
       "mean      73.129667  \n",
       "std       18.011208  \n",
       "min        1.000000  \n",
       "25%       63.000000  \n",
       "50%       77.000000  \n",
       "75%       87.000000  \n",
       "max      108.000000  "
      ]
     },
     "execution_count": 7,
     "metadata": {},
     "output_type": "execute_result"
    }
   ],
   "source": [
    "# DataFrameクラス関数で欠損値を置換\n",
    "df_train2 = df_train.fillna({'Education' : 'U', 'Death_Cause' : 8})\n",
    "# きちんと置換できたことを確認\n",
    "df_train2.info()\n",
    "df_train2.describe()"
   ]
  },
  {
   "cell_type": "markdown",
   "metadata": {
    "slideshow": {
     "slide_type": "subslide"
    }
   },
   "source": [
    "#### 1-5 可視化用ライブラリのインポート\n",
    " - `matplotlib`と`seaborn`が一般的\n",
    " - スタイルを自由に設定可能（`seaborn-darkgrid`が個人的におすすめ。Rに慣れてる人は`ggplot`もあり）"
   ]
  },
  {
   "cell_type": "code",
   "execution_count": 8,
   "metadata": {
    "slideshow": {
     "slide_type": "fragment"
    }
   },
   "outputs": [],
   "source": [
    "# 描画にはmatplotlibとseabornを使用\n",
    "import matplotlib.pyplot as plt\n",
    "import seaborn as sns\n",
    "plt.style.use('seaborn-darkgrid')\n",
    "#plt.style.use('ggplot')"
   ]
  },
  {
   "cell_type": "markdown",
   "metadata": {
    "slideshow": {
     "slide_type": "subslide"
    }
   },
   "source": [
    "#### 1-6 目的変数の挙動確認\n",
    " - まずは学習用データの目的変数（死亡時年齢）につき、想定外の挙動をしていないかヒストグラムでチェック\n",
    " - ヒストグラム描画の作法はいろいろあるが、DataFrameクラス関数(matploblibのwrapper)を用いるのが汎用性の面でオススメ"
   ]
  },
  {
   "cell_type": "code",
   "execution_count": 9,
   "metadata": {
    "slideshow": {
     "slide_type": "fragment"
    }
   },
   "outputs": [
    {
     "data": {
      "text/plain": [
       "<matplotlib.axes._subplots.AxesSubplot at 0x1a18314da0>"
      ]
     },
     "execution_count": 9,
     "metadata": {},
     "output_type": "execute_result"
    },
    {
     "data": {
      "image/png": "[encoded data removed]",
      "text/plain": [
       "<Figure size 432x288 with 1 Axes>"
      ]
     },
     "metadata": {},
     "output_type": "display_data"
    }
   ],
   "source": [
    "# ヒストグラム描画\n",
    "name_obj = 'Age'\n",
    "fig, ax = plt.subplots()\n",
    "df_train2.plot(y=name_obj, kind='hist', bins=50, ax=ax)"
   ]
  },
  {
   "cell_type": "markdown",
   "metadata": {
    "slideshow": {
     "slide_type": "subslide"
    }
   },
   "source": [
    "#### 1-7 説明変数の分類（暫定）\n",
    "- **説明変数の分類**を意識することが、今後の処理できわめて重要\n",
    "\n",
    "|変数タイプ|内容|具体例|機械学習での取扱|  \n",
    "|:---|:---|:---|:---|  \n",
    "|**Numeric** |量的に測定された変数 （\"差\"に意味がある）　|長さ, 重さ, 時間, 回数, etc.　|　　正規化・標準化のうえモデル投入が一般的　|  \n",
    "|**Categorical - ordinal** | 順序づけ可能な変数（ただし\"差\"に意味がない）　|成績（優/良/可）, 服のサイズ（L/M/S）, etc.　|　　Factorize（順序化）が一般的|  \n",
    "|**Categorical - nominal** | 順序づけ不可能な変数　|性別, 商品名, etc.　|　　One-Hot Encodingが一般的　|  "
   ]
  },
  {
   "cell_type": "code",
   "execution_count": 10,
   "metadata": {
    "slideshow": {
     "slide_type": "fragment"
    }
   },
   "outputs": [],
   "source": [
    "# 説明変数名のリストを3つ作成\n",
    "names_num = []\n",
    "names_ord = ['Jusho']\n",
    "names_nominal = ['Education','Sex','Marital','Death_Place','Injury','Death_Cause','Disposition']\n",
    "# リストを3つつなげて説明変数名全体を作成\n",
    "names_all = names_num + names_ord + names_nominal\n",
    "# 以下の説明変数は不使用\n",
    "names_unused = ['Month','Week']"
   ]
  },
  {
   "cell_type": "markdown",
   "metadata": {
    "slideshow": {
     "slide_type": "subslide"
    }
   },
   "source": [
    "#### 1-8 Categorical変数の可視化・検討\n",
    " - 各説明変数の分布の可視化（今回は省略）\n",
    " - **目的変数との相関関係の可視化** （重要な説明変数・異常な説明変数の識別のため）"
   ]
  },
  {
   "cell_type": "code",
   "execution_count": 11,
   "metadata": {
    "scrolled": true
   },
   "outputs": [
    {
     "data": {
      "image/png": "[encoded data removed]",
      "text/plain": [
       "<Figure size 1296x864 with 8 Axes>"
      ]
     },
     "metadata": {},
     "output_type": "display_data"
    }
   ],
   "source": [
    "# 目的変数との相関関係の可視化（\n",
    "fig = plt.figure(figsize=(18,12))\n",
    "for i, name in enumerate(names_ord + names_nominal):\n",
    "    ax = fig.add_subplot(3,3,i+1)\n",
    "    sns.boxplot(data=df_train2, x=name, y=name_obj)"
   ]
  },
  {
   "cell_type": "markdown",
   "metadata": {
    "slideshow": {
     "slide_type": "subslide"
    }
   },
   "source": [
    "#### データ定義（再掲）\n",
    "\n",
    "|field|content|\n",
    "|:-----:|:--------:|\n",
    "|Jusho|死亡者住所。1-Residents, 2-Intrastate Nonresidents, 3-Interstate Nonresidents, 4-Foreign Residents  |\n",
    "|Education|1-8th grade or less, 2-9~12th grade, no diploma, 3-highschool graduate or GED completed, 4-some college credit, but no degree, 5- Associate degree, 6-Bachelor's degree, 7-Masger's degree, 8-Doctorate or professional degree, 9-Unknown|\n",
    "|Sex|M-Male, F-Female|\n",
    "|Marital|S-Never married, single, M- Married, W-Widowed, D-Divorced, U-Unknown|\n",
    "|Death_Place|死亡場所。1-Hospital, impatient, 2-Hospital, outpatient, 3-Hospital, dead on arriva, 4-Decedent's home, 5-Hospice facility, 6-Nursing home, 7-Other, 9-unknown|\n",
    "|Injury|Y-Yes, N-No, U-Unknown|\n",
    "|Death_Cause|死因。1-Accident, 2-Suicide, 3-Homicide, 4-Pending investigation, 5- Could not determine, 6-Self-inflicted, 7-Natural, Blank-Not specified|\n",
    "|Disposition|葬法。B-Burial, C-Cremation, O-Other, U-Unknown|\n",
    "|**Age**|死亡時年齢 (= **目的変数**)|\n"
   ]
  },
  {
   "cell_type": "markdown",
   "metadata": {
    "slideshow": {
     "slide_type": "slide"
    }
   },
   "source": [
    "### Step2 データ前処理\n"
   ]
  },
  {
   "cell_type": "markdown",
   "metadata": {
    "slideshow": {
     "slide_type": "subslide"
    }
   },
   "source": [
    "#### 2-1 データ分割\n",
    " - あらためてデータを作成します\n",
    " - 学習用データとテストデータに分ける前に、まずX（説明変数）とy（目的変数）に分割します"
   ]
  },
  {
   "cell_type": "code",
   "execution_count": 25,
   "metadata": {
    "slideshow": {
     "slide_type": "fragment"
    }
   },
   "outputs": [],
   "source": [
    "# 説明変数/目的変数分割 （Step1で識別した欠損値補間を忘れず）\n",
    "X = df_raw[names_all].fillna({'Education' : 'U', 'Death_Cause' : 8})\n",
    "y = df_raw[name_obj]"
   ]
  },
  {
   "cell_type": "markdown",
   "metadata": {
    "slideshow": {
     "slide_type": "subslide"
    }
   },
   "source": [
    "#### 2-2 Categorical-ordinal 変数処理\n",
    "- 順序変数に変換\n",
    "- `pandas`の`factorize`関数を使用\n",
    "- 学習用データとテスト用データを別々に処理しないように注意"
   ]
  },
  {
   "cell_type": "code",
   "execution_count": 26,
   "metadata": {
    "slideshow": {
     "slide_type": "fragment"
    }
   },
   "outputs": [],
   "source": [
    "# names_ord処理 *セッション後修正。pd.mapで順番を特定するのが望ましい。(今回の設定では結果に影響なし)\n",
    "# for name in names_ord:\n",
    "#    X[name],temp = pd.factorize(X[name])\n",
    "\n",
    "X[names_ord[0]] = X[names_ord[0]].map({4:0,3:1,2:2,1:3})"
   ]
  },
  {
   "cell_type": "markdown",
   "metadata": {
    "slideshow": {
     "slide_type": "subslide"
    }
   },
   "source": [
    "#### 2-3 Categorical-nominal 変数処理\n",
    " - One-Hot Encoding (= 0-1のダミー変数を追加）\n",
    " - `pandas`の`get_dummies`関数を使用\n",
    " - 学習用データとテスト用データを別々に処理しないように注意"
   ]
  },
  {
   "cell_type": "code",
   "execution_count": 27,
   "metadata": {
    "slideshow": {
     "slide_type": "fragment"
    }
   },
   "outputs": [],
   "source": [
    "# names_nominal処理\n",
    "df_dummy = pd.get_dummies(X.astype(object)[names_nominal], drop_first=True)\n",
    "X = pd.merge(X.drop(columns=names_nominal), df_dummy, left_index=True, right_index=True)"
   ]
  },
  {
   "cell_type": "markdown",
   "metadata": {
    "slideshow": {
     "slide_type": "subslide"
    }
   },
   "source": [
    "#### 出来上がったXはこんな感じ"
   ]
  },
  {
   "cell_type": "code",
   "execution_count": 28,
   "metadata": {
    "slideshow": {
     "slide_type": "fragment"
    }
   },
   "outputs": [
    {
     "data": {
      "text/html": [
       "<div>\n",
       "<style scoped>\n",
       "    .dataframe tbody tr th:only-of-type {\n",
       "        vertical-align: middle;\n",
       "    }\n",
       "\n",
       "    .dataframe tbody tr th {\n",
       "        vertical-align: top;\n",
       "    }\n",
       "\n",
       "    .dataframe thead th {\n",
       "        text-align: right;\n",
       "    }\n",
       "</style>\n",
       "<table border=\"1\" class=\"dataframe\">\n",
       "  <thead>\n",
       "    <tr style=\"text-align: right;\">\n",
       "      <th></th>\n",
       "      <th>Jusho</th>\n",
       "      <th>Education_2.0</th>\n",
       "      <th>Education_3.0</th>\n",
       "      <th>Education_4.0</th>\n",
       "      <th>Education_5.0</th>\n",
       "      <th>Education_6.0</th>\n",
       "      <th>Education_7.0</th>\n",
       "      <th>Education_8.0</th>\n",
       "      <th>Education_9.0</th>\n",
       "      <th>Education_U</th>\n",
       "      <th>...</th>\n",
       "      <th>Death_Cause_4.0</th>\n",
       "      <th>Death_Cause_5.0</th>\n",
       "      <th>Death_Cause_7.0</th>\n",
       "      <th>Death_Cause_8.0</th>\n",
       "      <th>Disposition_C</th>\n",
       "      <th>Disposition_D</th>\n",
       "      <th>Disposition_E</th>\n",
       "      <th>Disposition_O</th>\n",
       "      <th>Disposition_R</th>\n",
       "      <th>Disposition_U</th>\n",
       "    </tr>\n",
       "  </thead>\n",
       "  <tbody>\n",
       "    <tr>\n",
       "      <th>0</th>\n",
       "      <td>3</td>\n",
       "      <td>0</td>\n",
       "      <td>0</td>\n",
       "      <td>0</td>\n",
       "      <td>1</td>\n",
       "      <td>0</td>\n",
       "      <td>0</td>\n",
       "      <td>0</td>\n",
       "      <td>0</td>\n",
       "      <td>0</td>\n",
       "      <td>...</td>\n",
       "      <td>0</td>\n",
       "      <td>0</td>\n",
       "      <td>0</td>\n",
       "      <td>1</td>\n",
       "      <td>0</td>\n",
       "      <td>0</td>\n",
       "      <td>0</td>\n",
       "      <td>0</td>\n",
       "      <td>0</td>\n",
       "      <td>0</td>\n",
       "    </tr>\n",
       "    <tr>\n",
       "      <th>1</th>\n",
       "      <td>3</td>\n",
       "      <td>0</td>\n",
       "      <td>1</td>\n",
       "      <td>0</td>\n",
       "      <td>0</td>\n",
       "      <td>0</td>\n",
       "      <td>0</td>\n",
       "      <td>0</td>\n",
       "      <td>0</td>\n",
       "      <td>0</td>\n",
       "      <td>...</td>\n",
       "      <td>0</td>\n",
       "      <td>0</td>\n",
       "      <td>1</td>\n",
       "      <td>0</td>\n",
       "      <td>1</td>\n",
       "      <td>0</td>\n",
       "      <td>0</td>\n",
       "      <td>0</td>\n",
       "      <td>0</td>\n",
       "      <td>0</td>\n",
       "    </tr>\n",
       "    <tr>\n",
       "      <th>2</th>\n",
       "      <td>3</td>\n",
       "      <td>0</td>\n",
       "      <td>1</td>\n",
       "      <td>0</td>\n",
       "      <td>0</td>\n",
       "      <td>0</td>\n",
       "      <td>0</td>\n",
       "      <td>0</td>\n",
       "      <td>0</td>\n",
       "      <td>0</td>\n",
       "      <td>...</td>\n",
       "      <td>0</td>\n",
       "      <td>0</td>\n",
       "      <td>1</td>\n",
       "      <td>0</td>\n",
       "      <td>0</td>\n",
       "      <td>0</td>\n",
       "      <td>0</td>\n",
       "      <td>0</td>\n",
       "      <td>0</td>\n",
       "      <td>0</td>\n",
       "    </tr>\n",
       "    <tr>\n",
       "      <th>3</th>\n",
       "      <td>2</td>\n",
       "      <td>1</td>\n",
       "      <td>0</td>\n",
       "      <td>0</td>\n",
       "      <td>0</td>\n",
       "      <td>0</td>\n",
       "      <td>0</td>\n",
       "      <td>0</td>\n",
       "      <td>0</td>\n",
       "      <td>0</td>\n",
       "      <td>...</td>\n",
       "      <td>0</td>\n",
       "      <td>0</td>\n",
       "      <td>1</td>\n",
       "      <td>0</td>\n",
       "      <td>0</td>\n",
       "      <td>0</td>\n",
       "      <td>0</td>\n",
       "      <td>0</td>\n",
       "      <td>0</td>\n",
       "      <td>0</td>\n",
       "    </tr>\n",
       "    <tr>\n",
       "      <th>4</th>\n",
       "      <td>3</td>\n",
       "      <td>0</td>\n",
       "      <td>0</td>\n",
       "      <td>1</td>\n",
       "      <td>0</td>\n",
       "      <td>0</td>\n",
       "      <td>0</td>\n",
       "      <td>0</td>\n",
       "      <td>0</td>\n",
       "      <td>0</td>\n",
       "      <td>...</td>\n",
       "      <td>0</td>\n",
       "      <td>0</td>\n",
       "      <td>1</td>\n",
       "      <td>0</td>\n",
       "      <td>1</td>\n",
       "      <td>0</td>\n",
       "      <td>0</td>\n",
       "      <td>0</td>\n",
       "      <td>0</td>\n",
       "      <td>0</td>\n",
       "    </tr>\n",
       "    <tr>\n",
       "      <th>5</th>\n",
       "      <td>2</td>\n",
       "      <td>0</td>\n",
       "      <td>1</td>\n",
       "      <td>0</td>\n",
       "      <td>0</td>\n",
       "      <td>0</td>\n",
       "      <td>0</td>\n",
       "      <td>0</td>\n",
       "      <td>0</td>\n",
       "      <td>0</td>\n",
       "      <td>...</td>\n",
       "      <td>0</td>\n",
       "      <td>0</td>\n",
       "      <td>1</td>\n",
       "      <td>0</td>\n",
       "      <td>0</td>\n",
       "      <td>0</td>\n",
       "      <td>0</td>\n",
       "      <td>0</td>\n",
       "      <td>0</td>\n",
       "      <td>0</td>\n",
       "    </tr>\n",
       "    <tr>\n",
       "      <th>6</th>\n",
       "      <td>3</td>\n",
       "      <td>0</td>\n",
       "      <td>1</td>\n",
       "      <td>0</td>\n",
       "      <td>0</td>\n",
       "      <td>0</td>\n",
       "      <td>0</td>\n",
       "      <td>0</td>\n",
       "      <td>0</td>\n",
       "      <td>0</td>\n",
       "      <td>...</td>\n",
       "      <td>0</td>\n",
       "      <td>0</td>\n",
       "      <td>1</td>\n",
       "      <td>0</td>\n",
       "      <td>1</td>\n",
       "      <td>0</td>\n",
       "      <td>0</td>\n",
       "      <td>0</td>\n",
       "      <td>0</td>\n",
       "      <td>0</td>\n",
       "    </tr>\n",
       "    <tr>\n",
       "      <th>7</th>\n",
       "      <td>1</td>\n",
       "      <td>0</td>\n",
       "      <td>0</td>\n",
       "      <td>1</td>\n",
       "      <td>0</td>\n",
       "      <td>0</td>\n",
       "      <td>0</td>\n",
       "      <td>0</td>\n",
       "      <td>0</td>\n",
       "      <td>0</td>\n",
       "      <td>...</td>\n",
       "      <td>0</td>\n",
       "      <td>0</td>\n",
       "      <td>0</td>\n",
       "      <td>0</td>\n",
       "      <td>1</td>\n",
       "      <td>0</td>\n",
       "      <td>0</td>\n",
       "      <td>0</td>\n",
       "      <td>0</td>\n",
       "      <td>0</td>\n",
       "    </tr>\n",
       "    <tr>\n",
       "      <th>8</th>\n",
       "      <td>2</td>\n",
       "      <td>0</td>\n",
       "      <td>0</td>\n",
       "      <td>0</td>\n",
       "      <td>0</td>\n",
       "      <td>0</td>\n",
       "      <td>0</td>\n",
       "      <td>0</td>\n",
       "      <td>0</td>\n",
       "      <td>1</td>\n",
       "      <td>...</td>\n",
       "      <td>0</td>\n",
       "      <td>0</td>\n",
       "      <td>0</td>\n",
       "      <td>0</td>\n",
       "      <td>0</td>\n",
       "      <td>0</td>\n",
       "      <td>0</td>\n",
       "      <td>0</td>\n",
       "      <td>0</td>\n",
       "      <td>1</td>\n",
       "    </tr>\n",
       "    <tr>\n",
       "      <th>9</th>\n",
       "      <td>2</td>\n",
       "      <td>0</td>\n",
       "      <td>1</td>\n",
       "      <td>0</td>\n",
       "      <td>0</td>\n",
       "      <td>0</td>\n",
       "      <td>0</td>\n",
       "      <td>0</td>\n",
       "      <td>0</td>\n",
       "      <td>0</td>\n",
       "      <td>...</td>\n",
       "      <td>0</td>\n",
       "      <td>0</td>\n",
       "      <td>1</td>\n",
       "      <td>0</td>\n",
       "      <td>0</td>\n",
       "      <td>0</td>\n",
       "      <td>0</td>\n",
       "      <td>0</td>\n",
       "      <td>0</td>\n",
       "      <td>0</td>\n",
       "    </tr>\n",
       "  </tbody>\n",
       "</table>\n",
       "<p>10 rows × 36 columns</p>\n",
       "</div>"
      ],
      "text/plain": [
       "   Jusho  Education_2.0  Education_3.0  Education_4.0  Education_5.0  \\\n",
       "0      3              0              0              0              1   \n",
       "1      3              0              1              0              0   \n",
       "2      3              0              1              0              0   \n",
       "3      2              1              0              0              0   \n",
       "4      3              0              0              1              0   \n",
       "5      2              0              1              0              0   \n",
       "6      3              0              1              0              0   \n",
       "7      1              0              0              1              0   \n",
       "8      2              0              0              0              0   \n",
       "9      2              0              1              0              0   \n",
       "\n",
       "   Education_6.0  Education_7.0  Education_8.0  Education_9.0  Education_U  \\\n",
       "0              0              0              0              0            0   \n",
       "1              0              0              0              0            0   \n",
       "2              0              0              0              0            0   \n",
       "3              0              0              0              0            0   \n",
       "4              0              0              0              0            0   \n",
       "5              0              0              0              0            0   \n",
       "6              0              0              0              0            0   \n",
       "7              0              0              0              0            0   \n",
       "8              0              0              0              0            1   \n",
       "9              0              0              0              0            0   \n",
       "\n",
       "       ...        Death_Cause_4.0  Death_Cause_5.0  Death_Cause_7.0  \\\n",
       "0      ...                      0                0                0   \n",
       "1      ...                      0                0                1   \n",
       "2      ...                      0                0                1   \n",
       "3      ...                      0                0                1   \n",
       "4      ...                      0                0                1   \n",
       "5      ...                      0                0                1   \n",
       "6      ...                      0                0                1   \n",
       "7      ...                      0                0                0   \n",
       "8      ...                      0                0                0   \n",
       "9      ...                      0                0                1   \n",
       "\n",
       "   Death_Cause_8.0  Disposition_C  Disposition_D  Disposition_E  \\\n",
       "0                1              0              0              0   \n",
       "1                0              1              0              0   \n",
       "2                0              0              0              0   \n",
       "3                0              0              0              0   \n",
       "4                0              1              0              0   \n",
       "5                0              0              0              0   \n",
       "6                0              1              0              0   \n",
       "7                0              1              0              0   \n",
       "8                0              0              0              0   \n",
       "9                0              0              0              0   \n",
       "\n",
       "   Disposition_O  Disposition_R  Disposition_U  \n",
       "0              0              0              0  \n",
       "1              0              0              0  \n",
       "2              0              0              0  \n",
       "3              0              0              0  \n",
       "4              0              0              0  \n",
       "5              0              0              0  \n",
       "6              0              0              0  \n",
       "7              0              0              0  \n",
       "8              0              0              1  \n",
       "9              0              0              0  \n",
       "\n",
       "[10 rows x 36 columns]"
      ]
     },
     "execution_count": 28,
     "metadata": {},
     "output_type": "execute_result"
    }
   ],
   "source": [
    "X.head(10)"
   ]
  },
  {
   "cell_type": "markdown",
   "metadata": {
    "slideshow": {
     "slide_type": "subslide"
    }
   },
   "source": [
    "#### 2-4 学習用データとテスト用データを分割\n",
    " - scikit-learnのtrain_test_split関数を使用"
   ]
  },
  {
   "cell_type": "code",
   "execution_count": 29,
   "metadata": {
    "slideshow": {
     "slide_type": "fragment"
    }
   },
   "outputs": [],
   "source": [
    "# scikit-learnのtrain_test_split関数で学習用データとテスト用データを分割\n",
    "X_train,  X_test, y_train, y_test = train_test_split(X, y, test_size=0.2, random_state=2018)"
   ]
  },
  {
   "cell_type": "code",
   "execution_count": 30,
   "metadata": {
    "slideshow": {
     "slide_type": "fragment"
    }
   },
   "outputs": [
    {
     "name": "stdout",
     "output_type": "stream",
     "text": [
      "(24000, 36)\n",
      "(6000, 36)\n",
      "(24000,)\n",
      "(6000,)\n"
     ]
    }
   ],
   "source": [
    "# サイズ確認\n",
    "print(X_train.shape) \n",
    "print(X_test.shape)\n",
    "print(y_train.shape)\n",
    "print(y_test.shape)"
   ]
  },
  {
   "cell_type": "code",
   "execution_count": 31,
   "metadata": {
    "slideshow": {
     "slide_type": "fragment"
    }
   },
   "outputs": [
    {
     "data": {
      "text/html": [
       "<div>\n",
       "<style scoped>\n",
       "    .dataframe tbody tr th:only-of-type {\n",
       "        vertical-align: middle;\n",
       "    }\n",
       "\n",
       "    .dataframe tbody tr th {\n",
       "        vertical-align: top;\n",
       "    }\n",
       "\n",
       "    .dataframe thead th {\n",
       "        text-align: right;\n",
       "    }\n",
       "</style>\n",
       "<table border=\"1\" class=\"dataframe\">\n",
       "  <thead>\n",
       "    <tr style=\"text-align: right;\">\n",
       "      <th></th>\n",
       "      <th>Jusho</th>\n",
       "      <th>Education_2.0</th>\n",
       "      <th>Education_3.0</th>\n",
       "      <th>Education_4.0</th>\n",
       "      <th>Education_5.0</th>\n",
       "      <th>Education_6.0</th>\n",
       "      <th>Education_7.0</th>\n",
       "      <th>Education_8.0</th>\n",
       "      <th>Education_9.0</th>\n",
       "      <th>Education_U</th>\n",
       "      <th>...</th>\n",
       "      <th>Death_Cause_4.0</th>\n",
       "      <th>Death_Cause_5.0</th>\n",
       "      <th>Death_Cause_7.0</th>\n",
       "      <th>Death_Cause_8.0</th>\n",
       "      <th>Disposition_C</th>\n",
       "      <th>Disposition_D</th>\n",
       "      <th>Disposition_E</th>\n",
       "      <th>Disposition_O</th>\n",
       "      <th>Disposition_R</th>\n",
       "      <th>Disposition_U</th>\n",
       "    </tr>\n",
       "  </thead>\n",
       "  <tbody>\n",
       "    <tr>\n",
       "      <th>22659</th>\n",
       "      <td>2</td>\n",
       "      <td>0</td>\n",
       "      <td>1</td>\n",
       "      <td>0</td>\n",
       "      <td>0</td>\n",
       "      <td>0</td>\n",
       "      <td>0</td>\n",
       "      <td>0</td>\n",
       "      <td>0</td>\n",
       "      <td>0</td>\n",
       "      <td>...</td>\n",
       "      <td>0</td>\n",
       "      <td>0</td>\n",
       "      <td>1</td>\n",
       "      <td>0</td>\n",
       "      <td>1</td>\n",
       "      <td>0</td>\n",
       "      <td>0</td>\n",
       "      <td>0</td>\n",
       "      <td>0</td>\n",
       "      <td>0</td>\n",
       "    </tr>\n",
       "    <tr>\n",
       "      <th>6618</th>\n",
       "      <td>3</td>\n",
       "      <td>1</td>\n",
       "      <td>0</td>\n",
       "      <td>0</td>\n",
       "      <td>0</td>\n",
       "      <td>0</td>\n",
       "      <td>0</td>\n",
       "      <td>0</td>\n",
       "      <td>0</td>\n",
       "      <td>0</td>\n",
       "      <td>...</td>\n",
       "      <td>0</td>\n",
       "      <td>0</td>\n",
       "      <td>1</td>\n",
       "      <td>0</td>\n",
       "      <td>1</td>\n",
       "      <td>0</td>\n",
       "      <td>0</td>\n",
       "      <td>0</td>\n",
       "      <td>0</td>\n",
       "      <td>0</td>\n",
       "    </tr>\n",
       "    <tr>\n",
       "      <th>26605</th>\n",
       "      <td>3</td>\n",
       "      <td>0</td>\n",
       "      <td>0</td>\n",
       "      <td>0</td>\n",
       "      <td>0</td>\n",
       "      <td>0</td>\n",
       "      <td>0</td>\n",
       "      <td>0</td>\n",
       "      <td>0</td>\n",
       "      <td>1</td>\n",
       "      <td>...</td>\n",
       "      <td>0</td>\n",
       "      <td>0</td>\n",
       "      <td>1</td>\n",
       "      <td>0</td>\n",
       "      <td>0</td>\n",
       "      <td>0</td>\n",
       "      <td>0</td>\n",
       "      <td>0</td>\n",
       "      <td>0</td>\n",
       "      <td>1</td>\n",
       "    </tr>\n",
       "    <tr>\n",
       "      <th>2504</th>\n",
       "      <td>3</td>\n",
       "      <td>0</td>\n",
       "      <td>0</td>\n",
       "      <td>0</td>\n",
       "      <td>0</td>\n",
       "      <td>0</td>\n",
       "      <td>0</td>\n",
       "      <td>0</td>\n",
       "      <td>0</td>\n",
       "      <td>0</td>\n",
       "      <td>...</td>\n",
       "      <td>0</td>\n",
       "      <td>0</td>\n",
       "      <td>1</td>\n",
       "      <td>0</td>\n",
       "      <td>0</td>\n",
       "      <td>0</td>\n",
       "      <td>0</td>\n",
       "      <td>0</td>\n",
       "      <td>0</td>\n",
       "      <td>0</td>\n",
       "    </tr>\n",
       "    <tr>\n",
       "      <th>1111</th>\n",
       "      <td>3</td>\n",
       "      <td>0</td>\n",
       "      <td>1</td>\n",
       "      <td>0</td>\n",
       "      <td>0</td>\n",
       "      <td>0</td>\n",
       "      <td>0</td>\n",
       "      <td>0</td>\n",
       "      <td>0</td>\n",
       "      <td>0</td>\n",
       "      <td>...</td>\n",
       "      <td>0</td>\n",
       "      <td>0</td>\n",
       "      <td>1</td>\n",
       "      <td>0</td>\n",
       "      <td>0</td>\n",
       "      <td>0</td>\n",
       "      <td>0</td>\n",
       "      <td>0</td>\n",
       "      <td>0</td>\n",
       "      <td>0</td>\n",
       "    </tr>\n",
       "    <tr>\n",
       "      <th>15716</th>\n",
       "      <td>3</td>\n",
       "      <td>0</td>\n",
       "      <td>0</td>\n",
       "      <td>0</td>\n",
       "      <td>0</td>\n",
       "      <td>0</td>\n",
       "      <td>1</td>\n",
       "      <td>0</td>\n",
       "      <td>0</td>\n",
       "      <td>0</td>\n",
       "      <td>...</td>\n",
       "      <td>0</td>\n",
       "      <td>0</td>\n",
       "      <td>0</td>\n",
       "      <td>1</td>\n",
       "      <td>0</td>\n",
       "      <td>0</td>\n",
       "      <td>0</td>\n",
       "      <td>0</td>\n",
       "      <td>0</td>\n",
       "      <td>0</td>\n",
       "    </tr>\n",
       "    <tr>\n",
       "      <th>15010</th>\n",
       "      <td>3</td>\n",
       "      <td>0</td>\n",
       "      <td>0</td>\n",
       "      <td>0</td>\n",
       "      <td>0</td>\n",
       "      <td>0</td>\n",
       "      <td>0</td>\n",
       "      <td>0</td>\n",
       "      <td>0</td>\n",
       "      <td>1</td>\n",
       "      <td>...</td>\n",
       "      <td>0</td>\n",
       "      <td>0</td>\n",
       "      <td>1</td>\n",
       "      <td>0</td>\n",
       "      <td>0</td>\n",
       "      <td>0</td>\n",
       "      <td>0</td>\n",
       "      <td>0</td>\n",
       "      <td>0</td>\n",
       "      <td>1</td>\n",
       "    </tr>\n",
       "    <tr>\n",
       "      <th>12642</th>\n",
       "      <td>3</td>\n",
       "      <td>0</td>\n",
       "      <td>1</td>\n",
       "      <td>0</td>\n",
       "      <td>0</td>\n",
       "      <td>0</td>\n",
       "      <td>0</td>\n",
       "      <td>0</td>\n",
       "      <td>0</td>\n",
       "      <td>0</td>\n",
       "      <td>...</td>\n",
       "      <td>0</td>\n",
       "      <td>0</td>\n",
       "      <td>0</td>\n",
       "      <td>0</td>\n",
       "      <td>1</td>\n",
       "      <td>0</td>\n",
       "      <td>0</td>\n",
       "      <td>0</td>\n",
       "      <td>0</td>\n",
       "      <td>0</td>\n",
       "    </tr>\n",
       "    <tr>\n",
       "      <th>1164</th>\n",
       "      <td>3</td>\n",
       "      <td>0</td>\n",
       "      <td>0</td>\n",
       "      <td>0</td>\n",
       "      <td>1</td>\n",
       "      <td>0</td>\n",
       "      <td>0</td>\n",
       "      <td>0</td>\n",
       "      <td>0</td>\n",
       "      <td>0</td>\n",
       "      <td>...</td>\n",
       "      <td>0</td>\n",
       "      <td>0</td>\n",
       "      <td>1</td>\n",
       "      <td>0</td>\n",
       "      <td>1</td>\n",
       "      <td>0</td>\n",
       "      <td>0</td>\n",
       "      <td>0</td>\n",
       "      <td>0</td>\n",
       "      <td>0</td>\n",
       "    </tr>\n",
       "    <tr>\n",
       "      <th>10374</th>\n",
       "      <td>3</td>\n",
       "      <td>1</td>\n",
       "      <td>0</td>\n",
       "      <td>0</td>\n",
       "      <td>0</td>\n",
       "      <td>0</td>\n",
       "      <td>0</td>\n",
       "      <td>0</td>\n",
       "      <td>0</td>\n",
       "      <td>0</td>\n",
       "      <td>...</td>\n",
       "      <td>0</td>\n",
       "      <td>0</td>\n",
       "      <td>1</td>\n",
       "      <td>0</td>\n",
       "      <td>1</td>\n",
       "      <td>0</td>\n",
       "      <td>0</td>\n",
       "      <td>0</td>\n",
       "      <td>0</td>\n",
       "      <td>0</td>\n",
       "    </tr>\n",
       "  </tbody>\n",
       "</table>\n",
       "<p>10 rows × 36 columns</p>\n",
       "</div>"
      ],
      "text/plain": [
       "       Jusho  Education_2.0  Education_3.0  Education_4.0  Education_5.0  \\\n",
       "22659      2              0              1              0              0   \n",
       "6618       3              1              0              0              0   \n",
       "26605      3              0              0              0              0   \n",
       "2504       3              0              0              0              0   \n",
       "1111       3              0              1              0              0   \n",
       "15716      3              0              0              0              0   \n",
       "15010      3              0              0              0              0   \n",
       "12642      3              0              1              0              0   \n",
       "1164       3              0              0              0              1   \n",
       "10374      3              1              0              0              0   \n",
       "\n",
       "       Education_6.0  Education_7.0  Education_8.0  Education_9.0  \\\n",
       "22659              0              0              0              0   \n",
       "6618               0              0              0              0   \n",
       "26605              0              0              0              0   \n",
       "2504               0              0              0              0   \n",
       "1111               0              0              0              0   \n",
       "15716              0              1              0              0   \n",
       "15010              0              0              0              0   \n",
       "12642              0              0              0              0   \n",
       "1164               0              0              0              0   \n",
       "10374              0              0              0              0   \n",
       "\n",
       "       Education_U      ...        Death_Cause_4.0  Death_Cause_5.0  \\\n",
       "22659            0      ...                      0                0   \n",
       "6618             0      ...                      0                0   \n",
       "26605            1      ...                      0                0   \n",
       "2504             0      ...                      0                0   \n",
       "1111             0      ...                      0                0   \n",
       "15716            0      ...                      0                0   \n",
       "15010            1      ...                      0                0   \n",
       "12642            0      ...                      0                0   \n",
       "1164             0      ...                      0                0   \n",
       "10374            0      ...                      0                0   \n",
       "\n",
       "       Death_Cause_7.0  Death_Cause_8.0  Disposition_C  Disposition_D  \\\n",
       "22659                1                0              1              0   \n",
       "6618                 1                0              1              0   \n",
       "26605                1                0              0              0   \n",
       "2504                 1                0              0              0   \n",
       "1111                 1                0              0              0   \n",
       "15716                0                1              0              0   \n",
       "15010                1                0              0              0   \n",
       "12642                0                0              1              0   \n",
       "1164                 1                0              1              0   \n",
       "10374                1                0              1              0   \n",
       "\n",
       "       Disposition_E  Disposition_O  Disposition_R  Disposition_U  \n",
       "22659              0              0              0              0  \n",
       "6618               0              0              0              0  \n",
       "26605              0              0              0              1  \n",
       "2504               0              0              0              0  \n",
       "1111               0              0              0              0  \n",
       "15716              0              0              0              0  \n",
       "15010              0              0              0              1  \n",
       "12642              0              0              0              0  \n",
       "1164               0              0              0              0  \n",
       "10374              0              0              0              0  \n",
       "\n",
       "[10 rows x 36 columns]"
      ]
     },
     "execution_count": 31,
     "metadata": {},
     "output_type": "execute_result"
    }
   ],
   "source": [
    "# 内容確認\n",
    "X_train.head(10)"
   ]
  },
  {
   "cell_type": "markdown",
   "metadata": {
    "slideshow": {
     "slide_type": "slide"
    }
   },
   "source": [
    "### Step3 予測モデル構築・検証\n",
    "\n",
    "\n",
    "\n"
   ]
  },
  {
   "cell_type": "markdown",
   "metadata": {
    "slideshow": {
     "slide_type": "fragment"
    }
   },
   "source": [
    "#### 今回試行する回帰モデル（再掲）\n",
    "\n",
    "|モデル|内容|使用ライブラリ|\n",
    "|:-----:|:--------:|:--------:|\n",
    "|**決定木**|ツリー状の分岐処理で最も説明力の高いものを採用|[sklearn.tree.DecisionTreeRegressor](http://scikit-learn.org/stable/modules/generated/sklearn.tree.DecisionTreeRegressor.html)|\n",
    "|**ランダムフォレスト**|複数の決定木の多数決で回帰|[sklearn.ensemble.RandomForestRegressor](http://scikit-learn.org/stable/modules/generated/sklearn.ensemble.RandomForestRegressor)|\n",
    "|**XGBoost**|勾配ブースティングによる決定木の構築|[xgboost.XGBRegressor](https://github.com/dmlc/xgboost)|\n",
    "|**k近傍法**|説明変数に最も近い教師データによる回帰|[sklearn.neighbors.KNeighborsRegressor](http://scikit-learn.org/stable/modules/generated/sklearn.neighbors.KNeighborsRegressor.html)|\n",
    "|**サポートベクターマシン**|データ分類の境界線をマージンが最小になるように定める手法|[sklearn.svm.SVR](http://scikit-learn.org/stable/modules/generated/sklearn.svm.SVR.html)\n",
    "|**多層パーセプトロン**|パーセプトロンを複数つないだ深層学習|[keras.wrappers.scikit_learn.KerasRegressor](https://keras.io/ja/scikit-learn-api/)"
   ]
  },
  {
   "cell_type": "code",
   "execution_count": 32,
   "metadata": {
    "slideshow": {
     "slide_type": "fragment"
    }
   },
   "outputs": [
    {
     "name": "stderr",
     "output_type": "stream",
     "text": [
      "/Applications/anaconda3/envs/flask/lib/python3.6/site-packages/h5py/__init__.py:36: FutureWarning: Conversion of the second argument of issubdtype from `float` to `np.floating` is deprecated. In future, it will be treated as `np.float64 == np.dtype(float).type`.\n",
      "  from ._conv import register_converters as _register_converters\n",
      "Using TensorFlow backend.\n"
     ]
    }
   ],
   "source": [
    "# 使うライブラリを一通りimport\n",
    "from sklearn.model_selection import StratifiedKFold\n",
    "from sklearn.model_selection import cross_val_score\n",
    "from sklearn.model_selection import GridSearchCV\n",
    "from sklearn.tree import DecisionTreeRegressor\n",
    "from sklearn.ensemble import RandomForestRegressor\n",
    "import os\n",
    "os.environ['KMP_DUPLICATE_LIB_OK']='True'\n",
    "from xgboost import XGBRegressor\n",
    "from sklearn.neighbors import KNeighborsRegressor\n",
    "from sklearn.svm import SVR\n",
    "from keras.models import Sequential\n",
    "from keras.layers import Dense\n",
    "from keras.wrappers.scikit_learn import KerasRegressor\n",
    "from keras.callbacks import EarlyStopping\n",
    "from sklearn.metrics import mean_squared_error"
   ]
  },
  {
   "cell_type": "markdown",
   "metadata": {
    "slideshow": {
     "slide_type": "subslide"
    }
   },
   "source": [
    "#### 3-0 モデル構築・検証方針\n",
    " - 学習用データ（24,000件）を3分割する3分割交差検証の方法を使用\n",
    " - 交差検証結果が最良のモデルにつき、テストデータに適用して妥当性を確認"
   ]
  },
  {
   "cell_type": "code",
   "execution_count": 33,
   "metadata": {
    "slideshow": {
     "slide_type": "fragment"
    }
   },
   "outputs": [],
   "source": [
    "# 3分割交差検証の分割 (sklearn.model_selection_StratifiedKFold())\n",
    "skf = StratifiedKFold(n_splits=3, random_state=0, shuffle=True)\n",
    "# 結果格納用リスト\n",
    "list_result = []"
   ]
  },
  {
   "cell_type": "markdown",
   "metadata": {
    "slideshow": {
     "slide_type": "subslide"
    }
   },
   "source": [
    "#### 3-1 決定木"
   ]
  },
  {
   "cell_type": "code",
   "execution_count": 34,
   "metadata": {
    "scrolled": true,
    "slideshow": {
     "slide_type": "fragment"
    }
   },
   "outputs": [
    {
     "name": "stderr",
     "output_type": "stream",
     "text": [
      "/Applications/anaconda3/envs/flask/lib/python3.6/site-packages/sklearn/model_selection/_split.py:605: Warning: The least populated class in y has only 1 members, which is too few. The minimum number of members in any class cannot be less than n_splits=3.\n",
      "  % (min_groups, self.n_splits)), Warning)\n"
     ]
    },
    {
     "name": "stdout",
     "output_type": "stream",
     "text": [
      "Grid scores on development set:\n",
      "0.225 (+/-0.006) for {'max_depth': 1}\n",
      "0.417 (+/-0.005) for {'max_depth': 3}\n",
      "0.460 (+/-0.007) for {'max_depth': 5}\n",
      "0.472 (+/-0.008) for {'max_depth': 10}\n",
      "Best parameters: {'max_depth': 10}\n",
      "Best cross-validation: 0.471709291774509\n"
     ]
    }
   ],
   "source": [
    "# 試行パラメータ\n",
    "param_grid = {'max_depth': [1,3,5,10]}\n",
    "# グリッドサーチ実行\n",
    "grid_search = GridSearchCV(DecisionTreeRegressor(), param_grid, cv=skf)\n",
    "grid_search.fit(X_train, y_train)\n",
    "# 結果確認\n",
    "print(\"Grid scores on development set:\")\n",
    "means = grid_search.cv_results_['mean_test_score']\n",
    "stds = grid_search.cv_results_['std_test_score']\n",
    "params = grid_search.cv_results_['params']\n",
    "for mean_test_score, std_test_score, params in zip(means, stds, params):\n",
    "    print(\"%0.3f (+/-%0.03f) for %r\"\n",
    "          % (mean_test_score,  std_test_score, params))\n",
    "    list_result.append(['DecisionTree', mean_test_score,  std_test_score, params])    \n",
    "print('Best parameters: {}'.format(grid_search.best_params_))\n",
    "print('Best cross-validation: {}'.format(grid_search.best_score_))"
   ]
  },
  {
   "cell_type": "markdown",
   "metadata": {
    "slideshow": {
     "slide_type": "subslide"
    }
   },
   "source": [
    "#### 3-2 ランダムフォレスト"
   ]
  },
  {
   "cell_type": "code",
   "execution_count": 35,
   "metadata": {
    "slideshow": {
     "slide_type": "fragment"
    }
   },
   "outputs": [
    {
     "name": "stderr",
     "output_type": "stream",
     "text": [
      "/Applications/anaconda3/envs/flask/lib/python3.6/site-packages/sklearn/model_selection/_split.py:605: Warning: The least populated class in y has only 1 members, which is too few. The minimum number of members in any class cannot be less than n_splits=3.\n",
      "  % (min_groups, self.n_splits)), Warning)\n"
     ]
    },
    {
     "name": "stdout",
     "output_type": "stream",
     "text": [
      "Grid scores on development set:\n",
      "0.445 (+/-0.012) for {'n_estimators': 10}\n",
      "0.453 (+/-0.010) for {'n_estimators': 20}\n",
      "0.456 (+/-0.010) for {'n_estimators': 100}\n",
      "Best parameters: {'n_estimators': 100}\n",
      "Best cross-validation: 0.456203823796403\n"
     ]
    }
   ],
   "source": [
    "# 試行パラメータ\n",
    "param_grid = {'n_estimators': [10,20,100]}\n",
    "# グリッドサーチ実行\n",
    "grid_search = GridSearchCV(RandomForestRegressor(), param_grid, cv=skf)\n",
    "grid_search.fit(X_train, y_train)\n",
    "# 結果確認\n",
    "print(\"Grid scores on development set:\")\n",
    "means = grid_search.cv_results_['mean_test_score']\n",
    "stds = grid_search.cv_results_['std_test_score']\n",
    "params = grid_search.cv_results_['params']\n",
    "for mean_test_score, std_test_score, params in zip(means, stds, params):\n",
    "    print(\"%0.3f (+/-%0.03f) for %r\"\n",
    "          % (mean_test_score,  std_test_score, params))\n",
    "    list_result.append(['RandomForest', mean_test_score,  std_test_score, params])    \n",
    "print('Best parameters: {}'.format(grid_search.best_params_))\n",
    "print('Best cross-validation: {}'.format(grid_search.best_score_))"
   ]
  },
  {
   "cell_type": "markdown",
   "metadata": {
    "slideshow": {
     "slide_type": "subslide"
    }
   },
   "source": [
    "#### 3-3 XGB\n"
   ]
  },
  {
   "cell_type": "code",
   "execution_count": 36,
   "metadata": {
    "slideshow": {
     "slide_type": "fragment"
    }
   },
   "outputs": [
    {
     "name": "stderr",
     "output_type": "stream",
     "text": [
      "/Applications/anaconda3/envs/flask/lib/python3.6/site-packages/sklearn/model_selection/_split.py:605: Warning: The least populated class in y has only 1 members, which is too few. The minimum number of members in any class cannot be less than n_splits=3.\n",
      "  % (min_groups, self.n_splits)), Warning)\n"
     ]
    },
    {
     "name": "stdout",
     "output_type": "stream",
     "text": [
      "Grid scores on development set:\n",
      "0.494 (+/-0.005) for {}\n",
      "Best parameters: {}\n",
      "Best cross-validation: 0.4944108444793055\n"
     ]
    }
   ],
   "source": [
    "# 試行パラメータ\n",
    "param_grid = {}\n",
    "# グリッドサーチ実行\n",
    "grid_search = GridSearchCV(XGBRegressor(), param_grid, cv=skf)\n",
    "grid_search.fit(X_train, y_train)\n",
    "# 結果確認\n",
    "print(\"Grid scores on development set:\")\n",
    "means = grid_search.cv_results_['mean_test_score']\n",
    "stds = grid_search.cv_results_['std_test_score']\n",
    "params = grid_search.cv_results_['params']\n",
    "for mean_test_score, std_test_score, params in zip(means, stds, params):\n",
    "    print(\"%0.3f (+/-%0.03f) for %r\"\n",
    "          % (mean_test_score,  std_test_score, params))\n",
    "    list_result.append(['XGB', mean_test_score,  std_test_score, params])    \n",
    "print('Best parameters: {}'.format(grid_search.best_params_))\n",
    "print('Best cross-validation: {}'.format(grid_search.best_score_))"
   ]
  },
  {
   "cell_type": "markdown",
   "metadata": {
    "slideshow": {
     "slide_type": "subslide"
    }
   },
   "source": [
    "#### 3-4 K近傍法\n",
    "\n"
   ]
  },
  {
   "cell_type": "code",
   "execution_count": 37,
   "metadata": {
    "slideshow": {
     "slide_type": "fragment"
    }
   },
   "outputs": [
    {
     "name": "stderr",
     "output_type": "stream",
     "text": [
      "/Applications/anaconda3/envs/flask/lib/python3.6/site-packages/sklearn/model_selection/_split.py:605: Warning: The least populated class in y has only 1 members, which is too few. The minimum number of members in any class cannot be less than n_splits=3.\n",
      "  % (min_groups, self.n_splits)), Warning)\n"
     ]
    },
    {
     "name": "stdout",
     "output_type": "stream",
     "text": [
      "Grid scores on development set:\n",
      "0.063 (+/-0.013) for {'n_neighbors': 1}\n",
      "0.284 (+/-0.012) for {'n_neighbors': 2}\n",
      "0.361 (+/-0.009) for {'n_neighbors': 3}\n",
      "Best parameters: {'n_neighbors': 3}\n",
      "Best cross-validation: 0.36093663264332654\n"
     ]
    }
   ],
   "source": [
    "# 試行パラメータ\n",
    "param_grid = {'n_neighbors': [1,2,3]}\n",
    "# グリッドサーチ実行\n",
    "grid_search = GridSearchCV(KNeighborsRegressor(), param_grid, cv=skf)\n",
    "grid_search.fit(X_train, y_train)\n",
    "# 結果確認\n",
    "print(\"Grid scores on development set:\")\n",
    "means = grid_search.cv_results_['mean_test_score']\n",
    "stds = grid_search.cv_results_['std_test_score']\n",
    "params = grid_search.cv_results_['params']\n",
    "for mean_test_score, std_test_score, params in zip(means, stds, params):\n",
    "    print(\"%0.3f (+/-%0.03f) for %r\"\n",
    "          % (mean_test_score,  std_test_score, params))\n",
    "    list_result.append(['KNeibors', mean_test_score,  std_test_score, params])    \n",
    "print('Best parameters: {}'.format(grid_search.best_params_))\n",
    "print('Best cross-validation: {}'.format(grid_search.best_score_))"
   ]
  },
  {
   "cell_type": "markdown",
   "metadata": {
    "slideshow": {
     "slide_type": "subslide"
    }
   },
   "source": [
    "#### 3-5 Support Vector Machine (SVM)"
   ]
  },
  {
   "cell_type": "code",
   "execution_count": 39,
   "metadata": {
    "slideshow": {
     "slide_type": "fragment"
    }
   },
   "outputs": [
    {
     "name": "stderr",
     "output_type": "stream",
     "text": [
      "/Applications/anaconda3/envs/flask/lib/python3.6/site-packages/sklearn/model_selection/_split.py:605: Warning: The least populated class in y has only 1 members, which is too few. The minimum number of members in any class cannot be less than n_splits=3.\n",
      "  % (min_groups, self.n_splits)), Warning)\n"
     ]
    },
    {
     "name": "stdout",
     "output_type": "stream",
     "text": [
      "Grid scores on development set:\n",
      "0.451 (+/-0.005) for {'C': 1}\n",
      "Best parameters: {'C': 1}\n",
      "Best cross-validation: 0.45139022297976916\n"
     ]
    }
   ],
   "source": [
    "# 試行パラメータ\n",
    "param_grid = {'C': [1]}\n",
    "# グリッドサーチ実行\n",
    "grid_search = GridSearchCV(SVR(), param_grid, cv=skf)\n",
    "grid_search.fit(X_train, y_train)\n",
    "# 結果確認\n",
    "print(\"Grid scores on development set:\")\n",
    "means = grid_search.cv_results_['mean_test_score']\n",
    "stds = grid_search.cv_results_['std_test_score']\n",
    "params = grid_search.cv_results_['params']\n",
    "for mean_test_score, std_test_score, params in zip(means, stds, params):\n",
    "    print(\"%0.3f (+/-%0.03f) for %r\"\n",
    "          % (mean_test_score,  std_test_score, params))\n",
    "    list_result.append(['SVM', mean_test_score,  std_test_score, params])    \n",
    "print('Best parameters: {}'.format(grid_search.best_params_))\n",
    "print('Best cross-validation: {}'.format(grid_search.best_score_))"
   ]
  },
  {
   "cell_type": "markdown",
   "metadata": {
    "slideshow": {
     "slide_type": "subslide"
    }
   },
   "source": [
    "#### 3-6 モデル比較\n",
    " - 結果を並べてみましょう"
   ]
  },
  {
   "cell_type": "code",
   "execution_count": 40,
   "metadata": {
    "slideshow": {
     "slide_type": "fragment"
    }
   },
   "outputs": [
    {
     "name": "stdout",
     "output_type": "stream",
     "text": [
      "['DecisionTree', 0.22540635832156067, 0.005791384323446243, {'max_depth': 1}]\n",
      "['DecisionTree', 0.416780989930873, 0.0047376571201414065, {'max_depth': 3}]\n",
      "['DecisionTree', 0.4602363036146241, 0.006938319290817361, {'max_depth': 5}]\n",
      "['DecisionTree', 0.471709291774509, 0.007958166514588768, {'max_depth': 10}]\n",
      "['RandomForest', 0.4452237788180162, 0.01187403664272697, {'n_estimators': 10}]\n",
      "['RandomForest', 0.4528084132971014, 0.01020264880545644, {'n_estimators': 20}]\n",
      "['RandomForest', 0.456203823796403, 0.009964539579515925, {'n_estimators': 100}]\n",
      "['XGB', 0.4944108444793055, 0.005363634854488307, {}]\n",
      "['KNeibors', 0.06342632152347956, 0.013183606291262211, {'n_neighbors': 1}]\n",
      "['KNeibors', 0.2844650579246406, 0.012440798905376197, {'n_neighbors': 2}]\n",
      "['KNeibors', 0.36093663264332654, 0.00926344217598509, {'n_neighbors': 3}]\n",
      "['SVM', 0.45139022297976916, 0.005154078255022838, {'C': 1}]\n"
     ]
    }
   ],
   "source": [
    "for result in list_result:\n",
    "    print(result)"
   ]
  },
  {
   "cell_type": "markdown",
   "metadata": {
    "slideshow": {
     "slide_type": "fragment"
    }
   },
   "source": [
    "今回の最適モデルはXGB（パラメータ設定なし）"
   ]
  },
  {
   "cell_type": "markdown",
   "metadata": {
    "slideshow": {
     "slide_type": "slide"
    }
   },
   "source": [
    "### Step4 最適モデルによる予測\n",
    " - 選択したモデルをテストデータに適用し、妥当性をチェック"
   ]
  },
  {
   "cell_type": "code",
   "execution_count": 41,
   "metadata": {
    "slideshow": {
     "slide_type": "fragment"
    }
   },
   "outputs": [],
   "source": [
    "# 最適モデル構築\n",
    "clf = XGBRegressor()\n",
    "clf.fit(X_train, y_train)\n",
    "# 最適モデルによるテストデータ予測\n",
    "result = pd.DataFrame(clf.predict(X_test), columns=['result'])"
   ]
  },
  {
   "cell_type": "code",
   "execution_count": 42,
   "metadata": {
    "slideshow": {
     "slide_type": "subslide"
    }
   },
   "outputs": [
    {
     "data": {
      "text/html": [
       "<div>\n",
       "<style scoped>\n",
       "    .dataframe tbody tr th:only-of-type {\n",
       "        vertical-align: middle;\n",
       "    }\n",
       "\n",
       "    .dataframe tbody tr th {\n",
       "        vertical-align: top;\n",
       "    }\n",
       "\n",
       "    .dataframe thead th {\n",
       "        text-align: right;\n",
       "    }\n",
       "</style>\n",
       "<table border=\"1\" class=\"dataframe\">\n",
       "  <thead>\n",
       "    <tr style=\"text-align: right;\">\n",
       "      <th></th>\n",
       "      <th>Jusho</th>\n",
       "      <th>Education</th>\n",
       "      <th>Sex</th>\n",
       "      <th>Marital</th>\n",
       "      <th>Death_Place</th>\n",
       "      <th>Injury</th>\n",
       "      <th>Death_Cause</th>\n",
       "      <th>Disposition</th>\n",
       "      <th>Month</th>\n",
       "      <th>Week</th>\n",
       "      <th>Age</th>\n",
       "      <th>result</th>\n",
       "    </tr>\n",
       "  </thead>\n",
       "  <tbody>\n",
       "    <tr>\n",
       "      <th>0</th>\n",
       "      <td>1</td>\n",
       "      <td>3.0</td>\n",
       "      <td>M</td>\n",
       "      <td>M</td>\n",
       "      <td>4</td>\n",
       "      <td>U</td>\n",
       "      <td>7.0</td>\n",
       "      <td>C</td>\n",
       "      <td>3</td>\n",
       "      <td>5</td>\n",
       "      <td>65</td>\n",
       "      <td>70.882561</td>\n",
       "    </tr>\n",
       "    <tr>\n",
       "      <th>1</th>\n",
       "      <td>1</td>\n",
       "      <td>3.0</td>\n",
       "      <td>M</td>\n",
       "      <td>M</td>\n",
       "      <td>4</td>\n",
       "      <td>U</td>\n",
       "      <td>7.0</td>\n",
       "      <td>C</td>\n",
       "      <td>10</td>\n",
       "      <td>2</td>\n",
       "      <td>71</td>\n",
       "      <td>70.882561</td>\n",
       "    </tr>\n",
       "    <tr>\n",
       "      <th>2</th>\n",
       "      <td>2</td>\n",
       "      <td>4.0</td>\n",
       "      <td>F</td>\n",
       "      <td>W</td>\n",
       "      <td>1</td>\n",
       "      <td>U</td>\n",
       "      <td>7.0</td>\n",
       "      <td>B</td>\n",
       "      <td>2</td>\n",
       "      <td>2</td>\n",
       "      <td>92</td>\n",
       "      <td>83.374397</td>\n",
       "    </tr>\n",
       "    <tr>\n",
       "      <th>3</th>\n",
       "      <td>1</td>\n",
       "      <td>2.0</td>\n",
       "      <td>F</td>\n",
       "      <td>W</td>\n",
       "      <td>6</td>\n",
       "      <td>U</td>\n",
       "      <td>NaN</td>\n",
       "      <td>B</td>\n",
       "      <td>3</td>\n",
       "      <td>3</td>\n",
       "      <td>85</td>\n",
       "      <td>89.190331</td>\n",
       "    </tr>\n",
       "    <tr>\n",
       "      <th>4</th>\n",
       "      <td>1</td>\n",
       "      <td>3.0</td>\n",
       "      <td>M</td>\n",
       "      <td>D</td>\n",
       "      <td>4</td>\n",
       "      <td>U</td>\n",
       "      <td>7.0</td>\n",
       "      <td>B</td>\n",
       "      <td>9</td>\n",
       "      <td>5</td>\n",
       "      <td>78</td>\n",
       "      <td>69.584740</td>\n",
       "    </tr>\n",
       "    <tr>\n",
       "      <th>5</th>\n",
       "      <td>2</td>\n",
       "      <td>1.0</td>\n",
       "      <td>M</td>\n",
       "      <td>S</td>\n",
       "      <td>1</td>\n",
       "      <td>U</td>\n",
       "      <td>7.0</td>\n",
       "      <td>C</td>\n",
       "      <td>1</td>\n",
       "      <td>7</td>\n",
       "      <td>1</td>\n",
       "      <td>45.746117</td>\n",
       "    </tr>\n",
       "    <tr>\n",
       "      <th>6</th>\n",
       "      <td>1</td>\n",
       "      <td>3.0</td>\n",
       "      <td>F</td>\n",
       "      <td>D</td>\n",
       "      <td>4</td>\n",
       "      <td>U</td>\n",
       "      <td>7.0</td>\n",
       "      <td>C</td>\n",
       "      <td>12</td>\n",
       "      <td>3</td>\n",
       "      <td>62</td>\n",
       "      <td>68.838593</td>\n",
       "    </tr>\n",
       "    <tr>\n",
       "      <th>7</th>\n",
       "      <td>1</td>\n",
       "      <td>6.0</td>\n",
       "      <td>M</td>\n",
       "      <td>M</td>\n",
       "      <td>4</td>\n",
       "      <td>U</td>\n",
       "      <td>7.0</td>\n",
       "      <td>C</td>\n",
       "      <td>5</td>\n",
       "      <td>7</td>\n",
       "      <td>54</td>\n",
       "      <td>73.435707</td>\n",
       "    </tr>\n",
       "    <tr>\n",
       "      <th>8</th>\n",
       "      <td>1</td>\n",
       "      <td>5.0</td>\n",
       "      <td>M</td>\n",
       "      <td>M</td>\n",
       "      <td>5</td>\n",
       "      <td>U</td>\n",
       "      <td>7.0</td>\n",
       "      <td>C</td>\n",
       "      <td>9</td>\n",
       "      <td>5</td>\n",
       "      <td>45</td>\n",
       "      <td>72.667107</td>\n",
       "    </tr>\n",
       "    <tr>\n",
       "      <th>9</th>\n",
       "      <td>1</td>\n",
       "      <td>1.0</td>\n",
       "      <td>F</td>\n",
       "      <td>M</td>\n",
       "      <td>1</td>\n",
       "      <td>U</td>\n",
       "      <td>7.0</td>\n",
       "      <td>C</td>\n",
       "      <td>4</td>\n",
       "      <td>2</td>\n",
       "      <td>45</td>\n",
       "      <td>69.194801</td>\n",
       "    </tr>\n",
       "  </tbody>\n",
       "</table>\n",
       "</div>"
      ],
      "text/plain": [
       "   Jusho  Education Sex Marital  Death_Place Injury  Death_Cause Disposition  \\\n",
       "0      1        3.0   M       M            4      U          7.0           C   \n",
       "1      1        3.0   M       M            4      U          7.0           C   \n",
       "2      2        4.0   F       W            1      U          7.0           B   \n",
       "3      1        2.0   F       W            6      U          NaN           B   \n",
       "4      1        3.0   M       D            4      U          7.0           B   \n",
       "5      2        1.0   M       S            1      U          7.0           C   \n",
       "6      1        3.0   F       D            4      U          7.0           C   \n",
       "7      1        6.0   M       M            4      U          7.0           C   \n",
       "8      1        5.0   M       M            5      U          7.0           C   \n",
       "9      1        1.0   F       M            1      U          7.0           C   \n",
       "\n",
       "   Month  Week  Age     result  \n",
       "0      3     5   65  70.882561  \n",
       "1     10     2   71  70.882561  \n",
       "2      2     2   92  83.374397  \n",
       "3      3     3   85  89.190331  \n",
       "4      9     5   78  69.584740  \n",
       "5      1     7    1  45.746117  \n",
       "6     12     3   62  68.838593  \n",
       "7      5     7   54  73.435707  \n",
       "8      9     5   45  72.667107  \n",
       "9      4     2   45  69.194801  "
      ]
     },
     "execution_count": 42,
     "metadata": {},
     "output_type": "execute_result"
    }
   ],
   "source": [
    "# テストデータ予測結果を結合\n",
    "results = pd.concat([df_test.reset_index(drop=True),result],axis=1)\n",
    "results.head(10)"
   ]
  },
  {
   "cell_type": "markdown",
   "metadata": {
    "slideshow": {
     "slide_type": "subslide"
    }
   },
   "source": [
    "#### テストデータ予測結果の可視化"
   ]
  },
  {
   "cell_type": "code",
   "execution_count": 43,
   "metadata": {
    "slideshow": {
     "slide_type": "fragment"
    }
   },
   "outputs": [
    {
     "name": "stderr",
     "output_type": "stream",
     "text": [
      "/Applications/anaconda3/envs/flask/lib/python3.6/site-packages/matplotlib/axes/_axes.py:6462: UserWarning: The 'normed' kwarg is deprecated, and has been replaced by the 'density' kwarg.\n",
      "  warnings.warn(\"The 'normed' kwarg is deprecated, and has been \"\n",
      "/Applications/anaconda3/envs/flask/lib/python3.6/site-packages/matplotlib/axes/_axes.py:6462: UserWarning: The 'normed' kwarg is deprecated, and has been replaced by the 'density' kwarg.\n",
      "  warnings.warn(\"The 'normed' kwarg is deprecated, and has been \"\n"
     ]
    },
    {
     "data": {
      "text/plain": [
       "<seaborn.axisgrid.JointGrid at 0x1a32ddaac8>"
      ]
     },
     "execution_count": 43,
     "metadata": {},
     "output_type": "execute_result"
    },
    {
     "data": {
      "image/png": "[encoded data removed]",
      "text/plain": [
       "<Figure size 432x432 with 3 Axes>"
      ]
     },
     "metadata": {},
     "output_type": "display_data"
    }
   ],
   "source": [
    "# seabornのjointplot関数で散布図を確認\n",
    "sns.jointplot(name_obj,'result', data=results, kind='reg')"
   ]
  },
  {
   "cell_type": "code",
   "execution_count": 44,
   "metadata": {
    "slideshow": {
     "slide_type": "subslide"
    }
   },
   "outputs": [
    {
     "data": {
      "text/plain": [
       "<seaborn.axisgrid.PairGrid at 0x1a23de15f8>"
      ]
     },
     "execution_count": 44,
     "metadata": {},
     "output_type": "execute_result"
    },
    {
     "data": {
      "image/png": "[encoded data removed]",
      "text/plain": [
       "<Figure size 404.375x360 with 6 Axes>"
      ]
     },
     "metadata": {},
     "output_type": "display_data"
    }
   ],
   "source": [
    "# 特定の説明変数で色分けした散布図も確認可能（seaborn.pairplotが便利）\n",
    "sns.pairplot(results[[name_obj,'result', 'Sex']], hue='Sex')"
   ]
  },
  {
   "cell_type": "code",
   "execution_count": 45,
   "metadata": {
    "slideshow": {
     "slide_type": "subslide"
    }
   },
   "outputs": [
    {
     "data": {
      "text/plain": [
       "<seaborn.axisgrid.PairGrid at 0x1a32e45d68>"
      ]
     },
     "execution_count": 45,
     "metadata": {},
     "output_type": "execute_result"
    },
    {
     "data": {
      "image/png": "[encoded data removed]",
      "text/plain": [
       "<Figure size 581.625x540 with 12 Axes>"
      ]
     },
     "metadata": {},
     "output_type": "display_data"
    }
   ],
   "source": [
    "sns.pairplot(results[[name_obj,'result', 'Jusho']], hue='Jusho')"
   ]
  }
 ],
 "metadata": {
  "celltoolbar": "Slideshow",
  "kernelspec": {
   "display_name": "Python 3",
   "language": "python",
   "name": "python3"
  },
  "language_info": {
   "codemirror_mode": {
    "name": "ipython",
    "version": 3
   },
   "file_extension": ".py",
   "mimetype": "text/x-python",
   "name": "python",
   "nbconvert_exporter": "python",
   "pygments_lexer": "ipython3",
   "version": "3.6.5"
  }
 },
 "nbformat": 4,
 "nbformat_minor": 2
}
